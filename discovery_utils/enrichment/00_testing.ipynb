{
 "cells": [
  {
   "cell_type": "code",
   "execution_count": 1,
   "metadata": {},
   "outputs": [],
   "source": [
    "from discovery_utils import PROJECT_DIR\n",
    "from discovery_utils.enrichment import crunchbase\n",
    "\n",
    "import pandas as pd\n",
    "\n",
    "import importlib\n",
    "importlib.reload(crunchbase);\n"
   ]
  },
  {
   "cell_type": "code",
   "execution_count": 2,
   "metadata": {},
   "outputs": [],
   "source": [
    "DATA_DIR = PROJECT_DIR / \"src/enrichment\"\n",
    "organisations = pd.read_parquet(DATA_DIR / \"organizations.parquet\")\n",
    "funding_rounds = pd.read_parquet(DATA_DIR / \"funding_rounds.parquet\")\n",
    "investments = pd.read_parquet(DATA_DIR / \"investments.parquet\")\n",
    "investors = pd.read_parquet(DATA_DIR / \"investors.parquet\")\n",
    "organisation_descriptions = pd.read_parquet(DATA_DIR / \"organization_descriptions.parquet\")"
   ]
  },
  {
   "cell_type": "code",
   "execution_count": 3,
   "metadata": {},
   "outputs": [],
   "source": [
    "funding_rounds_enriched = crunchbase.enrich_funding_rounds(\n",
    "        funding_rounds,\n",
    "        investments,\n",
    "        investors,\n",
    "    )\n"
   ]
  },
  {
   "cell_type": "code",
   "execution_count": 4,
   "metadata": {},
   "outputs": [],
   "source": [
    "# Testing\n",
    "organisation_ids = organisations.sample(1000).id.unique()"
   ]
  },
  {
   "cell_type": "code",
   "execution_count": 5,
   "metadata": {},
   "outputs": [],
   "source": [
    "organisations_enriched = crunchbase.enrich_organisations(\n",
    "        organisations,\n",
    "        funding_rounds_enriched,\n",
    "        organisation_descriptions,\n",
    "        organisation_ids=organisation_ids,\n",
    "        enrich_labels = True,\n",
    "    )"
   ]
  },
  {
   "cell_type": "markdown",
   "metadata": {},
   "source": [
    "## Check and save the full dataset"
   ]
  },
  {
   "cell_type": "code",
   "execution_count": 6,
   "metadata": {},
   "outputs": [],
   "source": [
    "organisations_enriched = crunchbase.enrich_organisations(\n",
    "        organisations,\n",
    "        funding_rounds_enriched,\n",
    "        organisation_descriptions,\n",
    "        enrich_labels=True,\n",
    "    )"
   ]
  },
  {
   "cell_type": "code",
   "execution_count": null,
   "metadata": {},
   "outputs": [],
   "source": [
    "organisations_enriched.to_parquet(DATA_DIR / \"organisations_enriched.parquet\")\n",
    "funding_rounds_enriched.to_parquet(DATA_DIR / \"funding_rounds_enriched.parquet\")"
   ]
  }
 ],
 "metadata": {
  "kernelspec": {
   "display_name": ".venv",
   "language": "python",
   "name": "python3"
  },
  "language_info": {
   "codemirror_mode": {
    "name": "ipython",
    "version": 3
   },
   "file_extension": ".py",
   "mimetype": "text/x-python",
   "name": "python",
   "nbconvert_exporter": "python",
   "pygments_lexer": "ipython3",
   "version": "3.11.9"
  }
 },
 "nbformat": 4,
 "nbformat_minor": 2
}
