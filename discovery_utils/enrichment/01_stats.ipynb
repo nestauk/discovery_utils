{
 "cells": [
  {
   "cell_type": "code",
   "execution_count": 43,
   "metadata": {},
   "outputs": [],
   "source": [
    "import pandas as pd\n",
    "from discovery_utils import PROJECT_DIR\n",
    "from discovery_utils.utils import google\n",
    "from discovery_utils.enrichment import crunchbase\n",
    "import os\n",
    "\n",
    "DATA_DIR = PROJECT_DIR / \"src/enrichment\"\n"
   ]
  },
  {
   "cell_type": "code",
   "execution_count": 27,
   "metadata": {},
   "outputs": [],
   "source": [
    "def get_category_taxonomy() -> pd.DataFrame:\n",
    "    \"\"\"Get the category taxonomy from the Google Sheet and return it as a DataFrame.\"\"\"\n",
    "    taxonomy_df = []\n",
    "    for mission in [\"ASF\", \"AHL\", \"AFS\", \"X\"]:\n",
    "        taxonomy_df.append(\n",
    "            google.access_google_sheet(os.environ[\"SHEET_ID_KEYWORDS\"], mission)\n",
    "            .drop_duplicates(subset=[\"Category\", \"Subcategory\"])\n",
    "            .assign(Mission=mission)\n",
    "        )\n",
    "        \n",
    "    taxonomy_df = (\n",
    "        pd.concat(taxonomy_df, ignore_index=True)\n",
    "        .sort_values([\"Mission\", \"Category\", \"Subcategory\"])\n",
    "        [[\"Mission\", \"Category\", \"Subcategory\", \"Core\"]]\n",
    "    )\n",
    "\n",
    "    # Remove rows where Category contains \"general terms\"\n",
    "    return taxonomy_df[~taxonomy_df[\"Category\"].str.contains(\"general terms\")]    "
   ]
  },
  {
   "cell_type": "code",
   "execution_count": 28,
   "metadata": {},
   "outputs": [],
   "source": [
    "taxonomy_df = get_category_taxonomy()"
   ]
  },
  {
   "cell_type": "code",
   "execution_count": 62,
   "metadata": {},
   "outputs": [
    {
     "data": {
      "text/html": [
       "<div>\n",
       "<style scoped>\n",
       "    .dataframe tbody tr th:only-of-type {\n",
       "        vertical-align: middle;\n",
       "    }\n",
       "\n",
       "    .dataframe tbody tr th {\n",
       "        vertical-align: top;\n",
       "    }\n",
       "\n",
       "    .dataframe thead th {\n",
       "        text-align: right;\n",
       "    }\n",
       "</style>\n",
       "<table border=\"1\" class=\"dataframe\">\n",
       "  <thead>\n",
       "    <tr style=\"text-align: right;\">\n",
       "      <th></th>\n",
       "      <th>Mission</th>\n",
       "      <th>Category</th>\n",
       "      <th>Subcategory</th>\n",
       "      <th>Core</th>\n",
       "    </tr>\n",
       "  </thead>\n",
       "  <tbody>\n",
       "    <tr>\n",
       "      <th>44</th>\n",
       "      <td>AFS</td>\n",
       "      <td>Content</td>\n",
       "      <td>Content</td>\n",
       "      <td>core</td>\n",
       "    </tr>\n",
       "    <tr>\n",
       "      <th>45</th>\n",
       "      <td>AFS</td>\n",
       "      <td>Delivery of childcare</td>\n",
       "      <td>Child care</td>\n",
       "      <td>core</td>\n",
       "    </tr>\n",
       "    <tr>\n",
       "      <th>46</th>\n",
       "      <td>AFS</td>\n",
       "      <td>Delivery of childcare</td>\n",
       "      <td>Preschool</td>\n",
       "      <td>core</td>\n",
       "    </tr>\n",
       "    <tr>\n",
       "      <th>47</th>\n",
       "      <td>AFS</td>\n",
       "      <td>Development</td>\n",
       "      <td>Cognitive</td>\n",
       "      <td>core</td>\n",
       "    </tr>\n",
       "    <tr>\n",
       "      <th>48</th>\n",
       "      <td>AFS</td>\n",
       "      <td>Development</td>\n",
       "      <td>Communication and language</td>\n",
       "      <td>core</td>\n",
       "    </tr>\n",
       "  </tbody>\n",
       "</table>\n",
       "</div>"
      ],
      "text/plain": [
       "   Mission               Category                  Subcategory  Core\n",
       "44     AFS                Content                      Content  core\n",
       "45     AFS  Delivery of childcare                   Child care  core\n",
       "46     AFS  Delivery of childcare                    Preschool  core\n",
       "47     AFS            Development                    Cognitive  core\n",
       "48     AFS            Development  Communication and language   core"
      ]
     },
     "execution_count": 62,
     "metadata": {},
     "output_type": "execute_result"
    }
   ],
   "source": [
    "taxonomy_df.head(5)"
   ]
  },
  {
   "cell_type": "code",
   "execution_count": null,
   "metadata": {},
   "outputs": [],
   "source": [
    "organisations_enriched = pd.read_parquet(DATA_DIR / \"organisations_enriched.parquet\")\n",
    "funding_rounds_enriched = pd.read_parquet(DATA_DIR / \"funding_rounds_enriched.parquet\")"
   ]
  },
  {
   "cell_type": "markdown",
   "metadata": {},
   "source": [
    "## Check investment opportunity threshold"
   ]
  },
  {
   "cell_type": "code",
   "execution_count": 74,
   "metadata": {},
   "outputs": [
    {
     "data": {
      "text/plain": [
       "array(0.50118723)"
      ]
     },
     "execution_count": 74,
     "metadata": {},
     "output_type": "execute_result"
    }
   ],
   "source": [
    "crunchbase._step_function_decay(13, 10)"
   ]
  },
  {
   "cell_type": "markdown",
   "metadata": {},
   "source": [
    "## Labels\n",
    "- Overall number of companies\n",
    "- Number of companies in the UK and in the geo scope\n",
    "- Number of companies that are investment opportunities (UK, foreign)"
   ]
  },
  {
   "cell_type": "code",
   "execution_count": 32,
   "metadata": {},
   "outputs": [
    {
     "data": {
      "text/plain": [
       "Index(['id', 'name', 'type', 'permalink', 'cb_url', 'rank', 'created_at',\n",
       "       'updated_at', 'legal_name', 'roles', 'domain', 'homepage_url',\n",
       "       'country_code', 'state_code', 'region', 'city', 'address',\n",
       "       'postal_code', 'status', 'short_description', 'category_list',\n",
       "       'category_groups_list', 'num_funding_rounds', 'total_funding_usd',\n",
       "       'total_funding', 'total_funding_currency_code', 'founded_on',\n",
       "       'last_funding_on', 'closed_on', 'employee_count', 'email', 'phone',\n",
       "       'facebook_url', 'linkedin_url', 'twitter_url', 'logo_url', 'alias1',\n",
       "       'alias2', 'alias3', 'primary_role', 'num_exits', 'employee_count_max',\n",
       "       'investment_funding_gbp', 'num_investment_rounds', 'grant_funding_gbp',\n",
       "       'num_grants', 'total_funding_gbp', 'potential_investment_opp',\n",
       "       'investment_opp', 'interesting_foreign_opp', 'investment_opp_metric',\n",
       "       'smart_money', 'mission_labels', 'topic_labels',\n",
       "       'smart_money_investor'],\n",
       "      dtype='object')"
      ]
     },
     "execution_count": 32,
     "metadata": {},
     "output_type": "execute_result"
    }
   ],
   "source": [
    "organisations_enriched.columns"
   ]
  },
  {
   "cell_type": "code",
   "execution_count": 75,
   "metadata": {},
   "outputs": [],
   "source": [
    "org_labels_df = (\n",
    "    organisations_enriched[[\"id\", \"country_code\", \"mission_labels\", \"topic_labels\", \"potential_investment_opp\", \"investment_opp\", \"interesting_foreign_opp\", \"smart_money\", \"smart_money_investor\", \"num_grants\"]]\n",
    "    .assign(mission_labels_list = lambda df: df.mission_labels.fillna(\"\").str.split(\",\"))\n",
    "    .assign(topic_labels_list = lambda df: df.topic_labels.fillna(\"\").str.split(\",\"))\n",
    "    .assign(has_mission_label = lambda df: df.mission_labels.fillna(\"\").str.contains(\"|\".join([\"ASF\", \"AHL\", \"AFS\"])))\n",
    "    .assign(is_potential_investment_opp = lambda df: df.potential_investment_opp >= 1)\n",
    "    .assign(is_investment_opp = lambda df: df.investment_opp >= 0.75)\n",
    "    .assign(is_interesting_foreign_opp = lambda df: df.interesting_foreign_opp >= 0.75)\n",
    "    .assign(is_uk = lambda df: df.country_code == \"GBR\")\n",
    "    .assign(is_geo_scope = lambda df: df.country_code.isin(crunchbase.COUNTRIES_SCOPE))\n",
    "    .assign(is_mission_uk = lambda df: df.has_mission_label & df.is_uk)\n",
    "    .assign(has_grants = lambda df: df.num_grants > 0)\n",
    "    .assign(has_grants_is_uk = lambda df: df.has_grants & df.is_uk) \n",
    "    .assign(has_smart_money_is_uk = lambda df: df.smart_money & df.is_uk)\n",
    "    .assign(is_investment_opp_with_smart_money_uk = lambda df: df.is_investment_opp & df.has_smart_money_is_uk)\n",
    "    .assign(is_potential_investment_opp_with_smart_money_uk = lambda df: df.is_potential_investment_opp & df.has_smart_money_is_uk)\n",
    "    .assign(is_uk_smart_money_investor = lambda df: df.smart_money_investor & df.is_uk)\n",
    "    .assign(is_foreign_opp_with_smart_money = lambda df: df.is_interesting_foreign_opp & df.smart_money)\n",
    ")"
   ]
  },
  {
   "cell_type": "code",
   "execution_count": 76,
   "metadata": {},
   "outputs": [],
   "source": [
    "summary_missions_df = (\n",
    "    org_labels_df\n",
    "    .explode(\"mission_labels_list\")\n",
    "    .fillna({\"mission_labels_list\": \"none\"})\n",
    "    .dropna(subset=[\"id\", \"mission_labels_list\"])\n",
    "    .groupby(\"mission_labels_list\")\n",
    "    .agg(\n",
    "        total=(\"id\", \"count\"),\n",
    "        total_uk=(\"is_uk\", \"sum\"),\n",
    "        uk_potential_investment_opp=(\"is_potential_investment_opp\", \"sum\"),\n",
    "        uk_investment_opp=(\"is_investment_opp\", \"sum\"),\n",
    "        uk_with_grant=(\"has_grants_is_uk\", \"sum\"),\n",
    "        uk_has_smart_money=(\"has_smart_money_is_uk\", \"sum\"),\n",
    "        uk_investment_opp_with_smart_money=(\"is_investment_opp_with_smart_money_uk\", \"sum\"),\n",
    "        uk_potential_investment_opp_with_smart_money=(\"is_potential_investment_opp_with_smart_money_uk\", \"sum\"),\n",
    "        total_geo_scope=(\"is_geo_scope\", \"sum\"),\n",
    "        foreign_opp=(\"is_interesting_foreign_opp\", \"sum\"),\n",
    "        foreign_opp_with_smart_money=(\"is_foreign_opp_with_smart_money\", \"sum\"),\n",
    "        uk_smart_money_investor=(\"is_uk_smart_money_investor\", \"sum\"),\n",
    "        total_smart_money_investor=(\"smart_money_investor\", \"sum\"),\n",
    "    )\n",
    "    .reset_index()\n",
    ")"
   ]
  },
  {
   "cell_type": "code",
   "execution_count": 77,
   "metadata": {},
   "outputs": [
    {
     "data": {
      "text/html": [
       "<div>\n",
       "<style scoped>\n",
       "    .dataframe tbody tr th:only-of-type {\n",
       "        vertical-align: middle;\n",
       "    }\n",
       "\n",
       "    .dataframe tbody tr th {\n",
       "        vertical-align: top;\n",
       "    }\n",
       "\n",
       "    .dataframe thead th {\n",
       "        text-align: right;\n",
       "    }\n",
       "</style>\n",
       "<table border=\"1\" class=\"dataframe\">\n",
       "  <thead>\n",
       "    <tr style=\"text-align: right;\">\n",
       "      <th></th>\n",
       "      <th>mission_labels_list</th>\n",
       "      <th>total</th>\n",
       "      <th>total_uk</th>\n",
       "      <th>uk_potential_investment_opp</th>\n",
       "      <th>uk_investment_opp</th>\n",
       "      <th>uk_with_grant</th>\n",
       "      <th>uk_has_smart_money</th>\n",
       "      <th>uk_investment_opp_with_smart_money</th>\n",
       "      <th>uk_potential_investment_opp_with_smart_money</th>\n",
       "      <th>total_geo_scope</th>\n",
       "      <th>foreign_opp</th>\n",
       "      <th>foreign_opp_with_smart_money</th>\n",
       "      <th>uk_smart_money_investor</th>\n",
       "      <th>total_smart_money_investor</th>\n",
       "    </tr>\n",
       "  </thead>\n",
       "  <tbody>\n",
       "    <tr>\n",
       "      <th>0</th>\n",
       "      <td></td>\n",
       "      <td>2238994</td>\n",
       "      <td>161577</td>\n",
       "      <td>6015</td>\n",
       "      <td>2529</td>\n",
       "      <td>1299</td>\n",
       "      <td>2600</td>\n",
       "      <td>543</td>\n",
       "      <td>1452</td>\n",
       "      <td>1616347</td>\n",
       "      <td>86288</td>\n",
       "      <td>23571</td>\n",
       "      <td>4</td>\n",
       "      <td>6</td>\n",
       "    </tr>\n",
       "    <tr>\n",
       "      <th>1</th>\n",
       "      <td>AFS</td>\n",
       "      <td>38107</td>\n",
       "      <td>2608</td>\n",
       "      <td>307</td>\n",
       "      <td>91</td>\n",
       "      <td>44</td>\n",
       "      <td>135</td>\n",
       "      <td>23</td>\n",
       "      <td>80</td>\n",
       "      <td>28861</td>\n",
       "      <td>3984</td>\n",
       "      <td>1201</td>\n",
       "      <td>3</td>\n",
       "      <td>31</td>\n",
       "    </tr>\n",
       "    <tr>\n",
       "      <th>2</th>\n",
       "      <td>AHL</td>\n",
       "      <td>13643</td>\n",
       "      <td>841</td>\n",
       "      <td>133</td>\n",
       "      <td>54</td>\n",
       "      <td>30</td>\n",
       "      <td>76</td>\n",
       "      <td>14</td>\n",
       "      <td>34</td>\n",
       "      <td>9455</td>\n",
       "      <td>1614</td>\n",
       "      <td>502</td>\n",
       "      <td>2</td>\n",
       "      <td>24</td>\n",
       "    </tr>\n",
       "    <tr>\n",
       "      <th>3</th>\n",
       "      <td>ASF</td>\n",
       "      <td>38557</td>\n",
       "      <td>2841</td>\n",
       "      <td>256</td>\n",
       "      <td>157</td>\n",
       "      <td>127</td>\n",
       "      <td>176</td>\n",
       "      <td>54</td>\n",
       "      <td>75</td>\n",
       "      <td>28775</td>\n",
       "      <td>3796</td>\n",
       "      <td>1218</td>\n",
       "      <td>3</td>\n",
       "      <td>54</td>\n",
       "    </tr>\n",
       "    <tr>\n",
       "      <th>4</th>\n",
       "      <td>X</td>\n",
       "      <td>1007294</td>\n",
       "      <td>74037</td>\n",
       "      <td>4925</td>\n",
       "      <td>2204</td>\n",
       "      <td>1199</td>\n",
       "      <td>2616</td>\n",
       "      <td>573</td>\n",
       "      <td>1381</td>\n",
       "      <td>723600</td>\n",
       "      <td>71081</td>\n",
       "      <td>20536</td>\n",
       "      <td>6</td>\n",
       "      <td>55</td>\n",
       "    </tr>\n",
       "  </tbody>\n",
       "</table>\n",
       "</div>"
      ],
      "text/plain": [
       "  mission_labels_list    total  total_uk  uk_potential_investment_opp  \\\n",
       "0                      2238994    161577                         6015   \n",
       "1                 AFS    38107      2608                          307   \n",
       "2                 AHL    13643       841                          133   \n",
       "3                 ASF    38557      2841                          256   \n",
       "4                   X  1007294     74037                         4925   \n",
       "\n",
       "   uk_investment_opp  uk_with_grant  uk_has_smart_money  \\\n",
       "0               2529           1299                2600   \n",
       "1                 91             44                 135   \n",
       "2                 54             30                  76   \n",
       "3                157            127                 176   \n",
       "4               2204           1199                2616   \n",
       "\n",
       "   uk_investment_opp_with_smart_money  \\\n",
       "0                                 543   \n",
       "1                                  23   \n",
       "2                                  14   \n",
       "3                                  54   \n",
       "4                                 573   \n",
       "\n",
       "   uk_potential_investment_opp_with_smart_money  total_geo_scope  foreign_opp  \\\n",
       "0                                          1452          1616347        86288   \n",
       "1                                            80            28861         3984   \n",
       "2                                            34             9455         1614   \n",
       "3                                            75            28775         3796   \n",
       "4                                          1381           723600        71081   \n",
       "\n",
       "   foreign_opp_with_smart_money  uk_smart_money_investor  \\\n",
       "0                         23571                        4   \n",
       "1                          1201                        3   \n",
       "2                           502                        2   \n",
       "3                          1218                        3   \n",
       "4                         20536                        6   \n",
       "\n",
       "   total_smart_money_investor  \n",
       "0                           6  \n",
       "1                          31  \n",
       "2                          24  \n",
       "3                          54  \n",
       "4                          55  "
      ]
     },
     "execution_count": 77,
     "metadata": {},
     "output_type": "execute_result"
    }
   ],
   "source": [
    "summary_missions_df"
   ]
  },
  {
   "cell_type": "code",
   "execution_count": 78,
   "metadata": {},
   "outputs": [],
   "source": [
    "summary_topics_df = (\n",
    "    org_labels_df\n",
    "    .explode(\"topic_labels_list\")\n",
    "    .fillna({\"topic_labels_list\": \"none\"})\n",
    "    .dropna(subset=[\"id\", \"topic_labels_list\"])\n",
    "    .groupby(\"topic_labels_list\")\n",
    "    .agg(\n",
    "        total=(\"id\", \"count\"),\n",
    "        total_uk=(\"is_uk\", \"sum\"),\n",
    "        uk_potential_investment_opp=(\"is_potential_investment_opp\", \"sum\"),\n",
    "        uk_investment_opp=(\"is_investment_opp\", \"sum\"),\n",
    "        uk_with_grant=(\"has_grants_is_uk\", \"sum\"),\n",
    "        uk_has_smart_money=(\"has_smart_money_is_uk\", \"sum\"),\n",
    "        uk_investment_opp_with_smart_money=(\"is_investment_opp_with_smart_money_uk\", \"sum\"),\n",
    "        uk_potential_investment_opp_with_smart_money=(\"is_potential_investment_opp_with_smart_money_uk\", \"sum\"),\n",
    "        total_geo_scope=(\"is_geo_scope\", \"sum\"),\n",
    "        foreign_opp=(\"is_interesting_foreign_opp\", \"sum\"),\n",
    "        foreign_opp_with_smart_money=(\"is_foreign_opp_with_smart_money\", \"sum\"),\n",
    "        uk_smart_money_investor=(\"is_uk_smart_money_investor\", \"sum\"),\n",
    "        total_smart_money_investor=(\"smart_money_investor\", \"sum\"),\n",
    "    )\n",
    "    .reset_index()\n",
    "    .merge(taxonomy_df, left_on=\"topic_labels_list\", right_on=\"Subcategory\", how=\"left\")\n",
    "    .sort_values([\"Category\", \"Subcategory\"])\n",
    ")"
   ]
  },
  {
   "cell_type": "code",
   "execution_count": 80,
   "metadata": {},
   "outputs": [],
   "source": [
    "# summary_topics_df.to_csv(DATA_DIR / \"summary_topics.csv\", index=False)"
   ]
  },
  {
   "cell_type": "code",
   "execution_count": 82,
   "metadata": {},
   "outputs": [
    {
     "data": {
      "text/plain": [
       "Index(['id', 'name', 'type', 'permalink', 'cb_url', 'rank', 'created_at',\n",
       "       'updated_at', 'legal_name', 'roles', 'domain', 'homepage_url',\n",
       "       'country_code', 'state_code', 'region', 'city', 'address',\n",
       "       'postal_code', 'status', 'short_description', 'category_list',\n",
       "       'category_groups_list', 'num_funding_rounds', 'total_funding_usd',\n",
       "       'total_funding', 'total_funding_currency_code', 'founded_on',\n",
       "       'last_funding_on', 'closed_on', 'employee_count', 'email', 'phone',\n",
       "       'facebook_url', 'linkedin_url', 'twitter_url', 'logo_url', 'alias1',\n",
       "       'alias2', 'alias3', 'primary_role', 'num_exits', 'employee_count_max',\n",
       "       'investment_funding_gbp', 'num_investment_rounds', 'grant_funding_gbp',\n",
       "       'num_grants', 'total_funding_gbp', 'potential_investment_opp',\n",
       "       'investment_opp', 'interesting_foreign_opp', 'investment_opp_metric',\n",
       "       'smart_money', 'mission_labels', 'topic_labels',\n",
       "       'smart_money_investor'],\n",
       "      dtype='object')"
      ]
     },
     "execution_count": 82,
     "metadata": {},
     "output_type": "execute_result"
    }
   ],
   "source": [
    "organisations_enriched.columns"
   ]
  },
  {
   "cell_type": "code",
   "execution_count": 97,
   "metadata": {},
   "outputs": [],
   "source": [
    "last_funding_df = (\n",
    "    funding_rounds_enriched\n",
    "    .sort_values(\"announced_on\", ascending=False)\n",
    "    .drop_duplicates(\"org_id\", keep=\"first\")\n",
    ")"
   ]
  },
  {
   "cell_type": "code",
   "execution_count": 106,
   "metadata": {},
   "outputs": [
    {
     "data": {
      "text/plain": [
       "1164940              seed\n",
       "1164939              seed\n",
       "1164938              seed\n",
       "1164937       undisclosed\n",
       "1164936              seed\n",
       "                ...      \n",
       "248        series_unknown\n",
       "249              series_a\n",
       "251        series_unknown\n",
       "252              series_a\n",
       "0          series_unknown\n",
       "Name: investment_type, Length: 316843, dtype: object"
      ]
     },
     "execution_count": 106,
     "metadata": {},
     "output_type": "execute_result"
    }
   ],
   "source": []
  },
  {
   "cell_type": "code",
   "execution_count": 111,
   "metadata": {},
   "outputs": [],
   "source": [
    "df_export = (\n",
    "    org_labels_df\n",
    "    .query(\"has_mission_label\")\n",
    "    .query(\"is_geo_scope\")\n",
    "    .query(\"country_code == 'GBR'\")\n",
    "    .merge(\n",
    "        organisations_enriched[[\"id\", \"name\", \"short_description\", \"cb_url\", \"homepage_url\", \"employee_count\", \"founded_on\", 'investment_funding_gbp', 'num_investment_rounds','grant_funding_gbp', 'total_funding_gbp', 'last_funding_on', 'investment_opp_metric']],\n",
    "        on=\"id\",\n",
    "        how=\"left\"\n",
    "    )\n",
    "    .merge(\n",
    "        last_funding_df[['org_id', 'investment_type']]\n",
    "        .rename(columns={\"investment_type\": \"last_investment_type\"}),\n",
    "        left_on=\"id\",\n",
    "        right_on=\"org_id\",\n",
    "        how=\"left\"\n",
    "    )\n",
    "    .drop(columns=\"org_id\")\n",
    ")"
   ]
  },
  {
   "cell_type": "code",
   "execution_count": 112,
   "metadata": {},
   "outputs": [
    {
     "data": {
      "text/plain": [
       "6228"
      ]
     },
     "execution_count": 112,
     "metadata": {},
     "output_type": "execute_result"
    }
   ],
   "source": [
    "len(df_export)"
   ]
  },
  {
   "cell_type": "code",
   "execution_count": 113,
   "metadata": {},
   "outputs": [],
   "source": [
    "df_export.to_csv(DATA_DIR / \"organisations_with_labels.csv\", index=False)"
   ]
  }
 ],
 "metadata": {
  "kernelspec": {
   "display_name": ".venv",
   "language": "python",
   "name": "python3"
  },
  "language_info": {
   "codemirror_mode": {
    "name": "ipython",
    "version": 3
   },
   "file_extension": ".py",
   "mimetype": "text/x-python",
   "name": "python",
   "nbconvert_exporter": "python",
   "pygments_lexer": "ipython3",
   "version": "3.11.9"
  }
 },
 "nbformat": 4,
 "nbformat_minor": 2
}
