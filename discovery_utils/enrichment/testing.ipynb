{
 "cells": [
  {
   "cell_type": "code",
   "execution_count": 67,
   "metadata": {},
   "outputs": [],
   "source": [
    "from discovery_utils import PROJECT_DIR\n",
    "from discovery_utils.enrichment import crunchbase\n",
    "\n",
    "import pandas as pd\n",
    "\n",
    "import importlib\n",
    "importlib.reload(crunchbase);\n"
   ]
  },
  {
   "cell_type": "code",
   "execution_count": 59,
   "metadata": {},
   "outputs": [],
   "source": [
    "DATA_DIR = PROJECT_DIR / \"src/enrichment\"\n",
    "organisations = pd.read_parquet(DATA_DIR / \"organizations.parquet\")\n",
    "funding_rounds = pd.read_parquet(DATA_DIR / \"funding_rounds.parquet\")\n",
    "investments = pd.read_parquet(DATA_DIR / \"investments.parquet\")\n",
    "investors = pd.read_parquet(DATA_DIR / \"investors.parquet\")\n",
    "organisation_descriptions = pd.read_parquet(DATA_DIR / \"organization_descriptions.parquet\")"
   ]
  },
  {
   "cell_type": "code",
   "execution_count": 60,
   "metadata": {},
   "outputs": [],
   "source": [
    "# Testing\n",
    "organisation_ids = organisations.sample(10000).id.unique()"
   ]
  },
  {
   "cell_type": "code",
   "execution_count": 61,
   "metadata": {},
   "outputs": [],
   "source": [
    "funding_rounds_enriched = crunchbase.enrich_funding_rounds(\n",
    "        funding_rounds,\n",
    "        investments,\n",
    "        investors,\n",
    "    )\n"
   ]
  },
  {
   "cell_type": "code",
   "execution_count": 66,
   "metadata": {},
   "outputs": [
    {
     "data": {
      "text/plain": [
       "Index(['funding_round_id', 'funding_round_name', 'type', 'permalink', 'cb_url',\n",
       "       'rank', 'created_at', 'updated_at', 'country_code', 'state_code',\n",
       "       'region', 'city', 'investment_type', 'announced_on',\n",
       "       'raised_amount_usd', 'raised_amount', 'raised_amount_currency_code',\n",
       "       'post_money_valuation_usd', 'post_money_valuation',\n",
       "       'post_money_valuation_currency_code', 'investor_count', 'org_id',\n",
       "       'org_name', 'lead_investor_ids', 'announced_on_date', 'year',\n",
       "       'raised_amount_gbp', 'investor_id', 'investor_name', 'investor_type',\n",
       "       'is_lead_investor', 'investor_types', 'investor_url',\n",
       "       'smart_money_auto', 'smart_money_manual', 'smart_money'],\n",
       "      dtype='object')"
      ]
     },
     "execution_count": 66,
     "metadata": {},
     "output_type": "execute_result"
    }
   ],
   "source": [
    "funding_rounds_enriched.columns"
   ]
  },
  {
   "cell_type": "code",
   "execution_count": 68,
   "metadata": {},
   "outputs": [],
   "source": [
    "organisations_enriched = crunchbase.enrich_organisations(\n",
    "        organisations,\n",
    "        funding_rounds_enriched,\n",
    "        organisation_descriptions,\n",
    "        organisation_ids=organisation_ids,\n",
    "        enrich_labels = True,\n",
    "    )"
   ]
  }
 ],
 "metadata": {
  "kernelspec": {
   "display_name": ".venv",
   "language": "python",
   "name": "python3"
  },
  "language_info": {
   "codemirror_mode": {
    "name": "ipython",
    "version": 3
   },
   "file_extension": ".py",
   "mimetype": "text/x-python",
   "name": "python",
   "nbconvert_exporter": "python",
   "pygments_lexer": "ipython3",
   "version": "3.11.9"
  }
 },
 "nbformat": 4,
 "nbformat_minor": 2
}
