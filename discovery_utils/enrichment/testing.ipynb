{
 "cells": [
  {
   "cell_type": "code",
   "execution_count": 2,
   "metadata": {},
   "outputs": [],
   "source": [
    "from src import PROJECT_DIR\n",
    "from src.enrichment.crunchbase import (\n",
    "    enrich_funding_rounds,\n",
    "    enrich_organisations,\n",
    ")\n",
    "\n",
    "import pandas as pd"
   ]
  },
  {
   "cell_type": "code",
   "execution_count": 3,
   "metadata": {},
   "outputs": [],
   "source": [
    "DATA_DIR = PROJECT_DIR / \"src/enrichment\"\n",
    "organisations = pd.read_parquet(DATA_DIR / \"organizations.parquet\")\n",
    "funding_rounds = pd.read_parquet(DATA_DIR / \"funding_rounds.parquet\")\n",
    "investments = pd.read_parquet(DATA_DIR / \"investments.parquet\")\n",
    "investors = pd.read_parquet(DATA_DIR / \"investors.parquet\")\n",
    "organisation_descriptions = pd.read_parquet(DATA_DIR / \"organization_descriptions.parquet\")"
   ]
  },
  {
   "cell_type": "code",
   "execution_count": 4,
   "metadata": {},
   "outputs": [],
   "source": [
    "# Testing\n",
    "organisation_ids = organisations.head(10000).id.unique()"
   ]
  },
  {
   "cell_type": "code",
   "execution_count": 5,
   "metadata": {},
   "outputs": [],
   "source": [
    "funding_rounds_enriched = enrich_funding_rounds(\n",
    "        funding_rounds,\n",
    "        investments,\n",
    "        investors,\n",
    "    )\n",
    "\n"
   ]
  },
  {
   "cell_type": "code",
   "execution_count": null,
   "metadata": {},
   "outputs": [],
   "source": [
    "funding_rounds.iloc[0]"
   ]
  },
  {
   "cell_type": "code",
   "execution_count": null,
   "metadata": {},
   "outputs": [],
   "source": [
    "funding_rounds_enriched.iloc[0]"
   ]
  },
  {
   "cell_type": "code",
   "execution_count": 31,
   "metadata": {},
   "outputs": [],
   "source": [
    "organisations_enriched = enrich_organisations(\n",
    "        organisations,\n",
    "        funding_rounds_enriched,\n",
    "        organisation_descriptions,\n",
    "        organisation_ids=organisation_ids,\n",
    "    )"
   ]
  },
  {
   "cell_type": "code",
   "execution_count": null,
   "metadata": {},
   "outputs": [],
   "source": [
    "organisations_enriched.iloc[0]"
   ]
  }
 ],
 "metadata": {
  "kernelspec": {
   "display_name": ".venv",
   "language": "python",
   "name": "python3"
  },
  "language_info": {
   "codemirror_mode": {
    "name": "ipython",
    "version": 3
   },
   "file_extension": ".py",
   "mimetype": "text/x-python",
   "name": "python",
   "nbconvert_exporter": "python",
   "pygments_lexer": "ipython3",
   "version": "3.11.7"
  }
 },
 "nbformat": 4,
 "nbformat_minor": 2
}
