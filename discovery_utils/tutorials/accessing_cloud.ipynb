{
 "cells": [
  {
   "cell_type": "markdown",
   "metadata": {},
   "source": [
    "# Quick tutorial on how to access various cloud services\n",
    "\n",
    "- Saving and loading data from AWS S3\n",
    "- Accessing OpenAI API"
   ]
  },
  {
   "cell_type": "code",
   "execution_count": 2,
   "metadata": {},
   "outputs": [],
   "source": [
    "import os\n",
    "import dotenv\n",
    "\n",
    "# Load environment variables from .env file\n",
    "dotenv.load_dotenv();"
   ]
  },
  {
   "cell_type": "markdown",
   "metadata": {},
   "source": [
    "## AWS S3\n",
    "\n",
    "Make sure you have added AWS credentials in the .env file, in two separate lines, as shown below:\n",
    "\n",
    "```\n",
    "AWS_ACCESS_KEY = your-aws-key\n",
    "AWS_SECRET_KEY = your-aws-secret\n",
    "```\n",
    "\n",
    "(see also the env_template.txt file)\n"
   ]
  },
  {
   "cell_type": "code",
   "execution_count": 10,
   "metadata": {},
   "outputs": [],
   "source": [
    "import pandas as pd\n",
    "from discovery_utils.utils import s3\n",
    "client = s3.s3_client()\n",
    "\n",
    "dummy_data = pd.DataFrame(\n",
    "    {\n",
    "        \"A\": [1, 2, 3, 4],\n",
    "        \"B\": [5, 6, 7, 8],\n",
    "        \"C\": [9, 10, 11, 12]\n",
    "    }\n",
    ")\n",
    "\n",
    "# Save the dummy data to s3\n",
    "s3.upload_obj(dummy_data, s3.BUCKET_NAME_RAW, \"data/policy_scanning_data/dummy_data.csv\")"
   ]
  },
  {
   "cell_type": "code",
   "execution_count": 12,
   "metadata": {},
   "outputs": [],
   "source": [
    "# Load the previously uploaded data\n",
    "loaded_data = s3._download_obj(\n",
    "    s3_client=client,\n",
    "    bucket=s3.BUCKET_NAME_RAW,\n",
    "    path_from=\"data/policy_scanning_data/dummy_data.csv\",\n",
    "    download_as=\"dataframe\"\n",
    ")"
   ]
  },
  {
   "cell_type": "code",
   "execution_count": 13,
   "metadata": {},
   "outputs": [
    {
     "data": {
      "text/html": [
       "<div>\n",
       "<style scoped>\n",
       "    .dataframe tbody tr th:only-of-type {\n",
       "        vertical-align: middle;\n",
       "    }\n",
       "\n",
       "    .dataframe tbody tr th {\n",
       "        vertical-align: top;\n",
       "    }\n",
       "\n",
       "    .dataframe thead th {\n",
       "        text-align: right;\n",
       "    }\n",
       "</style>\n",
       "<table border=\"1\" class=\"dataframe\">\n",
       "  <thead>\n",
       "    <tr style=\"text-align: right;\">\n",
       "      <th></th>\n",
       "      <th>Unnamed: 0</th>\n",
       "      <th>A</th>\n",
       "      <th>B</th>\n",
       "      <th>C</th>\n",
       "    </tr>\n",
       "  </thead>\n",
       "  <tbody>\n",
       "    <tr>\n",
       "      <th>0</th>\n",
       "      <td>0</td>\n",
       "      <td>1</td>\n",
       "      <td>5</td>\n",
       "      <td>9</td>\n",
       "    </tr>\n",
       "    <tr>\n",
       "      <th>1</th>\n",
       "      <td>1</td>\n",
       "      <td>2</td>\n",
       "      <td>6</td>\n",
       "      <td>10</td>\n",
       "    </tr>\n",
       "    <tr>\n",
       "      <th>2</th>\n",
       "      <td>2</td>\n",
       "      <td>3</td>\n",
       "      <td>7</td>\n",
       "      <td>11</td>\n",
       "    </tr>\n",
       "    <tr>\n",
       "      <th>3</th>\n",
       "      <td>3</td>\n",
       "      <td>4</td>\n",
       "      <td>8</td>\n",
       "      <td>12</td>\n",
       "    </tr>\n",
       "  </tbody>\n",
       "</table>\n",
       "</div>"
      ],
      "text/plain": [
       "   Unnamed: 0  A  B   C\n",
       "0           0  1  5   9\n",
       "1           1  2  6  10\n",
       "2           2  3  7  11\n",
       "3           3  4  8  12"
      ]
     },
     "execution_count": 13,
     "metadata": {},
     "output_type": "execute_result"
    }
   ],
   "source": [
    "loaded_data"
   ]
  },
  {
   "cell_type": "markdown",
   "metadata": {},
   "source": [
    "## OpenAI API\n",
    "\n",
    "Make sure you have added OpenAI API key in a separate file in the .env file, as shown below:\n",
    "\n",
    "```\n",
    "OPENAI_API_KEY = your-api-key\n",
    "```\n",
    "\n",
    "(see also the env_template.txt file)\n",
    "\n",
    "See also a longer tutorial [here](https://colab.research.google.com/drive/1RMW926zMWFoImpReVUOL13zVPpk0cxgj#scrollTo=tRwITnJV1ZL7)"
   ]
  },
  {
   "cell_type": "code",
   "execution_count": 5,
   "metadata": {},
   "outputs": [],
   "source": [
    "from openai import OpenAI\n",
    "client = OpenAI(api_key=os.environ[\"OPENAI_API_KEY\"])"
   ]
  },
  {
   "cell_type": "code",
   "execution_count": 6,
   "metadata": {},
   "outputs": [
    {
     "data": {
      "text/plain": [
       "{'id': 'chatcmpl-9gxrhySQmrHxWgAydFQ4ui2LbufXx',\n",
       " 'choices': [{'finish_reason': 'stop',\n",
       "   'index': 0,\n",
       "   'logprobs': None,\n",
       "   'message': {'content': 'This is a test!', 'role': 'assistant'}}],\n",
       " 'created': 1720026925,\n",
       " 'model': 'gpt-3.5-turbo-0125',\n",
       " 'object': 'chat.completion',\n",
       " 'system_fingerprint': None,\n",
       " 'usage': {'completion_tokens': 5, 'prompt_tokens': 13, 'total_tokens': 18}}"
      ]
     },
     "execution_count": 6,
     "metadata": {},
     "output_type": "execute_result"
    }
   ],
   "source": [
    "# Define a message to send to the API. The text under 'content' is your prompt\n",
    "simple_prompt = [{\"role\": \"user\", \"content\": \"Say this is a test!\"}]\n",
    "\n",
    "chatgpt_output = client.chat.completions.create(\n",
    "    model=\"gpt-3.5-turbo\",\n",
    "    messages=simple_prompt,\n",
    "    temperature=0.5,\n",
    "    max_tokens=1000,\n",
    ")\n",
    "\n",
    "chatgpt_output.to_dict()"
   ]
  },
  {
   "cell_type": "code",
   "execution_count": 7,
   "metadata": {},
   "outputs": [
    {
     "data": {
      "text/plain": [
       "'This is a test!'"
      ]
     },
     "execution_count": 7,
     "metadata": {},
     "output_type": "execute_result"
    }
   ],
   "source": [
    "# Just the text output\n",
    "chatgpt_output.choices[0].message.content"
   ]
  }
 ],
 "metadata": {
  "kernelspec": {
   "display_name": ".venv",
   "language": "python",
   "name": "python3"
  },
  "language_info": {
   "codemirror_mode": {
    "name": "ipython",
    "version": 3
   },
   "file_extension": ".py",
   "mimetype": "text/x-python",
   "name": "python",
   "nbconvert_exporter": "python",
   "pygments_lexer": "ipython3",
   "version": "3.11.9"
  }
 },
 "nbformat": 4,
 "nbformat_minor": 2
}
