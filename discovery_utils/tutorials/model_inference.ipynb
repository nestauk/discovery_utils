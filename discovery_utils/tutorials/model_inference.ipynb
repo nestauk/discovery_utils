{
 "cells": [
  {
   "cell_type": "markdown",
   "metadata": {},
   "source": [
    "# Quick tutorial on how to use mission classifers\n"
   ]
  },
  {
   "cell_type": "code",
   "execution_count": 1,
   "metadata": {},
   "outputs": [
    {
     "name": "stderr",
     "output_type": "stream",
     "text": [
      "/Users/karlis.kanders/Documents/code/discovery_utils/.venv/lib/python3.11/site-packages/tqdm/auto.py:21: TqdmWarning: IProgress not found. Please update jupyter and ipywidgets. See https://ipywidgets.readthedocs.io/en/stable/user_install.html\n",
      "  from .autonotebook import tqdm as notebook_tqdm\n"
     ]
    }
   ],
   "source": [
    "from discovery_utils.horizon_scout import inference_bert\n",
    "import pandas as pd"
   ]
  },
  {
   "cell_type": "code",
   "execution_count": 2,
   "metadata": {},
   "outputs": [
    {
     "data": {
      "text/html": [
       "<div>\n",
       "<style scoped>\n",
       "    .dataframe tbody tr th:only-of-type {\n",
       "        vertical-align: middle;\n",
       "    }\n",
       "\n",
       "    .dataframe tbody tr th {\n",
       "        vertical-align: top;\n",
       "    }\n",
       "\n",
       "    .dataframe thead th {\n",
       "        text-align: right;\n",
       "    }\n",
       "</style>\n",
       "<table border=\"1\" class=\"dataframe\">\n",
       "  <thead>\n",
       "    <tr style=\"text-align: right;\">\n",
       "      <th></th>\n",
       "      <th>id</th>\n",
       "      <th>text</th>\n",
       "    </tr>\n",
       "  </thead>\n",
       "  <tbody>\n",
       "    <tr>\n",
       "      <th>0</th>\n",
       "      <td>asf_sample</td>\n",
       "      <td>The UK government has committed to reducing ca...</td>\n",
       "    </tr>\n",
       "    <tr>\n",
       "      <th>1</th>\n",
       "      <td>ahl_sample</td>\n",
       "      <td>We aim to reduce obesity in the UK.</td>\n",
       "    </tr>\n",
       "    <tr>\n",
       "      <th>2</th>\n",
       "      <td>afs_sample</td>\n",
       "      <td>UK need more childcare professionals to suppor...</td>\n",
       "    </tr>\n",
       "  </tbody>\n",
       "</table>\n",
       "</div>"
      ],
      "text/plain": [
       "           id                                               text\n",
       "0  asf_sample  The UK government has committed to reducing ca...\n",
       "1  ahl_sample                We aim to reduce obesity in the UK.\n",
       "2  afs_sample  UK need more childcare professionals to suppor..."
      ]
     },
     "execution_count": 2,
     "metadata": {},
     "output_type": "execute_result"
    }
   ],
   "source": [
    "# Create dummy text data\n",
    "dummy_data_df = pd.DataFrame([\n",
    "    {\n",
    "        \"id\": \"asf_sample\",\n",
    "        \"text\": \"The UK government has committed to reducing carbon emissions to net zero by 2050. This will require a significant shift in the way we generate and use energy.\"\n",
    "    },\n",
    "    {\n",
    "        \"id\": \"ahl_sample\",\n",
    "        \"text\": \"We aim to reduce obesity in the UK.\"\n",
    "    },\n",
    "    {\n",
    "        \"id\": \"afs_sample\",\n",
    "        \"text\": \"UK need more childcare professionals to support working parents.\"\n",
    "    }\n",
    "])\n",
    "dummy_data_df"
   ]
  },
  {
   "cell_type": "code",
   "execution_count": 3,
   "metadata": {},
   "outputs": [],
   "source": [
    "# Load in the models\n",
    "models = inference_bert.load_models(\n",
    "    inference_bert.MODEL_PATHS,\n",
    "    inference_bert.MISSIONS,\n",
    "    gpu=False,\n",
    ")\n",
    "\n",
    "# Load the tokenizer\n",
    "tokenizer = inference_bert.AutoTokenizer.from_pretrained(\"distilbert/distilbert-base-uncased\")"
   ]
  },
  {
   "cell_type": "code",
   "execution_count": 4,
   "metadata": {},
   "outputs": [
    {
     "name": "stderr",
     "output_type": "stream",
     "text": [
      "                                                                 \r"
     ]
    }
   ],
   "source": [
    "# Add the predicted mission labels\n",
    "dummy_data_df = dummy_data_df.pipe(\n",
    "    inference_bert.bert_add_predictions,\n",
    "    text_col=\"text\",\n",
    "    bert_models=models,\n",
    "    tokenizer=tokenizer,\n",
    "    missions=inference_bert.MISSIONS,\n",
    "    batch_size=inference_bert.BATCH_SIZE,\n",
    ")"
   ]
  },
  {
   "cell_type": "code",
   "execution_count": 5,
   "metadata": {},
   "outputs": [
    {
     "data": {
      "text/html": [
       "<div>\n",
       "<style scoped>\n",
       "    .dataframe tbody tr th:only-of-type {\n",
       "        vertical-align: middle;\n",
       "    }\n",
       "\n",
       "    .dataframe tbody tr th {\n",
       "        vertical-align: top;\n",
       "    }\n",
       "\n",
       "    .dataframe thead th {\n",
       "        text-align: right;\n",
       "    }\n",
       "</style>\n",
       "<table border=\"1\" class=\"dataframe\">\n",
       "  <thead>\n",
       "    <tr style=\"text-align: right;\">\n",
       "      <th></th>\n",
       "      <th>id</th>\n",
       "      <th>text</th>\n",
       "      <th>ahl_bert_preds</th>\n",
       "      <th>asf_bert_preds</th>\n",
       "      <th>afs_bert_preds</th>\n",
       "    </tr>\n",
       "  </thead>\n",
       "  <tbody>\n",
       "    <tr>\n",
       "      <th>0</th>\n",
       "      <td>asf_sample</td>\n",
       "      <td>The UK government has committed to reducing ca...</td>\n",
       "      <td>0</td>\n",
       "      <td>1</td>\n",
       "      <td>0</td>\n",
       "    </tr>\n",
       "    <tr>\n",
       "      <th>1</th>\n",
       "      <td>ahl_sample</td>\n",
       "      <td>We aim to reduce obesity in the UK.</td>\n",
       "      <td>1</td>\n",
       "      <td>0</td>\n",
       "      <td>0</td>\n",
       "    </tr>\n",
       "    <tr>\n",
       "      <th>2</th>\n",
       "      <td>afs_sample</td>\n",
       "      <td>UK need more childcare professionals to suppor...</td>\n",
       "      <td>0</td>\n",
       "      <td>0</td>\n",
       "      <td>1</td>\n",
       "    </tr>\n",
       "  </tbody>\n",
       "</table>\n",
       "</div>"
      ],
      "text/plain": [
       "           id                                               text  \\\n",
       "0  asf_sample  The UK government has committed to reducing ca...   \n",
       "1  ahl_sample                We aim to reduce obesity in the UK.   \n",
       "2  afs_sample  UK need more childcare professionals to suppor...   \n",
       "\n",
       "   ahl_bert_preds  asf_bert_preds  afs_bert_preds  \n",
       "0               0               1               0  \n",
       "1               1               0               0  \n",
       "2               0               0               1  "
      ]
     },
     "execution_count": 5,
     "metadata": {},
     "output_type": "execute_result"
    }
   ],
   "source": [
    "dummy_data_df"
   ]
  },
  {
   "cell_type": "code",
   "execution_count": null,
   "metadata": {},
   "outputs": [],
   "source": []
  }
 ],
 "metadata": {
  "kernelspec": {
   "display_name": ".venv",
   "language": "python",
   "name": "python3"
  },
  "language_info": {
   "codemirror_mode": {
    "name": "ipython",
    "version": 3
   },
   "file_extension": ".py",
   "mimetype": "text/x-python",
   "name": "python",
   "nbconvert_exporter": "python",
   "pygments_lexer": "ipython3",
   "version": "3.11.9"
  }
 },
 "nbformat": 4,
 "nbformat_minor": 2
}
