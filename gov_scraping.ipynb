{
 "cells": [
  {
   "cell_type": "code",
   "execution_count": 24,
   "metadata": {},
   "outputs": [],
   "source": [
    "#import packages\n",
    "import requests\n",
    "import pandas as pd\n",
    "from bs4 import BeautifulSoup"
   ]
  },
  {
   "cell_type": "code",
   "execution_count": 25,
   "metadata": {},
   "outputs": [],
   "source": [
    "#create dataframe to store all the information retrieved from the webpages\n",
    "df_information = pd.DataFrame(columns =['title', 'description', 'department', 'updated'])"
   ]
  },
  {
   "cell_type": "code",
   "execution_count": 27,
   "metadata": {},
   "outputs": [],
   "source": [
    "#Function that retrieves the next page\n",
    "def find_the_next_page(soup):\n",
    "    string = 'https://www.gov.uk/'\n",
    "    #Extract the path to the next page\n",
    "    a_element = soup.find('div', class_='govuk-pagination__next').find('a')\n",
    "    #filter out the data_track_label\n",
    "    data_track_label = a_element.get('data-track-label')\n",
    "    #add https://www.gov.uk/ to the string to get the new link\n",
    "    new_url = string + data_track_label\n",
    "    return  new_url"
   ]
  },
  {
   "cell_type": "code",
   "execution_count": 28,
   "metadata": {},
   "outputs": [],
   "source": [
    "#Function that stores relevant information in a dataframe for easier access\n",
    "def store_information(titles, description, attributes):\n",
    "    list_titles = [item.text for item in titles]\n",
    "    list_description = [item.text for item in description]\n",
    "    list_attributes = [item.text for item in attributes]\n",
    "\n",
    "    list_attr_department = [list_attributes[i] for i in range(0, len(list_attributes), 2)]\n",
    "    list_attr_update = [list_attributes[i] for i in range(1, len(list_attributes), 2)]\n",
    "        \n",
    "    data = list(zip(list_titles, list_description,list_attr_department, list_attr_update))\n",
    "\n",
    "    # Creating a DataFrame\n",
    "    df_information_wp = pd.DataFrame(data, columns=['title', 'description', 'department', 'updated'])  \n",
    "\n",
    "    return   df_information_wp"
   ]
  },
  {
   "cell_type": "code",
   "execution_count": 30,
   "metadata": {},
   "outputs": [],
   "source": [
    "#Webscraping function\n",
    "def scrape_website(start_url, max_pages, df_store):\n",
    "    current_url = start_url\n",
    "    page_count = 0\n",
    "\n",
    "    for page_count in range(max_pages):\n",
    "        # Fetch the content of the current page\n",
    "        response = requests.get(current_url)\n",
    "        if response.status_code != 200:\n",
    "            print(f\"Failed to retrieve page {current_url}\")\n",
    "            break\n",
    "        \n",
    "        # Parse the HTML content\n",
    "        soup = BeautifulSoup(response.content, 'html.parser')\n",
    "\n",
    "        #Extract relevant information from the data\n",
    "        titles_documents = soup.find_all('div', class_='gem-c-document-list__item-title') #returns the titel of the documents listed\n",
    "        item_description = soup.find_all('p', class_='gem-c-document-list__item-description')#Short description of the article\n",
    "        item_attribute = soup.find_all('li', class_='gem-c-document-list__attribute') #each document has two attributes: 1 Department 2 last updated\n",
    "\n",
    "        df_info_new_wp = store_information(titles_documents,item_description,item_attribute)\n",
    "        \n",
    "        #append dataframe\n",
    "        df_store = pd.concat([df_store,df_info_new_wp])\n",
    "        \n",
    "        #Find the URL of the next page\n",
    "        next_page_url = find_the_next_page(soup)\n",
    "    \n",
    "    return df_store"
   ]
  },
  {
   "cell_type": "code",
   "execution_count": 31,
   "metadata": {},
   "outputs": [],
   "source": [
    "start_url = \"https://www.gov.uk//search/policy-papers-and-consultations\"\n",
    "df_complete_info = scrape_website(start_url, 10, df_information)\n"
   ]
  }
 ],
 "metadata": {
  "kernelspec": {
   "display_name": "Python 3",
   "language": "python",
   "name": "python3"
  },
  "language_info": {
   "codemirror_mode": {
    "name": "ipython",
    "version": 3
   },
   "file_extension": ".py",
   "mimetype": "text/x-python",
   "name": "python",
   "nbconvert_exporter": "python",
   "pygments_lexer": "ipython3",
   "version": "3.9.17"
  }
 },
 "nbformat": 4,
 "nbformat_minor": 2
}
