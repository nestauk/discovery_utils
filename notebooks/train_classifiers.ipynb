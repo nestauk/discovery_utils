{
 "cells": [
  {
   "cell_type": "code",
   "execution_count": 1,
   "id": "80b971e6-53f6-4740-8132-cf257be7346f",
   "metadata": {},
   "outputs": [
    {
     "name": "stderr",
     "output_type": "stream",
     "text": [
      "/Users/jr/Documents/discovery_utils/.venv/lib/python3.10/site-packages/tqdm/auto.py:21: TqdmWarning: IProgress not found. Please update jupyter and ipywidgets. See https://ipywidgets.readthedocs.io/en/stable/user_install.html\n",
      "  from .autonotebook import tqdm as notebook_tqdm\n"
     ]
    }
   ],
   "source": [
    "from discovery_utils.getters.horizon_scout import get_training_data"
   ]
  },
  {
   "cell_type": "code",
   "execution_count": 29,
   "id": "7bb84878",
   "metadata": {},
   "outputs": [],
   "source": [
    "import pandas as pd\n",
    "from typing import Tuple\n",
    "import numpy as np\n",
    "from sklearn.metrics import confusion_matrix, precision_score, recall_score, accuracy_score\n",
    "from sklearn.metrics import confusion_matrix"
   ]
  },
  {
   "cell_type": "code",
   "execution_count": 81,
   "id": "d63d97ab",
   "metadata": {},
   "outputs": [],
   "source": [
    "def make_train_val_datasets(\n",
    "    dataset: pd.DataFrame,\n",
    "    random_state=int,\n",
    "    training_frac=float,\n",
    "    ) -> Tuple[pd.DataFrame, pd.DataFrame]:\n",
    "    \"\"\"\n",
    "    Split the input DataFrame into non-overlapping training, validation, and test datasets.\n",
    "\n",
    "    First shuffle the dataset using a specified random state.\n",
    "    Then partitions the dataset into training and validation sets.\n",
    "\n",
    "    Args:\n",
    "        dataset (pd.DataFrame): The complete dataset to be split.\n",
    "        random_state (int): A seed used by the random number generator for shuffling the data.\n",
    "        training_frac (float): The fraction of the dataset to allocate to the training set.\n",
    "\n",
    "    Returns:\n",
    "        Tuple[pd.DataFrame, pd.DataFrame, pd.DataFrame]: A tuple containing two DataFrames:\n",
    "        (training_dataset, val_dataset).\n",
    "    \"\"\"\n",
    "    shuffled_dataset = dataset.sample(frac=1, random_state=random_state)\n",
    "    train_size = int(len(shuffled_dataset) * training_frac)\n",
    "    train_dataset = shuffled_dataset[:train_size]\n",
    "    val_dataset = shuffled_dataset[train_size:]\n",
    "    return (train_dataset.reset_index(drop=True), val_dataset.reset_index(drop=True))\n",
    "\n",
    "\n",
    "def make_train_X_train_y_val_X_val_y(\n",
    "    train_dataset: pd.DataFrame,\n",
    "    val_dataset: pd.DataFrame\n",
    "    ) -> Tuple[np.array, np.array, np.array, np.array]:\n",
    "    train_X = np.vstack(train_dataset.embedding.values)\n",
    "    train_y = train_dataset.relevant.values\n",
    "    val_X = np.vstack(val_dataset.embedding.values)\n",
    "    val_y = val_dataset.relevant.values\n",
    "    return (train_X, train_y, val_X, val_y)\n",
    "\n",
    "    \n",
    "def print_confusion_matrix(actual, predictions):\n",
    "    cm = confusion_matrix(actual, predictions)\n",
    "\n",
    "    # Labels for the classes\n",
    "    classes = ['Neg', 'Pos']\n",
    "\n",
    "    # Print the confusion matrix with labels\n",
    "    print('            Predicted:')\n",
    "    print('            | {:<4} | {:<4} |'.format(*classes))\n",
    "    print('-----------------------------')\n",
    "    for i, row in enumerate(cm):\n",
    "        print('Actual {:<4} | {:<4} | {:<4} |'.format(classes[i], *row))\n",
    "    print()  # Print a new line for better separation\n",
    "    \n",
    "    # Calculate precision, recall, and accuracy\n",
    "    precision = precision_score(actual, predictions, average='binary')\n",
    "    recall = recall_score(actual, predictions, average='binary')\n",
    "    accuracy = accuracy_score(actual, predictions)\n",
    "\n",
    "    # Print the computed metrics\n",
    "    print(f\"Precision: {precision:.3f}\")\n",
    "    print(f\"Recall: {recall:.3f}\")\n",
    "    print(f\"Accuracy: {accuracy:.3f}\")\n",
    "    "
   ]
  },
  {
   "cell_type": "code",
   "execution_count": 82,
   "id": "d3e1fedf",
   "metadata": {},
   "outputs": [],
   "source": [
    "# Make train and val datasets for AHL\n",
    "ahl_training_data = get_training_data(\"AHL\")\n",
    "ahl_train, ahl_val = make_train_val_datasets(ahl_training_data, 13, 0.85)\n",
    "ahl_train_X, ahl_train_y, ahl_val_X, ahl_val_y = make_train_X_train_y_val_X_val_y(ahl_train, ahl_val)"
   ]
  },
  {
   "cell_type": "code",
   "execution_count": 83,
   "id": "7bd77228",
   "metadata": {},
   "outputs": [
    {
     "name": "stdout",
     "output_type": "stream",
     "text": [
      "            Predicted:\n",
      "            | Neg  | Pos  |\n",
      "-----------------------------\n",
      "Actual Neg  | 229  | 22   |\n",
      "Actual Pos  | 13   | 252  |\n",
      "\n",
      "Precision: 0.920\n",
      "Recall: 0.951\n",
      "Accuracy: 0.932\n"
     ]
    }
   ],
   "source": [
    "# Linear SVM performance AHL\n",
    "from sklearn.svm import SVC\n",
    "linear_svm_classifier = SVC(kernel='linear', C=2)\n",
    "linear_svm_classifier.fit(ahl_train_X, ahl_train_y)\n",
    "linear_svm_ahl_preds = linear_svm_classifier.predict(ahl_val_X)\n",
    "print_confusion_matrix(ahl_val_y, linear_svm_ahl_preds)"
   ]
  },
  {
   "cell_type": "code",
   "execution_count": 84,
   "id": "4ea4e7a1",
   "metadata": {},
   "outputs": [],
   "source": [
    "# Make train and val datasets for ASF\n",
    "asf_training_data = get_training_data(\"ASF\")\n",
    "asf_train, asf_val = make_train_val_datasets(asf_training_data, 13, 0.85)\n",
    "asf_train_X, asf_train_y, asf_val_X, asf_val_y = make_train_X_train_y_val_X_val_y(asf_train, asf_val)"
   ]
  },
  {
   "cell_type": "code",
   "execution_count": 85,
   "id": "35332423",
   "metadata": {},
   "outputs": [
    {
     "name": "stdout",
     "output_type": "stream",
     "text": [
      "            Predicted:\n",
      "            | Neg  | Pos  |\n",
      "-----------------------------\n",
      "Actual Neg  | 218  | 15   |\n",
      "Actual Pos  | 16   | 225  |\n",
      "\n",
      "Precision: 0.938\n",
      "Recall: 0.934\n",
      "Accuracy: 0.935\n"
     ]
    }
   ],
   "source": [
    "# Linear SVM performance ASF\n",
    "from sklearn.svm import SVC\n",
    "linear_svm_classifier = SVC(kernel='linear', C=0.5)\n",
    "linear_svm_classifier.fit(asf_train_X, asf_train_y)\n",
    "linear_svm_asf_preds = linear_svm_classifier.predict(asf_val_X)\n",
    "print_confusion_matrix(asf_val_y, linear_svm_asf_preds)"
   ]
  },
  {
   "cell_type": "code",
   "execution_count": 86,
   "id": "7202fe9f",
   "metadata": {},
   "outputs": [],
   "source": [
    "# Make train and val datasets for AFS\n",
    "afs_training_data = get_training_data(\"AFS\")\n",
    "afs_train, afs_val = make_train_val_datasets(afs_training_data, 13, 0.85)\n",
    "afs_train_X, afs_train_y, afs_val_X, afs_val_y = make_train_X_train_y_val_X_val_y(afs_train, afs_val)"
   ]
  },
  {
   "cell_type": "code",
   "execution_count": 97,
   "id": "e637250a",
   "metadata": {},
   "outputs": [
    {
     "name": "stdout",
     "output_type": "stream",
     "text": [
      "            Predicted:\n",
      "            | Neg  | Pos  |\n",
      "-----------------------------\n",
      "Actual Neg  | 209  | 8    |\n",
      "Actual Pos  | 5    | 224  |\n",
      "\n",
      "Precision: 0.966\n",
      "Recall: 0.978\n",
      "Accuracy: 0.971\n"
     ]
    }
   ],
   "source": [
    "# Linear SVM performance AFS\n",
    "from sklearn.svm import SVC\n",
    "linear_svm_classifier = SVC(kernel='linear', C=0.2)\n",
    "linear_svm_classifier.fit(afs_train_X, afs_train_y)\n",
    "linear_svm_afs_preds = linear_svm_classifier.predict(afs_val_X)\n",
    "print_confusion_matrix(afs_val_y, linear_svm_afs_preds)"
   ]
  },
  {
   "cell_type": "code",
   "execution_count": null,
   "id": "04786f63",
   "metadata": {},
   "outputs": [],
   "source": []
  }
 ],
 "metadata": {
  "kernelspec": {
   "display_name": "Python 3 (ipykernel)",
   "language": "python",
   "name": "python3"
  },
  "language_info": {
   "codemirror_mode": {
    "name": "ipython",
    "version": 3
   },
   "file_extension": ".py",
   "mimetype": "text/x-python",
   "name": "python",
   "nbconvert_exporter": "python",
   "pygments_lexer": "ipython3",
   "version": "3.10.14"
  }
 },
 "nbformat": 4,
 "nbformat_minor": 5
}
