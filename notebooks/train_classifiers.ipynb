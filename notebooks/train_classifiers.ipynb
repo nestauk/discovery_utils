{
 "cells": [
  {
   "cell_type": "code",
   "execution_count": 1,
   "id": "80b971e6-53f6-4740-8132-cf257be7346f",
   "metadata": {},
   "outputs": [
    {
     "name": "stderr",
     "output_type": "stream",
     "text": [
      "/Users/jr/Documents/discovery_utils/.venv/lib/python3.10/site-packages/tqdm/auto.py:21: TqdmWarning: IProgress not found. Please update jupyter and ipywidgets. See https://ipywidgets.readthedocs.io/en/stable/user_install.html\n",
      "  from .autonotebook import tqdm as notebook_tqdm\n"
     ]
    }
   ],
   "source": [
    "from discovery_utils.getters.horizon_scout import get_training_data\n",
<<<<<<< HEAD
    "from discovery_utils.enrichment.crunchbase import _enrich_keyword_labels"
=======
    "from discovery_utils.enrichment.crunchbase import _enrich_keyword_labels\n",
    "from discovery_utils.horizon_scout.utils import display_confusion_matrix"
>>>>>>> 0edcda0 (Training and inference for SVC)
   ]
  },
  {
   "cell_type": "code",
   "execution_count": 2,
   "id": "7bb84878",
   "metadata": {},
   "outputs": [],
   "source": [
    "import pandas as pd\n",
    "from typing import Tuple\n",
    "import numpy as np\n",
<<<<<<< HEAD
    "from sklearn.metrics import confusion_matrix, precision_score, recall_score, accuracy_score\n",
=======
>>>>>>> 0edcda0 (Training and inference for SVC)
    "from sklearn.svm import SVC\n",
    "from sklearn.linear_model import LogisticRegression\n",
    "from sklearn.neighbors import KNeighborsClassifier"
   ]
  },
  {
   "cell_type": "code",
   "execution_count": 3,
   "id": "d63d97ab",
   "metadata": {},
   "outputs": [],
   "source": [
    "def make_train_val_datasets(\n",
    "    dataset: pd.DataFrame,\n",
    "    random_state=int,\n",
    "    training_frac=float,\n",
    "    ) -> Tuple[pd.DataFrame, pd.DataFrame]:\n",
    "    \"\"\"\n",
    "    Split the input DataFrame into  training and validation datasets.\n",
    "\n",
    "    First shuffle the dataset using a specified random state.\n",
    "    Then partitions the dataset into training and validation sets.\n",
    "\n",
    "    Args:\n",
    "        dataset (pd.DataFrame): The complete dataset to be split.\n",
    "        random_state (int): A seed used by the random number generator for shuffling the data.\n",
    "        training_frac (float): The fraction of the dataset to allocate to the training set.\n",
    "\n",
    "    Returns:\n",
    "        Tuple[pd.DataFrame, pd.DataFrame]: A tuple containing two DataFrames:\n",
    "        (training_dataset, val_dataset).\n",
    "    \"\"\"\n",
    "    shuffled_dataset = dataset.sample(frac=1, random_state=random_state)\n",
    "    train_size = int(len(shuffled_dataset) * training_frac)\n",
    "    train_dataset = shuffled_dataset[:train_size]\n",
    "    val_dataset = shuffled_dataset[train_size:]\n",
    "    return (train_dataset.reset_index(drop=True), val_dataset.reset_index(drop=True))\n",
    "\n",
    "\n",
    "def make_train_X_train_y_val_X_val_y(\n",
    "    train_dataset: pd.DataFrame,\n",
    "    val_dataset: pd.DataFrame\n",
    "    ) -> Tuple[np.array, np.array, np.array, np.array]:\n",
    "    \"\"\"\n",
    "    Create training and validation feature (embeddings) and target arrays.\n",
    "\n",
    "    Args:\n",
    "        train_dataset (pd.DataFrame): The training dataset containing features and target.\n",
    "        val_dataset (pd.DataFrame): The validation dataset containing features and target.\n",
    "\n",
    "    Returns:\n",
    "        Tuple[np.ndarray, np.ndarray, np.ndarray, np.ndarray]: A tuple containing four arrays:\n",
    "        (train_X, train_y, val_X, val_y).\n",
    "    \"\"\"\n",
    "    train_X = np.vstack(train_dataset.embedding.values)\n",
    "    train_y = train_dataset.relevant.values\n",
    "    val_X = np.vstack(val_dataset.embedding.values)\n",
    "    val_y = val_dataset.relevant.values\n",
    "    return (train_X, train_y, val_X, val_y)\n",
<<<<<<< HEAD
    "\n",
    "    \n",
    "def print_confusion_matrix(actual: np.array, predictions: np.array):\n",
    "    \"\"\"\n",
    "    Print the confusion matrix along with precision, recall, and accuracy metrics.\n",
    "\n",
    "    Args:\n",
    "        actual (np.ndarray): Array of actual target values.\n",
    "        predictions (np.ndarray): Array of predicted target values.\n",
    "    \"\"\"\n",
    "    cm = confusion_matrix(actual, predictions)\n",
    "    \n",
    "    classes = ['Neg', 'Pos']\n",
    "    \n",
    "    print('            Predicted:')\n",
    "    print('            | {:<4} | {:<4} |'.format(*classes))\n",
    "    print('-----------------------------')\n",
    "    for i, row in enumerate(cm):\n",
    "        print('Actual {:<4} | {:<4} | {:<4} |'.format(classes[i], *row))\n",
    "    print()\n",
    "    \n",
    "    precision = precision_score(actual, predictions, average='binary')\n",
    "    recall = recall_score(actual, predictions, average='binary')\n",
    "    accuracy = accuracy_score(actual, predictions)\n",
    "\n",
    "    print(f\"Precision: {precision:.3f}\")\n",
    "    print(f\"Recall: {recall:.3f}\")\n",
    "    print(f\"Accuracy: {accuracy:.3f}\")\n",
=======
>>>>>>> 0edcda0 (Training and inference for SVC)
    "    \n",
    "    \n",
    "def classify_by_keywords(dataset: pd.DataFrame, mission: str) -> pd.DataFrame:\n",
    "    \"\"\"Classify mission relevance by keywords.\n",
    "    \n",
    "    Args:\n",
    "        dataset (pd.DataFrame): Dataset to be classified. Must have column \"text\" and \"id\".\n",
    "        mission (str): Mission ('AHL', 'ASF' or 'AFS')\n",
    "    \"\"\"\n",
    "    return (\n",
    "        dataset\n",
    "        .merge(_enrich_keyword_labels(dataset, mission).assign(prediction=1), how=\"left\", on=\"id\")\n",
    "        .fillna({\"prediction\": 0})\n",
    "        .assign(correct=lambda x: (x['relevant'] == x['prediction']))\n",
    "        .astype({\"correct\": int, \"prediction\": int})\n",
    "        .drop(columns=\"topic_label\")\n",
    "        .drop_duplicates(subset=\"id\")\n",
    "    )\n",
    "    "
   ]
  },
  {
   "cell_type": "code",
   "execution_count": 4,
   "id": "d3e1fedf",
   "metadata": {},
   "outputs": [],
   "source": [
    "# Make train and val datasets for AHL\n",
    "ahl_training_data = get_training_data(\"AHL\")\n",
    "ahl_train, ahl_val = make_train_val_datasets(ahl_training_data, 13, 0.85)\n",
    "ahl_train_X, ahl_train_y, ahl_val_X, ahl_val_y = make_train_X_train_y_val_X_val_y(ahl_train, ahl_val)"
   ]
  },
  {
   "cell_type": "code",
   "execution_count": 5,
   "id": "85460770",
   "metadata": {},
   "outputs": [
    {
<<<<<<< HEAD
     "name": "stdout",
     "output_type": "stream",
     "text": [
      "            Predicted:\n",
      "            | Neg  | Pos  |\n",
      "-----------------------------\n",
      "Actual Neg  | 249  | 2    |\n",
      "Actual Pos  | 83   | 182  |\n",
      "\n",
      "Precision: 0.989\n",
      "Recall: 0.687\n",
      "Accuracy: 0.835\n"
=======
     "name": "stderr",
     "output_type": "stream",
     "text": [
      "INFO:root:            Predicted:\n",
      "INFO:root:            | Neg | Pos |\n",
      "INFO:root:-----------------------------\n",
      "INFO:root:Actual Neg | 1114 |   15 |\n",
      "INFO:root:Actual Pos |  821 |  209 |\n",
      "INFO:root:Precision: 0.933\n",
      "INFO:root:Recall: 0.203\n",
      "INFO:root:Accuracy: 0.613\n"
>>>>>>> 0edcda0 (Training and inference for SVC)
     ]
    }
   ],
   "source": [
    "# Keyword classifier AHL\n",
    "ahl_val_with_preds = classify_by_keywords(ahl_val, \"AHL\")\n",
<<<<<<< HEAD
    "print_confusion_matrix(ahl_val_with_preds.relevant.values, ahl_val_with_preds.prediction.values)"
=======
    "display_confusion_matrix(ahl_val_with_preds.relevant.values, ahl_val_with_preds.prediction.values)"
>>>>>>> 0edcda0 (Training and inference for SVC)
   ]
  },
  {
   "cell_type": "code",
   "execution_count": 6,
   "id": "7bd77228",
   "metadata": {},
   "outputs": [
    {
<<<<<<< HEAD
     "name": "stdout",
     "output_type": "stream",
     "text": [
      "            Predicted:\n",
      "            | Neg  | Pos  |\n",
      "-----------------------------\n",
      "Actual Neg  | 238  | 13   |\n",
      "Actual Pos  | 19   | 246  |\n",
      "\n",
      "Precision: 0.950\n",
      "Recall: 0.928\n",
      "Accuracy: 0.938\n"
=======
     "name": "stderr",
     "output_type": "stream",
     "text": [
      "INFO:root:            Predicted:\n",
      "INFO:root:            | Neg | Pos |\n",
      "INFO:root:-----------------------------\n",
      "INFO:root:Actual Neg | 1012 |  117 |\n",
      "INFO:root:Actual Pos |   96 |  934 |\n",
      "INFO:root:Precision: 0.889\n",
      "INFO:root:Recall: 0.907\n",
      "INFO:root:Accuracy: 0.901\n"
>>>>>>> 0edcda0 (Training and inference for SVC)
     ]
    }
   ],
   "source": [
    "# Linear SVM performance AHL\n",
    "linear_svm_ahl_classifier = SVC(kernel='linear', C=2)\n",
    "linear_svm_ahl_classifier.fit(ahl_train_X, ahl_train_y)\n",
    "linear_svm_ahl_preds = linear_svm_ahl_classifier.predict(ahl_val_X)\n",
<<<<<<< HEAD
    "print_confusion_matrix(ahl_val_y, linear_svm_ahl_preds)"
=======
    "display_confusion_matrix(ahl_val_y, linear_svm_ahl_preds)"
>>>>>>> 0edcda0 (Training and inference for SVC)
   ]
  },
  {
   "cell_type": "code",
   "execution_count": 7,
   "id": "fa61ddd4",
   "metadata": {},
   "outputs": [
    {
<<<<<<< HEAD
     "name": "stdout",
     "output_type": "stream",
     "text": [
      "            Predicted:\n",
      "            | Neg  | Pos  |\n",
      "-----------------------------\n",
      "Actual Neg  | 244  | 7    |\n",
      "Actual Pos  | 15   | 250  |\n",
      "\n",
      "Precision: 0.973\n",
      "Recall: 0.943\n",
      "Accuracy: 0.957\n"
=======
     "name": "stderr",
     "output_type": "stream",
     "text": [
      "INFO:root:            Predicted:\n",
      "INFO:root:            | Neg | Pos |\n",
      "INFO:root:-----------------------------\n",
      "INFO:root:Actual Neg | 1045 |   84 |\n",
      "INFO:root:Actual Pos |   71 |  959 |\n",
      "INFO:root:Precision: 0.919\n",
      "INFO:root:Recall: 0.931\n",
      "INFO:root:Accuracy: 0.928\n"
>>>>>>> 0edcda0 (Training and inference for SVC)
     ]
    }
   ],
   "source": [
    "# Poly SVM performance AHL\n",
    "poly_svm_ahl_classifier = SVC(kernel='poly', degree=4, C=0.3, gamma='scale', coef0=0.5)\n",
    "poly_svm_ahl_classifier.fit(ahl_train_X, ahl_train_y)\n",
    "poly_svm_ahl_preds = poly_svm_ahl_classifier.predict(ahl_val_X)\n",
<<<<<<< HEAD
    "print_confusion_matrix(ahl_val_y, poly_svm_ahl_preds)"
=======
    "display_confusion_matrix(ahl_val_y, poly_svm_ahl_preds)"
>>>>>>> 0edcda0 (Training and inference for SVC)
   ]
  },
  {
   "cell_type": "code",
   "execution_count": 8,
   "id": "af6bf092",
   "metadata": {},
   "outputs": [
    {
<<<<<<< HEAD
     "name": "stdout",
     "output_type": "stream",
     "text": [
      "            Predicted:\n",
      "            | Neg  | Pos  |\n",
      "-----------------------------\n",
      "Actual Neg  | 240  | 11   |\n",
      "Actual Pos  | 22   | 243  |\n",
      "\n",
      "Precision: 0.957\n",
      "Recall: 0.917\n",
      "Accuracy: 0.936\n"
=======
     "name": "stderr",
     "output_type": "stream",
     "text": [
      "INFO:root:            Predicted:\n",
      "INFO:root:            | Neg | Pos |\n",
      "INFO:root:-----------------------------\n",
      "INFO:root:Actual Neg | 1016 |  113 |\n",
      "INFO:root:Actual Pos |   94 |  936 |\n",
      "INFO:root:Precision: 0.892\n",
      "INFO:root:Recall: 0.909\n",
      "INFO:root:Accuracy: 0.904\n"
>>>>>>> 0edcda0 (Training and inference for SVC)
     ]
    }
   ],
   "source": [
    "# LR performance AHL\n",
    "lr_ahl_classifier = LogisticRegression(solver='lbfgs', max_iter=50, C=1)\n",
    "lr_ahl_classifier.fit(ahl_train_X, ahl_train_y)\n",
    "lr_ahl_preds = lr_ahl_classifier.predict(ahl_val_X)\n",
<<<<<<< HEAD
    "print_confusion_matrix(ahl_val_y, lr_ahl_preds)"
=======
    "display_confusion_matrix(ahl_val_y, lr_ahl_preds)"
>>>>>>> 0edcda0 (Training and inference for SVC)
   ]
  },
  {
   "cell_type": "code",
   "execution_count": 9,
   "id": "6e972582",
   "metadata": {},
   "outputs": [
    {
<<<<<<< HEAD
     "name": "stdout",
     "output_type": "stream",
     "text": [
      "            Predicted:\n",
      "            | Neg  | Pos  |\n",
      "-----------------------------\n",
      "Actual Neg  | 232  | 19   |\n",
      "Actual Pos  | 10   | 255  |\n",
      "\n",
      "Precision: 0.931\n",
      "Recall: 0.962\n",
      "Accuracy: 0.944\n"
=======
     "name": "stderr",
     "output_type": "stream",
     "text": [
      "INFO:root:            Predicted:\n",
      "INFO:root:            | Neg | Pos |\n",
      "INFO:root:-----------------------------\n",
      "INFO:root:Actual Neg |  987 |  142 |\n",
      "INFO:root:Actual Pos |   61 |  969 |\n",
      "INFO:root:Precision: 0.872\n",
      "INFO:root:Recall: 0.941\n",
      "INFO:root:Accuracy: 0.906\n"
>>>>>>> 0edcda0 (Training and inference for SVC)
     ]
    }
   ],
   "source": [
    "# KNN performance AHL\n",
    "knn_ahl_classifier = KNeighborsClassifier(n_neighbors=4)\n",
    "knn_ahl_classifier.fit(ahl_train_X, ahl_train_y)\n",
    "knn_ahl_preds = knn_ahl_classifier.predict(ahl_val_X)\n",
<<<<<<< HEAD
    "print_confusion_matrix(ahl_val_y, knn_ahl_preds)"
=======
    "display_confusion_matrix(ahl_val_y, knn_ahl_preds)"
>>>>>>> 0edcda0 (Training and inference for SVC)
   ]
  },
  {
   "cell_type": "code",
   "execution_count": 10,
   "id": "4ea4e7a1",
   "metadata": {},
   "outputs": [],
   "source": [
    "# Make train and val datasets for ASF\n",
    "asf_training_data = get_training_data(\"ASF\")\n",
    "asf_train, asf_val = make_train_val_datasets(asf_training_data, 13, 0.85)\n",
    "asf_train_X, asf_train_y, asf_val_X, asf_val_y = make_train_X_train_y_val_X_val_y(asf_train, asf_val)"
   ]
  },
  {
   "cell_type": "code",
   "execution_count": 11,
   "id": "21fcfb02",
   "metadata": {},
   "outputs": [
    {
<<<<<<< HEAD
     "name": "stdout",
     "output_type": "stream",
     "text": [
      "            Predicted:\n",
      "            | Neg  | Pos  |\n",
      "-----------------------------\n",
      "Actual Neg  | 226  | 6    |\n",
      "Actual Pos  | 120  | 122  |\n",
      "\n",
      "Precision: 0.953\n",
      "Recall: 0.504\n",
      "Accuracy: 0.734\n"
=======
     "name": "stderr",
     "output_type": "stream",
     "text": [
      "INFO:root:            Predicted:\n",
      "INFO:root:            | Neg | Pos |\n",
      "INFO:root:-----------------------------\n",
      "INFO:root:Actual Neg |  232 |    9 |\n",
      "INFO:root:Actual Pos |  125 |  124 |\n",
      "INFO:root:Precision: 0.932\n",
      "INFO:root:Recall: 0.498\n",
      "INFO:root:Accuracy: 0.727\n"
>>>>>>> 0edcda0 (Training and inference for SVC)
     ]
    }
   ],
   "source": [
    "# Keyword classifier ASF\n",
    "asf_val_with_preds = classify_by_keywords(asf_val, \"ASF\")\n",
<<<<<<< HEAD
    "print_confusion_matrix(asf_val_with_preds.relevant.values, asf_val_with_preds.prediction.values)"
=======
    "display_confusion_matrix(asf_val_with_preds.relevant.values, asf_val_with_preds.prediction.values)"
>>>>>>> 0edcda0 (Training and inference for SVC)
   ]
  },
  {
   "cell_type": "code",
   "execution_count": 12,
   "id": "35332423",
   "metadata": {},
   "outputs": [
    {
<<<<<<< HEAD
     "name": "stdout",
     "output_type": "stream",
     "text": [
      "            Predicted:\n",
      "            | Neg  | Pos  |\n",
      "-----------------------------\n",
      "Actual Neg  | 216  | 16   |\n",
      "Actual Pos  | 28   | 214  |\n",
      "\n",
      "Precision: 0.930\n",
      "Recall: 0.884\n",
      "Accuracy: 0.907\n"
=======
     "name": "stderr",
     "output_type": "stream",
     "text": [
      "INFO:root:            Predicted:\n",
      "INFO:root:            | Neg | Pos |\n",
      "INFO:root:-----------------------------\n",
      "INFO:root:Actual Neg |  224 |   17 |\n",
      "INFO:root:Actual Pos |   47 |  202 |\n",
      "INFO:root:Precision: 0.922\n",
      "INFO:root:Recall: 0.811\n",
      "INFO:root:Accuracy: 0.869\n"
>>>>>>> 0edcda0 (Training and inference for SVC)
     ]
    }
   ],
   "source": [
    "# Linear SVM performance ASF\n",
    "linear_svm_asf_classifier = SVC(kernel='linear', C=0.1)\n",
    "linear_svm_asf_classifier.fit(asf_train_X, asf_train_y)\n",
    "linear_svm_asf_preds = linear_svm_asf_classifier.predict(asf_val_X)\n",
<<<<<<< HEAD
    "print_confusion_matrix(asf_val_y, linear_svm_asf_preds)"
=======
    "display_confusion_matrix(asf_val_y, linear_svm_asf_preds)"
>>>>>>> 0edcda0 (Training and inference for SVC)
   ]
  },
  {
   "cell_type": "code",
   "execution_count": 13,
   "id": "ed8766fb",
   "metadata": {},
   "outputs": [
    {
<<<<<<< HEAD
     "name": "stdout",
     "output_type": "stream",
     "text": [
      "            Predicted:\n",
      "            | Neg  | Pos  |\n",
      "-----------------------------\n",
      "Actual Neg  | 220  | 12   |\n",
      "Actual Pos  | 23   | 219  |\n",
      "\n",
      "Precision: 0.948\n",
      "Recall: 0.905\n",
      "Accuracy: 0.926\n"
=======
     "name": "stderr",
     "output_type": "stream",
     "text": [
      "INFO:root:            Predicted:\n",
      "INFO:root:            | Neg | Pos |\n",
      "INFO:root:-----------------------------\n",
      "INFO:root:Actual Neg |  225 |   16 |\n",
      "INFO:root:Actual Pos |   33 |  216 |\n",
      "INFO:root:Precision: 0.931\n",
      "INFO:root:Recall: 0.867\n",
      "INFO:root:Accuracy: 0.900\n"
>>>>>>> 0edcda0 (Training and inference for SVC)
     ]
    }
   ],
   "source": [
    "# Poly SVM performance ASF\n",
    "poly_svm_asf_classifier = SVC(kernel='poly', degree=4, C=0.3, gamma='scale', coef0=0.5)\n",
    "poly_svm_asf_classifier.fit(asf_train_X, asf_train_y)\n",
    "poly_svm_asf_preds = poly_svm_asf_classifier.predict(asf_val_X)\n",
<<<<<<< HEAD
    "print_confusion_matrix(asf_val_y, poly_svm_asf_preds)"
=======
    "display_confusion_matrix(asf_val_y, poly_svm_asf_preds)"
>>>>>>> 0edcda0 (Training and inference for SVC)
   ]
  },
  {
   "cell_type": "code",
   "execution_count": 14,
   "id": "20c6712f",
   "metadata": {},
   "outputs": [
    {
<<<<<<< HEAD
     "name": "stdout",
     "output_type": "stream",
     "text": [
      "            Predicted:\n",
      "            | Neg  | Pos  |\n",
      "-----------------------------\n",
      "Actual Neg  | 220  | 12   |\n",
      "Actual Pos  | 27   | 215  |\n",
      "\n",
      "Precision: 0.947\n",
      "Recall: 0.888\n",
      "Accuracy: 0.918\n"
=======
     "name": "stderr",
     "output_type": "stream",
     "text": [
      "INFO:root:            Predicted:\n",
      "INFO:root:            | Neg | Pos |\n",
      "INFO:root:-----------------------------\n",
      "INFO:root:Actual Neg |  222 |   19 |\n",
      "INFO:root:Actual Pos |   39 |  210 |\n",
      "INFO:root:Precision: 0.917\n",
      "INFO:root:Recall: 0.843\n",
      "INFO:root:Accuracy: 0.882\n"
>>>>>>> 0edcda0 (Training and inference for SVC)
     ]
    }
   ],
   "source": [
    "# LR performance ASF\n",
    "lr_asf_classifier = LogisticRegression(solver='newton-cg', penalty=\"l2\", C=3)\n",
    "lr_asf_classifier.fit(asf_train_X, asf_train_y)\n",
    "lr_asf_preds = lr_asf_classifier.predict(asf_val_X)\n",
<<<<<<< HEAD
    "print_confusion_matrix(asf_val_y, lr_asf_preds)"
=======
    "display_confusion_matrix(asf_val_y, lr_asf_preds)"
>>>>>>> 0edcda0 (Training and inference for SVC)
   ]
  },
  {
   "cell_type": "code",
   "execution_count": 15,
   "id": "4da1aaeb",
   "metadata": {},
   "outputs": [
    {
<<<<<<< HEAD
     "name": "stdout",
     "output_type": "stream",
     "text": [
      "            Predicted:\n",
      "            | Neg  | Pos  |\n",
      "-----------------------------\n",
      "Actual Neg  | 205  | 27   |\n",
      "Actual Pos  | 11   | 231  |\n",
      "\n",
      "Precision: 0.895\n",
      "Recall: 0.955\n",
      "Accuracy: 0.920\n"
=======
     "name": "stderr",
     "output_type": "stream",
     "text": [
      "INFO:root:            Predicted:\n",
      "INFO:root:            | Neg | Pos |\n",
      "INFO:root:-----------------------------\n",
      "INFO:root:Actual Neg |  205 |   36 |\n",
      "INFO:root:Actual Pos |   21 |  228 |\n",
      "INFO:root:Precision: 0.864\n",
      "INFO:root:Recall: 0.916\n",
      "INFO:root:Accuracy: 0.884\n"
>>>>>>> 0edcda0 (Training and inference for SVC)
     ]
    }
   ],
   "source": [
    "# KNN performance ASF\n",
    "knn_asf_classifier = KNeighborsClassifier(n_neighbors=10)\n",
    "knn_asf_classifier.fit(asf_train_X, asf_train_y)\n",
    "knn_asf_preds = knn_asf_classifier.predict(asf_val_X)\n",
<<<<<<< HEAD
    "print_confusion_matrix(asf_val_y, knn_asf_preds)"
=======
    "display_confusion_matrix(asf_val_y, knn_asf_preds)"
>>>>>>> 0edcda0 (Training and inference for SVC)
   ]
  },
  {
   "cell_type": "code",
   "execution_count": 16,
   "id": "7202fe9f",
   "metadata": {},
   "outputs": [],
   "source": [
    "# Make train and val datasets for AFS\n",
    "afs_training_data = get_training_data(\"AFS\")\n",
    "afs_train, afs_val = make_train_val_datasets(afs_training_data, 13, 0.85)\n",
    "afs_train_X, afs_train_y, afs_val_X, afs_val_y = make_train_X_train_y_val_X_val_y(afs_train, afs_val)"
   ]
  },
  {
   "cell_type": "code",
   "execution_count": 17,
   "id": "934aee3d",
   "metadata": {},
   "outputs": [
    {
<<<<<<< HEAD
     "name": "stdout",
     "output_type": "stream",
     "text": [
      "            Predicted:\n",
      "            | Neg  | Pos  |\n",
      "-----------------------------\n",
      "Actual Neg  | 205  | 12   |\n",
      "Actual Pos  | 62   | 167  |\n",
      "\n",
      "Precision: 0.933\n",
      "Recall: 0.729\n",
      "Accuracy: 0.834\n"
=======
     "name": "stderr",
     "output_type": "stream",
     "text": [
      "INFO:root:            Predicted:\n",
      "INFO:root:            | Neg | Pos |\n",
      "INFO:root:-----------------------------\n",
      "INFO:root:Actual Neg |  216 |    4 |\n",
      "INFO:root:Actual Pos |   63 |  176 |\n",
      "INFO:root:Precision: 0.978\n",
      "INFO:root:Recall: 0.736\n",
      "INFO:root:Accuracy: 0.854\n"
>>>>>>> 0edcda0 (Training and inference for SVC)
     ]
    }
   ],
   "source": [
    "# Keyword classifier AFS\n",
    "afs_val_with_preds = classify_by_keywords(afs_val, \"AFS\")\n",
<<<<<<< HEAD
    "print_confusion_matrix(afs_val_with_preds.relevant.values, afs_val_with_preds.prediction.values)"
=======
    "display_confusion_matrix(afs_val_with_preds.relevant.values, afs_val_with_preds.prediction.values)"
>>>>>>> 0edcda0 (Training and inference for SVC)
   ]
  },
  {
   "cell_type": "code",
   "execution_count": 18,
   "id": "e637250a",
   "metadata": {},
   "outputs": [
    {
<<<<<<< HEAD
     "name": "stdout",
     "output_type": "stream",
     "text": [
      "            Predicted:\n",
      "            | Neg  | Pos  |\n",
      "-----------------------------\n",
      "Actual Neg  | 210  | 7    |\n",
      "Actual Pos  | 6    | 223  |\n",
      "\n",
      "Precision: 0.970\n",
      "Recall: 0.974\n",
      "Accuracy: 0.971\n"
=======
     "name": "stderr",
     "output_type": "stream",
     "text": [
      "INFO:root:            Predicted:\n",
      "INFO:root:            | Neg | Pos |\n",
      "INFO:root:-----------------------------\n",
      "INFO:root:Actual Neg |  199 |   21 |\n",
      "INFO:root:Actual Pos |    9 |  230 |\n",
      "INFO:root:Precision: 0.916\n",
      "INFO:root:Recall: 0.962\n",
      "INFO:root:Accuracy: 0.935\n"
>>>>>>> 0edcda0 (Training and inference for SVC)
     ]
    }
   ],
   "source": [
    "# Linear SVM performance AFS\n",
    "linear_svm_afs_classifier = SVC(kernel='linear', C=0.1)\n",
    "linear_svm_afs_classifier.fit(afs_train_X, afs_train_y)\n",
    "linear_svm_afs_preds = linear_svm_afs_classifier.predict(afs_val_X)\n",
<<<<<<< HEAD
    "print_confusion_matrix(afs_val_y, linear_svm_afs_preds)"
=======
    "display_confusion_matrix(afs_val_y, linear_svm_afs_preds)"
>>>>>>> 0edcda0 (Training and inference for SVC)
   ]
  },
  {
   "cell_type": "code",
   "execution_count": 19,
   "id": "cf6ace67",
   "metadata": {},
   "outputs": [
    {
<<<<<<< HEAD
     "name": "stdout",
     "output_type": "stream",
     "text": [
      "            Predicted:\n",
      "            | Neg  | Pos  |\n",
      "-----------------------------\n",
      "Actual Neg  | 211  | 6    |\n",
      "Actual Pos  | 7    | 222  |\n",
      "\n",
      "Precision: 0.974\n",
      "Recall: 0.969\n",
      "Accuracy: 0.971\n"
=======
     "name": "stderr",
     "output_type": "stream",
     "text": [
      "INFO:root:            Predicted:\n",
      "INFO:root:            | Neg | Pos |\n",
      "INFO:root:-----------------------------\n",
      "INFO:root:Actual Neg |  201 |   19 |\n",
      "INFO:root:Actual Pos |   14 |  225 |\n",
      "INFO:root:Precision: 0.922\n",
      "INFO:root:Recall: 0.941\n",
      "INFO:root:Accuracy: 0.928\n"
>>>>>>> 0edcda0 (Training and inference for SVC)
     ]
    }
   ],
   "source": [
    "# Poly SVM performance AFS\n",
    "poly_svm_afs_classifier = SVC(kernel='poly', degree=4, C=0.1, gamma='scale', coef0=0.5)\n",
    "poly_svm_afs_classifier.fit(afs_train_X, afs_train_y)\n",
    "poly_svm_afs_preds = poly_svm_afs_classifier.predict(afs_val_X)\n",
<<<<<<< HEAD
    "print_confusion_matrix(afs_val_y, poly_svm_afs_preds)"
=======
    "display_confusion_matrix(afs_val_y, poly_svm_afs_preds)"
>>>>>>> 0edcda0 (Training and inference for SVC)
   ]
  },
  {
   "cell_type": "code",
   "execution_count": 20,
   "id": "24892c8b",
   "metadata": {},
   "outputs": [
    {
<<<<<<< HEAD
     "name": "stdout",
     "output_type": "stream",
     "text": [
      "            Predicted:\n",
      "            | Neg  | Pos  |\n",
      "-----------------------------\n",
      "Actual Neg  | 211  | 6    |\n",
      "Actual Pos  | 8    | 221  |\n",
      "\n",
      "Precision: 0.974\n",
      "Recall: 0.965\n",
      "Accuracy: 0.969\n"
=======
     "name": "stderr",
     "output_type": "stream",
     "text": [
      "INFO:root:            Predicted:\n",
      "INFO:root:            | Neg | Pos |\n",
      "INFO:root:-----------------------------\n",
      "INFO:root:Actual Neg |  205 |   15 |\n",
      "INFO:root:Actual Pos |   12 |  227 |\n",
      "INFO:root:Precision: 0.938\n",
      "INFO:root:Recall: 0.950\n",
      "INFO:root:Accuracy: 0.941\n"
>>>>>>> 0edcda0 (Training and inference for SVC)
     ]
    }
   ],
   "source": [
    "# LR performance AFS\n",
    "lr_afs_classifier = LogisticRegression(solver='saga', penalty=\"l2\", max_iter=100, C=8)\n",
    "lr_afs_classifier.fit(afs_train_X, afs_train_y)\n",
    "lr_afs_preds = lr_afs_classifier.predict(afs_val_X)\n",
<<<<<<< HEAD
    "print_confusion_matrix(afs_val_y, lr_afs_preds)"
=======
    "display_confusion_matrix(afs_val_y, lr_afs_preds)"
>>>>>>> 0edcda0 (Training and inference for SVC)
   ]
  },
  {
   "cell_type": "code",
   "execution_count": 21,
   "id": "890617de",
   "metadata": {},
   "outputs": [
    {
<<<<<<< HEAD
     "name": "stdout",
     "output_type": "stream",
     "text": [
      "            Predicted:\n",
      "            | Neg  | Pos  |\n",
      "-----------------------------\n",
      "Actual Neg  | 196  | 21   |\n",
      "Actual Pos  | 4    | 225  |\n",
      "\n",
      "Precision: 0.915\n",
      "Recall: 0.983\n",
      "Accuracy: 0.944\n"
=======
     "name": "stderr",
     "output_type": "stream",
     "text": [
      "INFO:root:            Predicted:\n",
      "INFO:root:            | Neg | Pos |\n",
      "INFO:root:-----------------------------\n",
      "INFO:root:Actual Neg |  186 |   34 |\n",
      "INFO:root:Actual Pos |    1 |  238 |\n",
      "INFO:root:Precision: 0.875\n",
      "INFO:root:Recall: 0.996\n",
      "INFO:root:Accuracy: 0.924\n"
>>>>>>> 0edcda0 (Training and inference for SVC)
     ]
    }
   ],
   "source": [
    "# KNN performance AFS\n",
    "knn_afs_classifier = KNeighborsClassifier(n_neighbors=5)\n",
    "knn_afs_classifier.fit(afs_train_X, afs_train_y)\n",
    "knn_afs_preds = knn_afs_classifier.predict(afs_val_X)\n",
<<<<<<< HEAD
    "print_confusion_matrix(afs_val_y, knn_afs_preds)"
=======
    "display_confusion_matrix(afs_val_y, knn_afs_preds)"
>>>>>>> 0edcda0 (Training and inference for SVC)
   ]
  },
  {
   "cell_type": "code",
   "execution_count": 22,
   "id": "7ce01f66",
   "metadata": {},
   "outputs": [],
   "source": [
    "ahl_train.to_csv(\"ahl_train.csv\", index=False)\n",
    "ahl_val.to_csv(\"ahl_val.csv\", index=False)"
   ]
  },
  {
   "cell_type": "code",
   "execution_count": 23,
   "id": "29428803",
   "metadata": {},
   "outputs": [],
   "source": [
    "asf_train.to_csv(\"asf_train.csv\", index=False)\n",
    "asf_val.to_csv(\"asf_val.csv\", index=False)"
   ]
  },
  {
   "cell_type": "code",
   "execution_count": 24,
   "id": "152da844",
   "metadata": {},
   "outputs": [],
   "source": [
    "afs_train.to_csv(\"afs_train.csv\", index=False)\n",
    "afs_val.to_csv(\"afs_val.csv\", index=False)"
   ]
  },
  {
   "cell_type": "code",
   "execution_count": null,
<<<<<<< HEAD
   "id": "bfe41220",
=======
   "id": "500299aa",
>>>>>>> 0edcda0 (Training and inference for SVC)
   "metadata": {},
   "outputs": [],
   "source": []
  }
 ],
 "metadata": {
  "kernelspec": {
   "display_name": "Python 3 (ipykernel)",
   "language": "python",
   "name": "python3"
  },
  "language_info": {
   "codemirror_mode": {
    "name": "ipython",
    "version": 3
   },
   "file_extension": ".py",
   "mimetype": "text/x-python",
   "name": "python",
   "nbconvert_exporter": "python",
   "pygments_lexer": "ipython3",
   "version": "3.10.14"
  }
 },
 "nbformat": 4,
 "nbformat_minor": 5
}
