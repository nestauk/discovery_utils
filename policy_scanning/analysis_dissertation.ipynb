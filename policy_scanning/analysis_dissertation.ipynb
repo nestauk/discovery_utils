{
 "cells": [
  {
   "cell_type": "markdown",
   "metadata": {},
   "source": [
    "# Notebook used to apply Lexicometry and BERTopic to the speeches related to heat pumps"
   ]
  },
  {
   "cell_type": "code",
   "execution_count": 14,
   "metadata": {},
   "outputs": [],
   "source": [
    "#Import libraries\n",
    "import pandas as pd\n",
    "from discovery_utils import PROJECT_DIR\n",
    "from datetime import datetime\n",
    "import re\n",
    "import dotenv\n",
    "\n",
    "dotenv.load_dotenv();"
   ]
  },
  {
   "cell_type": "code",
   "execution_count": 2,
   "metadata": {},
   "outputs": [],
   "source": [
    "#download the debatesfiles\n",
    "file_path = PROJECT_DIR / 'policy_scanning/data/HansardDebates.parquet'\n",
    "\n",
    "# Load the Parquet file into a DataFrame\n",
    "df_speeches = pd.read_parquet(file_path)"
   ]
  },
  {
   "cell_type": "code",
   "execution_count": 3,
   "metadata": {},
   "outputs": [],
   "source": [
    "#function to count the number of speeches held in each year\n",
    "def count_speeches_per_year(year_column, start_year, end_year): \n",
    "    \n",
    "    dict_speeches_per_year = {}\n",
    "    for year in range(start_year, end_year):\n",
    "        count = 0\n",
    "        for item in year_column:\n",
    "            if item == str(year):\n",
    "                count +=1\n",
    "        dict_speeches_per_year[f\"{year}\"] = count\n",
    "\n",
    "    return  dict_speeches_per_year"
   ]
  },
  {
   "cell_type": "code",
   "execution_count": 4,
   "metadata": {},
   "outputs": [],
   "source": [
    "#function used to normalise counts\n",
    "def normalize_speech_count(dict1, dict2):\n",
    "    normalized_result = {}\n",
    "    for key, value in dict1.items():\n",
    "        if key in dict2:\n",
    "            normalized_result[key] = value / dict2[key]\n",
    "    \n",
    "    return normalized_result"
   ]
  },
  {
   "cell_type": "code",
   "execution_count": 5,
   "metadata": {},
   "outputs": [],
   "source": [
    "#function to devide the dataset into 5 parliamentary terms\n",
    "def divide_data_per_parliamentary_term(dataframe):\n",
    "    dataframe['date'] = pd.to_datetime(dataframe['date'], format='%Y-%m-%d').dt.date\n",
    "\n",
    "    #Step 1: create different datasets that include the speeches per presidential term\n",
    "    list_2005_2010 = []\n",
    "    list_2010_2015 = []\n",
    "    list_2015_2017 = []\n",
    "    list_2017_2019 = []\n",
    "    list_2019_2024 = []\n",
    "\n",
    "    #step 2, specify the start and end dates to divide the dataframe\n",
    "    start_date_1 = datetime(2005, 5, 6).date()\n",
    "    start_date_2 = datetime(2010, 5, 6).date()\n",
    "    start_date_3 = datetime(2015, 5, 7).date()\n",
    "    start_date_4 = datetime(2017, 6, 8).date()\n",
    "    start_date_5 = datetime(2019, 7, 4).date()\n",
    "\n",
    "    for index, row in dataframe.iterrows(): #change this because you are not using index xoxoxox\n",
    "        if start_date_1 <= row['date'] <  start_date_2:\n",
    "            list_2005_2010.append(row)\n",
    "        elif start_date_2 <= row['date'] <  start_date_3:\n",
    "            list_2010_2015.append(row)\n",
    "        elif start_date_3 <= row['date'] <  start_date_4:\n",
    "            list_2015_2017.append(row)\n",
    "        elif start_date_4 <= row['date'] <  start_date_5:\n",
    "            list_2017_2019.append(row)\n",
    "        elif row['date'] >= start_date_5:\n",
    "            list_2019_2024.append(row)\n",
    "\n",
    "    df_2005_2010 = pd.DataFrame(list_2005_2010)\n",
    "    df_2010_2015 = pd.DataFrame(list_2010_2015)\n",
    "    df_2015_2017 = pd.DataFrame(list_2015_2017)\n",
    "    df_2017_2019 = pd.DataFrame(list_2017_2019)\n",
    "    df_2019_2024 = pd.DataFrame(list_2019_2024)\n",
    "\n",
    "    return (df_2005_2010,df_2010_2015,df_2015_2017,df_2017_2019,df_2019_2024)"
   ]
  },
  {
   "cell_type": "code",
   "execution_count": 6,
   "metadata": {},
   "outputs": [],
   "source": [
    "#Define function that can be used to filter out the speeches related to heat pump\n",
    "def select_speeches(search_term, column_name, dataframe):\n",
    "    list_speeches = []\n",
    "    for index, row in dataframe.iterrows():\n",
    "        speech = row[column_name]\n",
    "        match = re.search(str(search_term), str(speech))\n",
    "        if match:\n",
    "            list_speeches.append(row)\n",
    "    \n",
    "    return list_speeches"
   ]
  },
  {
   "cell_type": "markdown",
   "metadata": {},
   "source": [
    "## preprocessing"
   ]
  },
  {
   "cell_type": "code",
   "execution_count": 7,
   "metadata": {},
   "outputs": [],
   "source": [
    "#Transform all the speeches to lowercase\n",
    "def lower_case(speech):\n",
    "    return speech.lower()\n",
    "\n",
    "df_speeches['speech'] = df_speeches['speech'].apply(lower_case)\n"
   ]
  },
  {
   "cell_type": "code",
   "execution_count": 8,
   "metadata": {},
   "outputs": [
    {
     "data": {
      "text/plain": [
       "(1222568, 10)"
      ]
     },
     "execution_count": 8,
     "metadata": {},
     "output_type": "execute_result"
    }
   ],
   "source": [
    "df_speeches.shape"
   ]
  },
  {
   "cell_type": "markdown",
   "metadata": {},
   "source": [
    "## Create dataframes for each parliamentary term"
   ]
  },
  {
   "cell_type": "code",
   "execution_count": 11,
   "metadata": {},
   "outputs": [],
   "source": [
    "#Call divde_data_per_palriamentary_term function to divide the time frame into its 5 parliamentary terms\n",
    "df_2005_2010,df_2010_2015,df_2015_2017,df_2017_2019,df_2019_2024 = divide_data_per_parliamentary_term(df_speeches)"
   ]
  },
  {
   "cell_type": "code",
   "execution_count": 12,
   "metadata": {},
   "outputs": [
    {
     "name": "stdout",
     "output_type": "stream",
     "text": [
      "(284189, 10)\n",
      "(343291, 10)\n",
      "(136481, 10)\n",
      "(163342, 10)\n",
      "(276713, 10)\n"
     ]
    }
   ],
   "source": [
    "#check the shape of the different parliamentary terms\n",
    "print(df_2005_2010.shape)\n",
    "print(df_2010_2015.shape)\n",
    "print(df_2015_2017.shape)\n",
    "print(df_2017_2019.shape)\n",
    "print(df_2019_2024.shape)"
   ]
  },
  {
   "cell_type": "code",
   "execution_count": 15,
   "metadata": {},
   "outputs": [],
   "source": [
    "#Filter out the speeches related to heat pump in every parliamentery term.\n",
    "list_df_hp_1 = select_speeches('heat pump', 'speech', df_2005_2010)\n",
    "list_df_hp_2 = select_speeches('heat pump', 'speech', df_2010_2015)\n",
    "list_df_hp_3 = select_speeches('heat pump', 'speech', df_2015_2017)\n",
    "list_df_hp_4 = select_speeches('heat pump', 'speech', df_2017_2019)\n",
    "list_df_hp_5 = select_speeches('heat pump', 'speech', df_2019_2024)\n",
    "list_hp_all_years = list_df_hp_1 + list_df_hp_2 + list_df_hp_3 + list_df_hp_4 + list_df_hp_5\n",
    "\n",
    "#create dataframes of heatpump speeches\n",
    "#Add a the year in which the speech was held + the name of the MP and the party of the MP to the speech (need this for further analysis)\n",
    "hp_df_2005_2010 = pd.DataFrame(list_df_hp_1)\n",
    "hp_df_2005_2010['speech'] = hp_df_2005_2010.apply(lambda row: row['speech'] + f\"This speech was held in {row['year']} by {row['speakername']}. Party: {row['party_speaker']}\",\n",
    "    axis=1)\n",
    "hp_df_2010_2015 = pd.DataFrame(list_df_hp_2)\n",
    "hp_df_2010_2015['speech'] = hp_df_2010_2015.apply(lambda row: row['speech'] + f\"This speech was held in {row['year']} by {row['speakername']}. Party: {row['party_speaker']}\",\n",
    "    axis=1)\n",
    "hp_df_2015_2017 = pd.DataFrame(list_df_hp_3)\n",
    "hp_df_2015_2017['speech'] = hp_df_2015_2017.apply(lambda row: row['speech'] + f\"This speech was held in {row['year']} by {row['speakername']}. Party: {row['party_speaker']}\",\n",
    "    axis=1)\n",
    "hp_df_2017_2019 = pd.DataFrame(list_df_hp_4)\n",
    "hp_df_2017_2019['speech'] = hp_df_2017_2019.apply(lambda row: row['speech'] + f\"This speech was held in {row['year']} by {row['speakername']}. Party: {row['party_speaker']}\",\n",
    "    axis=1)\n",
    "hp_df_2019_2024 = pd.DataFrame(list_df_hp_5)\n",
    "hp_df_2019_2024['speech'] = hp_df_2019_2024.apply(lambda row: row['speech'] + f\"This speech was held in {row['year']} by {row['speakername']}. Party: {row['party_speaker']}\",\n",
    "    axis=1)\n",
    "\n",
    "#creating a dataframe for the entire framework as that will allow for comparison with other research \n",
    "df_heat_pumps = pd.DataFrame(list_hp_all_years) "
   ]
  },
  {
   "cell_type": "code",
   "execution_count": 16,
   "metadata": {},
   "outputs": [
    {
     "name": "stdout",
     "output_type": "stream",
     "text": [
      "(68, 10)\n",
      "(32, 10)\n",
      "(5, 10)\n",
      "(7, 10)\n",
      "(180, 10)\n"
     ]
    }
   ],
   "source": [
    "#check the shape of the filtered heat pump datasets\n",
    "print(hp_df_2005_2010.shape)\n",
    "print(hp_df_2010_2015.shape)\n",
    "print(hp_df_2015_2017.shape)\n",
    "print(hp_df_2017_2019.shape)\n",
    "print(hp_df_2019_2024.shape)"
   ]
  },
  {
   "cell_type": "markdown",
   "metadata": {},
   "source": [
    "# Select a random sample for evaluation of the attend_prompt"
   ]
  },
  {
   "cell_type": "code",
   "execution_count": 17,
   "metadata": {},
   "outputs": [],
   "source": [
    "#compute the average length of speeches\n",
    "sum = 0\n",
    "for index, row in df_heat_pumps.iterrows():\n",
    "    len_speech = len(row['speech'])\n",
    "    sum += len_speech\n",
    "\n",
    "average_len_speech = sum/292\n"
   ]
  },
  {
   "cell_type": "code",
   "execution_count": 18,
   "metadata": {},
   "outputs": [],
   "source": [
    "import random #--> I have these speeches stored now in a word_document\n",
    "# Define the range for \"roughly the same as the average\"\n",
    "range_average = 0.1 * average_len_speech  # 10% range\n",
    "\n",
    "#Create list with speeches divided by how long they are\n",
    "short_speech = [item for item in df_heat_pumps['speech'] if len(item) < average_len_speech - range_average]\n",
    "average_speech = [item for item in df_heat_pumps['speech'] if average_len_speech - range_average <= len(item) <= average_len_speech + range_average]\n",
    "long_speech = [item for item in df_heat_pumps['speech'] if len(item) > average_len_speech + range_average]\n",
    "\n",
    "#select a random sample of speeches to evaluate\n",
    "low_sample = random.sample(short_speech, 5) \n",
    "av_sample = random.sample(average_speech, 5) \n",
    "high_sample = random.sample(long_speech, 5)"
   ]
  },
  {
   "cell_type": "markdown",
   "metadata": {},
   "source": [
    "# Frequency analysis + Topic modelling"
   ]
  },
  {
   "cell_type": "markdown",
   "metadata": {},
   "source": [
    "### Non-Normalized Trend analysis speeches containing the word heat pump(s)"
   ]
  },
  {
   "cell_type": "code",
   "execution_count": 19,
   "metadata": {},
   "outputs": [
    {
     "data": {
      "text/plain": [
       "year\n",
       "2005     2\n",
       "2006    11\n",
       "2007     4\n",
       "2008    20\n",
       "2009    26\n",
       "2010    20\n",
       "2011    10\n",
       "2012     2\n",
       "2013     4\n",
       "2014     1\n",
       "2016     3\n",
       "2017     3\n",
       "2018     2\n",
       "2019     7\n",
       "2020     9\n",
       "2021    58\n",
       "2022    36\n",
       "2023    61\n",
       "2024    13\n",
       "Name: count, dtype: int64"
      ]
     },
     "execution_count": 19,
     "metadata": {},
     "output_type": "execute_result"
    }
   ],
   "source": [
    "hp_speeches_per_year = df_heat_pumps['year'].value_counts().sort_index()\n",
    "hp_speeches_per_year"
   ]
  },
  {
   "cell_type": "code",
   "execution_count": 20,
   "metadata": {},
   "outputs": [],
   "source": [
    "dict_hp_per_year = hp_speeches_per_year.to_dict()"
   ]
  },
  {
   "cell_type": "code",
   "execution_count": 21,
   "metadata": {},
   "outputs": [],
   "source": [
    "dict_speeches_per_year = count_speeches_per_year(df_speeches['year'], 2005,2025)\n",
    "normalized_dict = normalize_speech_count(dict_hp_per_year, dict_speeches_per_year)"
   ]
  },
  {
   "cell_type": "code",
   "execution_count": 22,
   "metadata": {},
   "outputs": [],
   "source": [
    "series = pd.Series(normalized_dict)"
   ]
  },
  {
   "cell_type": "code",
   "execution_count": 23,
   "metadata": {},
   "outputs": [],
   "source": [
    "import matplotlib.pyplot as plt"
   ]
  },
  {
   "cell_type": "code",
   "execution_count": 24,
   "metadata": {},
   "outputs": [
    {
     "data": {
      "image/png": "[encoded data removed]",
      "text/plain": [
       "<Figure size 640x480 with 2 Axes>"
      ]
     },
     "metadata": {},
     "output_type": "display_data"
    }
   ],
   "source": [
    "fig, ax1 = plt.subplots()\n",
    "\n",
    "hp_speeches_per_year.plot(kind='bar', ax=ax1, color='skyblue', position=0, width=0.4, label='Speeches')\n",
    "ax1.set_xlabel('Year', fontsize = 14)\n",
    "ax1.set_ylabel('Number of Speeches', color='black')\n",
    "ax1.set_title('Number of Speeches Related to Heat Pumps per Year')\n",
    "ax1.tick_params(axis='y', labelcolor='skyblue')\n",
    "# ax1.tick_params(axis='x', l)  # Increase the font size for the x-axis tick labels\n",
    "ax1.tick_params(axis='y', labelcolor='skyblue')\n",
    "\n",
    "# Create a second y-axis to plot the line graph\n",
    "ax2 = ax1.twinx()\n",
    "series.plot(kind='line', ax=ax2, color='lightgreen', label='Normalised Speeches')\n",
    "ax2.set_ylabel('Normalised speech count', color='black')\n",
    "ax2.tick_params(axis='y', labelcolor='lightgreen')\n",
    "\n",
    "# Adding legend\n",
    "fig.legend(loc=\"upper left\", bbox_to_anchor=(0.9,0.91))\n",
    "\n",
    "# Display the plot\n",
    "plt.show()"
   ]
  },
  {
   "cell_type": "markdown",
   "metadata": {},
   "source": [
    "# Proportion of speeches related to heat pumps per party"
   ]
  },
  {
   "cell_type": "code",
   "execution_count": 38,
   "metadata": {},
   "outputs": [],
   "source": [
    "#Create a dictionary for the total amount of heat pump related speeches every party held\n",
    "series_hp = df_heat_pumps['party_speaker'].value_counts()\n",
    "hp_dict = series_hp.to_dict()\n",
    "\n",
    "#Create a dictionary for the total amout of speeches every party held\n",
    "series_all = df_speeches['party_speaker'].value_counts()\n",
    "all_dict = series_all.to_dict()\n",
    "all_dict\n",
    "\n",
    "#Present the two dictionaries to the normilse_counts function normalise the number of speeches related to heat pumps\n",
    "normalised_results = normalize_speech_count(hp_dict,all_dict)"
   ]
  },
  {
   "cell_type": "code",
   "execution_count": 41,
   "metadata": {},
   "outputs": [],
   "source": [
    "series_hp_PT1 = hp_df_2005_2010['party_speaker'].value_counts()\n",
    "hp_dict_PT1 = series_hp_PT1.to_dict()\n",
    "\n",
    "series_total_PT1 = df_2005_2010['party_speaker'].value_counts()\n",
    "total_dict_PT1 = series_total_PT1.to_dict()\n",
    "\n",
    "normalised_results_PT1 = normalize_speech_count(hp_dict_PT1,total_dict_PT1)"
   ]
  },
  {
   "cell_type": "code",
   "execution_count": 26,
   "metadata": {},
   "outputs": [],
   "source": [
    "hp_dict = series_hp.to_dict()"
   ]
  },
  {
   "cell_type": "code",
   "execution_count": 27,
   "metadata": {},
   "outputs": [
    {
     "data": {
      "text/plain": [
       "{'conservative': 136,\n",
       " 'labour': 95,\n",
       " 'liberal-democrat': 30,\n",
       " 'scottish-national-party': 17,\n",
       " 'labourco-operative': 4,\n",
       " 'dup': 3,\n",
       " 'independent': 3,\n",
       " 'plaid-cymru': 2,\n",
       " 'green': 2}"
      ]
     },
     "execution_count": 27,
     "metadata": {},
     "output_type": "execute_result"
    }
   ],
   "source": [
    "hp_dict"
   ]
  },
  {
   "cell_type": "code",
   "execution_count": 28,
   "metadata": {},
   "outputs": [
    {
     "data": {
      "text/plain": [
       "{'conservative': 588113,\n",
       " 'labour': 372426,\n",
       " 'liberal-democrat': 71156,\n",
       " 'scottish-national-party': 45056,\n",
       " 'speaker': 32998,\n",
       " 'labourco-operative': 18212,\n",
       " 'dup': 15096,\n",
       " 'deputy-speaker': 6392,\n",
       " 'plaid-cymru': 5223,\n",
       " 'independent': 5021,\n",
       " 'social-democratic-and-labour-party': 3123,\n",
       " 'green': 2147,\n",
       " 'alliance': 781,\n",
       " 'uup': 718,\n",
       " 'alba': 427,\n",
       " 'ukip': 352,\n",
       " 'reclaim': 152,\n",
       " 'respect': 145,\n",
       " 'independent-labour': 44,\n",
       " 'workers-party': 28,\n",
       " 'reform': 10,\n",
       " 'independent-conservative': 9}"
      ]
     },
     "execution_count": 28,
     "metadata": {},
     "output_type": "execute_result"
    }
   ],
   "source": [
    "series_all = df_speeches['party_speaker'].value_counts()\n",
    "all_dict = series_all.to_dict()\n",
    "all_dict"
   ]
  },
  {
   "cell_type": "code",
   "execution_count": 39,
   "metadata": {},
   "outputs": [
    {
     "data": {
      "text/plain": [
       "{'conservative': 0.00023124807647509918,\n",
       " 'labour': 0.0002550842314983379,\n",
       " 'liberal-democrat': 0.000421608859407499,\n",
       " 'scottish-national-party': 0.0003773082386363636,\n",
       " 'labourco-operative': 0.00021963540522732265,\n",
       " 'dup': 0.0001987281399046105,\n",
       " 'independent': 0.0005974905397331209,\n",
       " 'plaid-cymru': 0.0003829216925138809,\n",
       " 'green': 0.0009315323707498836}"
      ]
     },
     "execution_count": 39,
     "metadata": {},
     "output_type": "execute_result"
    }
   ],
   "source": [
    "normalised_results"
   ]
  },
  {
   "cell_type": "code",
   "execution_count": 40,
   "metadata": {},
   "outputs": [
    {
     "data": {
      "image/png": "[encoded data removed]",
      "text/plain": [
       "<Figure size 640x480 with 1 Axes>"
      ]
     },
     "metadata": {},
     "output_type": "display_data"
    }
   ],
   "source": [
    "#Plot the normalised as a bar-graph\n",
    "normalizes_series = pd.Series(normalised_results)\n",
    "normalizes_series.plot(kind='bar', title=' Normalised proportion of heat pump related speeches per party (2005-2024)', color = 'skyblue')\n",
    "\n",
    "plt.xlabel('Party')\n",
    "plt.ylabel('Normalised Speech Count')\n",
    "\n",
    "plt.show()"
   ]
  },
  {
   "cell_type": "code",
   "execution_count": 45,
   "metadata": {},
   "outputs": [],
   "source": [
    "#calculate the proportion of speeches held per party per parliamenetary term\n",
    "\n",
    "#Parliamentary term 1:\n",
    "series_hp_PT1 = hp_df_2005_2010['party_speaker'].value_counts()\n",
    "hp_dict_PT1 = series_hp_PT1.to_dict()\n",
    "\n",
    "series_total_PT1 = df_2005_2010['party_speaker'].value_counts()\n",
    "total_dict_PT1 = series_total_PT1.to_dict()\n",
    "\n",
    "normalised_results_PT1 = normalize_speech_count(hp_dict_PT1,total_dict_PT1)\n",
    "\n",
    "#Parliamentary term 2:\n",
    "series_hp_PT2 = hp_df_2010_2015['party_speaker'].value_counts()\n",
    "hp_dict_PT2 = series_hp_PT1.to_dict()\n",
    "\n",
    "series_total_PT2 = df_2010_2015['party_speaker'].value_counts()\n",
    "total_dict_PT2 = series_total_PT1.to_dict()\n",
    "\n",
    "normalised_results_PT2 = normalize_speech_count(hp_dict_PT2,total_dict_PT2)\n",
    "\n",
    "#Parliamentary term 3:\n",
    "series_hp_PT3 = hp_df_2015_2017['party_speaker'].value_counts()\n",
    "hp_dict_PT3 = series_hp_PT3.to_dict()\n",
    "\n",
    "series_total_PT3 = df_2015_2017['party_speaker'].value_counts()\n",
    "total_dict_PT3 = series_total_PT3.to_dict()\n",
    "\n",
    "normalised_results_PT3 = normalize_speech_count(hp_dict_PT3,total_dict_PT3)\n",
    "\n",
    "#Parliamentary term 4:\n",
    "series_hp_PT4 = hp_df_2017_2019['party_speaker'].value_counts()\n",
    "hp_dict_PT4 = series_hp_PT4.to_dict()\n",
    "\n",
    "series_total_PT4 = df_2017_2019['party_speaker'].value_counts()\n",
    "total_dict_PT4 = series_total_PT1.to_dict()\n",
    "\n",
    "normalised_results_PT4 = normalize_speech_count(hp_dict_PT4,total_dict_PT4)\n",
    "\n",
    "#Parliamentary term 5:\n",
    "series_hp_PT5 = hp_df_2019_2024['party_speaker'].value_counts()\n",
    "hp_dict_PT5 = series_hp_PT5.to_dict()\n",
    "\n",
    "series_total_PT5 = df_2019_2024['party_speaker'].value_counts()\n",
    "total_dict_PT5 = series_total_PT5.to_dict()\n",
    "\n",
    "normalised_results_PT5 = normalize_speech_count(hp_dict_PT5,total_dict_PT5)"
   ]
  },
  {
   "cell_type": "code",
   "execution_count": 51,
   "metadata": {},
   "outputs": [],
   "source": [
    "subplots= {'2005-2010': normalised_results_PT1,\n",
    "              '2010-2015': normalised_results_PT2,\n",
    "              '2015-2017': normalised_results_PT3,\n",
    "              '2017-2019': normalised_results_PT4,\n",
    "              '2019-2024': normalised_results_PT5\n",
    "\n",
    "}"
   ]
  },
  {
   "cell_type": "code",
   "execution_count": 52,
   "metadata": {},
   "outputs": [
    {
     "data": {
      "text/plain": [
       "{'2005-2010': {'labour': 0.0002875518119270881,\n",
       "  'liberal-democrat': 0.0005818012566907144,\n",
       "  'conservative': 0.00013412017167381974,\n",
       "  'scottish-national-party': 0.00035211267605633805},\n",
       " '2010-2015': {'labour': 0.0002875518119270881,\n",
       "  'liberal-democrat': 0.0005818012566907144,\n",
       "  'conservative': 0.00013412017167381974,\n",
       "  'scottish-national-party': 0.00035211267605633805},\n",
       " '2015-2017': {'labour': 0.00010176735981546185,\n",
       "  'conservative': 2.6033531188170364e-05},\n",
       " '2017-2019': {'conservative': 4.8770971517752635e-05,\n",
       "  'labour': 2.104037648246986e-05},\n",
       " '2019-2024': {'conservative': 0.0006183988979029543,\n",
       "  'labour': 0.0007722902266671816,\n",
       "  'scottish-national-party': 0.0008346747749359089,\n",
       "  'liberal-democrat': 0.0017438173747622067,\n",
       "  'labourco-operative': 0.0005666525003541578,\n",
       "  'dup': 0.0005774783445620789,\n",
       "  'independent': 0.0013227513227513227,\n",
       "  'plaid-cymru': 0.002072538860103627,\n",
       "  'green': 0.0033333333333333335}}"
      ]
     },
     "execution_count": 52,
     "metadata": {},
     "output_type": "execute_result"
    }
   ],
   "source": [
    "subplots"
   ]
  },
  {
   "cell_type": "code",
   "execution_count": 54,
   "metadata": {},
   "outputs": [
    {
     "data": {
      "image/png": "[encoded data removed]",
      "text/plain": [
       "<Figure size 2000x700 with 5 Axes>"
      ]
     },
     "metadata": {},
     "output_type": "display_data"
    }
   ],
   "source": [
    "# Set up the plotting area\n",
    "fig, axes = plt.subplots( ncols=5, figsize=(20, 7))\n",
    "\n",
    "# Plot each series in a subplot\n",
    "for ax, (series_name, series_data) in zip(axes, subplots.items()):\n",
    "    parties = list(series_data.keys())\n",
    "    values = list(series_data.values())\n",
    "    \n",
    "    ax.bar(parties, values, color='skyblue')\n",
    "    ax.set_title(series_name, fontsize = 20)\n",
    "    ax.set_ylabel('Normalised party involvement', fontsize = 15)\n",
    "\n",
    "    ax.set_xticks(parties)\n",
    "    ax.set_xticklabels(parties, rotation=45, ha='right', fontsize = 18)\n",
    "\n",
    "    # Increase fontsize of y-axis values\n",
    "    ax.tick_params(axis='y', labelsize=12)\n",
    "\n",
    "# Set common x-label\n",
    "axes[2].set_xlabel('Parties', fontsize = 20)\n",
    "\n",
    "# Adjust layout for better spacing\n",
    "plt.tight_layout()\n",
    "\n",
    "\n",
    "# Save the plot\n",
    "plt.savefig('my_plot.png', dpi=300, bbox_inches='tight')\n",
    "\n",
    "# Show the plot\n",
    "plt.show()"
   ]
  },
  {
   "cell_type": "markdown",
   "metadata": {},
   "source": [
    "# Topic modelling"
   ]
  },
  {
   "cell_type": "code",
   "execution_count": 38,
   "metadata": {},
   "outputs": [],
   "source": [
    "#create a list with all the sentences that contain heat pumps:\n",
    "heat_pump_sentences = []\n",
    "dates_hp_sentences = []\n",
    "for index, row in df_heat_pumps.iterrows():\n",
    "    speech = row['speech']\n",
    "    single_sentences = re.split(r'(?<=[.!?]) +', speech.strip())\n",
    "    for sentence in single_sentences:\n",
    "        match = re.search('heat pump', sentence)\n",
    "        if match:\n",
    "            heat_pump_sentences.append(sentence)\n",
    "            dates_hp_sentences.append(row['date'])   \n"
   ]
  },
  {
   "cell_type": "code",
   "execution_count": 39,
   "metadata": {},
   "outputs": [
    {
     "name": "stdout",
     "output_type": "stream",
     "text": [
      "Requirement already satisfied: nbformat in /Users/rinskejongma/discovery_utils/.venv/lib/python3.10/site-packages (5.10.4)\n",
      "Requirement already satisfied: fastjsonschema>=2.15 in /Users/rinskejongma/discovery_utils/.venv/lib/python3.10/site-packages (from nbformat) (2.20.0)\n",
      "Requirement already satisfied: jsonschema>=2.6 in /Users/rinskejongma/discovery_utils/.venv/lib/python3.10/site-packages (from nbformat) (4.23.0)\n",
      "Requirement already satisfied: jupyter-core!=5.0.*,>=4.12 in /Users/rinskejongma/discovery_utils/.venv/lib/python3.10/site-packages (from nbformat) (5.7.2)\n",
      "Requirement already satisfied: traitlets>=5.1 in /Users/rinskejongma/discovery_utils/.venv/lib/python3.10/site-packages (from nbformat) (5.14.3)\n",
      "Requirement already satisfied: attrs>=22.2.0 in /Users/rinskejongma/discovery_utils/.venv/lib/python3.10/site-packages (from jsonschema>=2.6->nbformat) (23.2.0)\n",
      "Requirement already satisfied: jsonschema-specifications>=2023.03.6 in /Users/rinskejongma/discovery_utils/.venv/lib/python3.10/site-packages (from jsonschema>=2.6->nbformat) (2023.12.1)\n",
      "Requirement already satisfied: referencing>=0.28.4 in /Users/rinskejongma/discovery_utils/.venv/lib/python3.10/site-packages (from jsonschema>=2.6->nbformat) (0.35.1)\n",
      "Requirement already satisfied: rpds-py>=0.7.1 in /Users/rinskejongma/discovery_utils/.venv/lib/python3.10/site-packages (from jsonschema>=2.6->nbformat) (0.19.0)\n",
      "Requirement already satisfied: platformdirs>=2.5 in /Users/rinskejongma/discovery_utils/.venv/lib/python3.10/site-packages (from jupyter-core!=5.0.*,>=4.12->nbformat) (4.2.2)\n",
      "\n",
      "\u001b[1m[\u001b[0m\u001b[34;49mnotice\u001b[0m\u001b[1;39;49m]\u001b[0m\u001b[39;49m A new release of pip is available: \u001b[0m\u001b[31;49m24.0\u001b[0m\u001b[39;49m -> \u001b[0m\u001b[32;49m24.2\u001b[0m\n",
      "\u001b[1m[\u001b[0m\u001b[34;49mnotice\u001b[0m\u001b[1;39;49m]\u001b[0m\u001b[39;49m To update, run: \u001b[0m\u001b[32;49mpip install --upgrade pip\u001b[0m\n"
     ]
    }
   ],
   "source": [
    "!pip install --upgrade nbformat"
   ]
  },
  {
   "cell_type": "code",
   "execution_count": 40,
   "metadata": {},
   "outputs": [
    {
     "name": "stdout",
     "output_type": "stream",
     "text": [
      "Requirement already satisfied: bertopic in /Users/rinskejongma/discovery_utils/.venv/lib/python3.10/site-packages (0.16.2)\n",
      "Requirement already satisfied: numpy>=1.20.0 in /Users/rinskejongma/discovery_utils/.venv/lib/python3.10/site-packages (from bertopic) (1.26.4)\n",
      "Requirement already satisfied: hdbscan>=0.8.29 in /Users/rinskejongma/discovery_utils/.venv/lib/python3.10/site-packages (from bertopic) (0.8.37)\n",
      "Requirement already satisfied: umap-learn>=0.5.0 in /Users/rinskejongma/discovery_utils/.venv/lib/python3.10/site-packages (from bertopic) (0.5.6)\n",
      "Requirement already satisfied: pandas>=1.1.5 in /Users/rinskejongma/discovery_utils/.venv/lib/python3.10/site-packages (from bertopic) (2.2.2)\n",
      "Requirement already satisfied: scikit-learn>=0.22.2.post1 in /Users/rinskejongma/discovery_utils/.venv/lib/python3.10/site-packages (from bertopic) (1.5.1)\n",
      "Requirement already satisfied: tqdm>=4.41.1 in /Users/rinskejongma/discovery_utils/.venv/lib/python3.10/site-packages (from bertopic) (4.66.4)\n",
      "Requirement already satisfied: sentence-transformers>=0.4.1 in /Users/rinskejongma/discovery_utils/.venv/lib/python3.10/site-packages (from bertopic) (2.7.0)\n",
      "Requirement already satisfied: plotly>=4.7.0 in /Users/rinskejongma/discovery_utils/.venv/lib/python3.10/site-packages (from bertopic) (5.22.0)\n",
      "Requirement already satisfied: cython<3,>=0.27 in /Users/rinskejongma/discovery_utils/.venv/lib/python3.10/site-packages (from hdbscan>=0.8.29->bertopic) (0.29.37)\n",
      "Requirement already satisfied: scipy>=1.0 in /Users/rinskejongma/discovery_utils/.venv/lib/python3.10/site-packages (from hdbscan>=0.8.29->bertopic) (1.14.0)\n",
      "Requirement already satisfied: joblib>=1.0 in /Users/rinskejongma/discovery_utils/.venv/lib/python3.10/site-packages (from hdbscan>=0.8.29->bertopic) (1.4.2)\n",
      "Requirement already satisfied: python-dateutil>=2.8.2 in /Users/rinskejongma/discovery_utils/.venv/lib/python3.10/site-packages (from pandas>=1.1.5->bertopic) (2.9.0.post0)\n",
      "Requirement already satisfied: pytz>=2020.1 in /Users/rinskejongma/discovery_utils/.venv/lib/python3.10/site-packages (from pandas>=1.1.5->bertopic) (2024.1)\n",
      "Requirement already satisfied: tzdata>=2022.7 in /Users/rinskejongma/discovery_utils/.venv/lib/python3.10/site-packages (from pandas>=1.1.5->bertopic) (2024.1)\n",
      "Requirement already satisfied: tenacity>=6.2.0 in /Users/rinskejongma/discovery_utils/.venv/lib/python3.10/site-packages (from plotly>=4.7.0->bertopic) (8.5.0)\n",
      "Requirement already satisfied: packaging in /Users/rinskejongma/discovery_utils/.venv/lib/python3.10/site-packages (from plotly>=4.7.0->bertopic) (23.2)\n",
      "Requirement already satisfied: threadpoolctl>=3.1.0 in /Users/rinskejongma/discovery_utils/.venv/lib/python3.10/site-packages (from scikit-learn>=0.22.2.post1->bertopic) (3.5.0)\n",
      "Requirement already satisfied: transformers<5.0.0,>=4.34.0 in /Users/rinskejongma/discovery_utils/.venv/lib/python3.10/site-packages (from sentence-transformers>=0.4.1->bertopic) (4.42.4)\n",
      "Requirement already satisfied: torch>=1.11.0 in /Users/rinskejongma/discovery_utils/.venv/lib/python3.10/site-packages (from sentence-transformers>=0.4.1->bertopic) (2.3.1)\n",
      "Requirement already satisfied: huggingface-hub>=0.15.1 in /Users/rinskejongma/discovery_utils/.venv/lib/python3.10/site-packages (from sentence-transformers>=0.4.1->bertopic) (0.23.5)\n",
      "Requirement already satisfied: Pillow in /Users/rinskejongma/discovery_utils/.venv/lib/python3.10/site-packages (from sentence-transformers>=0.4.1->bertopic) (10.4.0)\n",
      "Requirement already satisfied: numba>=0.51.2 in /Users/rinskejongma/discovery_utils/.venv/lib/python3.10/site-packages (from umap-learn>=0.5.0->bertopic) (0.60.0)\n",
      "Requirement already satisfied: pynndescent>=0.5 in /Users/rinskejongma/discovery_utils/.venv/lib/python3.10/site-packages (from umap-learn>=0.5.0->bertopic) (0.5.13)\n",
      "Requirement already satisfied: filelock in /Users/rinskejongma/discovery_utils/.venv/lib/python3.10/site-packages (from huggingface-hub>=0.15.1->sentence-transformers>=0.4.1->bertopic) (3.15.4)\n",
      "Requirement already satisfied: fsspec>=2023.5.0 in /Users/rinskejongma/discovery_utils/.venv/lib/python3.10/site-packages (from huggingface-hub>=0.15.1->sentence-transformers>=0.4.1->bertopic) (2024.5.0)\n",
      "Requirement already satisfied: pyyaml>=5.1 in /Users/rinskejongma/discovery_utils/.venv/lib/python3.10/site-packages (from huggingface-hub>=0.15.1->sentence-transformers>=0.4.1->bertopic) (6.0.1)\n",
      "Requirement already satisfied: requests in /Users/rinskejongma/discovery_utils/.venv/lib/python3.10/site-packages (from huggingface-hub>=0.15.1->sentence-transformers>=0.4.1->bertopic) (2.32.3)\n",
      "Requirement already satisfied: typing-extensions>=3.7.4.3 in /Users/rinskejongma/discovery_utils/.venv/lib/python3.10/site-packages (from huggingface-hub>=0.15.1->sentence-transformers>=0.4.1->bertopic) (4.12.2)\n",
      "Requirement already satisfied: llvmlite<0.44,>=0.43.0dev0 in /Users/rinskejongma/discovery_utils/.venv/lib/python3.10/site-packages (from numba>=0.51.2->umap-learn>=0.5.0->bertopic) (0.43.0)\n",
      "Requirement already satisfied: six>=1.5 in /Users/rinskejongma/discovery_utils/.venv/lib/python3.10/site-packages (from python-dateutil>=2.8.2->pandas>=1.1.5->bertopic) (1.16.0)\n",
      "Requirement already satisfied: sympy in /Users/rinskejongma/discovery_utils/.venv/lib/python3.10/site-packages (from torch>=1.11.0->sentence-transformers>=0.4.1->bertopic) (1.13.0)\n",
      "Requirement already satisfied: networkx in /Users/rinskejongma/discovery_utils/.venv/lib/python3.10/site-packages (from torch>=1.11.0->sentence-transformers>=0.4.1->bertopic) (3.3)\n",
      "Requirement already satisfied: jinja2 in /Users/rinskejongma/discovery_utils/.venv/lib/python3.10/site-packages (from torch>=1.11.0->sentence-transformers>=0.4.1->bertopic) (3.1.4)\n",
      "Requirement already satisfied: regex!=2019.12.17 in /Users/rinskejongma/discovery_utils/.venv/lib/python3.10/site-packages (from transformers<5.0.0,>=4.34.0->sentence-transformers>=0.4.1->bertopic) (2024.5.15)\n",
      "Requirement already satisfied: safetensors>=0.4.1 in /Users/rinskejongma/discovery_utils/.venv/lib/python3.10/site-packages (from transformers<5.0.0,>=4.34.0->sentence-transformers>=0.4.1->bertopic) (0.4.3)\n",
      "Requirement already satisfied: tokenizers<0.20,>=0.19 in /Users/rinskejongma/discovery_utils/.venv/lib/python3.10/site-packages (from transformers<5.0.0,>=4.34.0->sentence-transformers>=0.4.1->bertopic) (0.19.1)\n",
      "Requirement already satisfied: MarkupSafe>=2.0 in /Users/rinskejongma/discovery_utils/.venv/lib/python3.10/site-packages (from jinja2->torch>=1.11.0->sentence-transformers>=0.4.1->bertopic) (2.1.5)\n",
      "Requirement already satisfied: charset-normalizer<4,>=2 in /Users/rinskejongma/discovery_utils/.venv/lib/python3.10/site-packages (from requests->huggingface-hub>=0.15.1->sentence-transformers>=0.4.1->bertopic) (3.3.2)\n",
      "Requirement already satisfied: idna<4,>=2.5 in /Users/rinskejongma/discovery_utils/.venv/lib/python3.10/site-packages (from requests->huggingface-hub>=0.15.1->sentence-transformers>=0.4.1->bertopic) (3.7)\n",
      "Requirement already satisfied: urllib3<3,>=1.21.1 in /Users/rinskejongma/discovery_utils/.venv/lib/python3.10/site-packages (from requests->huggingface-hub>=0.15.1->sentence-transformers>=0.4.1->bertopic) (1.26.19)\n",
      "Requirement already satisfied: certifi>=2017.4.17 in /Users/rinskejongma/discovery_utils/.venv/lib/python3.10/site-packages (from requests->huggingface-hub>=0.15.1->sentence-transformers>=0.4.1->bertopic) (2024.7.4)\n",
      "Requirement already satisfied: mpmath<1.4,>=1.1.0 in /Users/rinskejongma/discovery_utils/.venv/lib/python3.10/site-packages (from sympy->torch>=1.11.0->sentence-transformers>=0.4.1->bertopic) (1.3.0)\n",
      "\n",
      "\u001b[1m[\u001b[0m\u001b[34;49mnotice\u001b[0m\u001b[1;39;49m]\u001b[0m\u001b[39;49m A new release of pip is available: \u001b[0m\u001b[31;49m24.0\u001b[0m\u001b[39;49m -> \u001b[0m\u001b[32;49m24.2\u001b[0m\n",
      "\u001b[1m[\u001b[0m\u001b[34;49mnotice\u001b[0m\u001b[1;39;49m]\u001b[0m\u001b[39;49m To update, run: \u001b[0m\u001b[32;49mpip install --upgrade pip\u001b[0m\n"
     ]
    }
   ],
   "source": [
    "!pip install bertopic"
   ]
  },
  {
   "cell_type": "code",
   "execution_count": 41,
   "metadata": {},
   "outputs": [],
   "source": [
    "from bertopic import BERTopic\n"
   ]
  },
  {
   "cell_type": "code",
   "execution_count": 42,
   "metadata": {},
   "outputs": [
    {
     "name": "stderr",
     "output_type": "stream",
     "text": [
      "INFO:sentence_transformers.SentenceTransformer:Load pretrained SentenceTransformer: sentence-transformers/all-MiniLM-L6-v2\n",
      "INFO:sentence_transformers.SentenceTransformer:Use pytorch device_name: mps\n",
      "OMP: Info #276: omp_set_nested routine deprecated, please use omp_set_max_active_levels instead.\n"
     ]
    }
   ],
   "source": [
    "from sklearn.feature_extraction.text import CountVectorizer\n",
    "\n",
    "# Initialize CountVectorizer with English stop words\n",
    "vectorizer_model = CountVectorizer(stop_words=\"english\")\n",
    "\n",
    "# Initialize BERTopic with the vectorizer model\n",
    "topic_model = BERTopic(vectorizer_model=vectorizer_model)\n",
    "topics, prob = topic_model.fit_transform(heat_pump_sentences)"
   ]
  },
  {
   "cell_type": "code",
   "execution_count": 43,
   "metadata": {},
   "outputs": [
    {
     "name": "stdout",
     "output_type": "stream",
     "text": [
      "Document 0: Topic 2, Probability: 0.6181181350514878\n",
      "Document 1: Topic 2, Probability: 0.6469423948180277\n",
      "Document 2: Topic -1, Probability: 0.0\n",
      "Document 3: Topic -1, Probability: 0.0\n",
      "Document 4: Topic -1, Probability: 0.0\n",
      "Document 5: Topic -1, Probability: 0.0\n",
      "Document 6: Topic -1, Probability: 0.0\n",
      "Document 7: Topic -1, Probability: 0.0\n",
      "Document 8: Topic 8, Probability: 1.0\n",
      "Document 9: Topic 0, Probability: 1.0\n",
      "Document 10: Topic 0, Probability: 1.0\n",
      "Document 11: Topic 0, Probability: 0.8409213650448947\n",
      "Document 12: Topic 0, Probability: 1.0\n",
      "Document 13: Topic 0, Probability: 0.8493906873939939\n",
      "Document 14: Topic -1, Probability: 0.0\n",
      "Document 15: Topic 2, Probability: 0.576089334831077\n",
      "Document 16: Topic 5, Probability: 0.9546121155456082\n",
      "Document 17: Topic -1, Probability: 0.0\n",
      "Document 18: Topic -1, Probability: 0.0\n",
      "Document 19: Topic -1, Probability: 0.0\n",
      "Document 20: Topic -1, Probability: 0.0\n",
      "Document 21: Topic 5, Probability: 0.9546121155456082\n",
      "Document 22: Topic 1, Probability: 0.60371030795161\n",
      "Document 23: Topic -1, Probability: 0.0\n",
      "Document 24: Topic 4, Probability: 0.8159236273263261\n",
      "Document 25: Topic 3, Probability: 1.0\n",
      "Document 26: Topic 5, Probability: 0.9546121155456082\n",
      "Document 27: Topic -1, Probability: 0.0\n",
      "Document 28: Topic -1, Probability: 0.0\n",
      "Document 29: Topic -1, Probability: 0.0\n",
      "Document 30: Topic 0, Probability: 0.8252502197536897\n",
      "Document 31: Topic -1, Probability: 0.0\n",
      "Document 32: Topic 0, Probability: 0.8005184163024115\n",
      "Document 33: Topic -1, Probability: 0.0\n",
      "Document 34: Topic -1, Probability: 0.0\n",
      "Document 35: Topic -1, Probability: 0.0\n",
      "Document 36: Topic -1, Probability: 0.0\n",
      "Document 37: Topic 0, Probability: 0.9768512730397532\n",
      "Document 38: Topic 0, Probability: 0.7326728537620075\n",
      "Document 39: Topic 2, Probability: 1.0\n",
      "Document 40: Topic 0, Probability: 0.7201676956751664\n",
      "Document 41: Topic 2, Probability: 0.578178630138096\n",
      "Document 42: Topic 0, Probability: 0.6783649639743305\n",
      "Document 43: Topic 2, Probability: 0.578178630138096\n",
      "Document 44: Topic 2, Probability: 1.0\n",
      "Document 45: Topic 2, Probability: 0.578178630138096\n",
      "Document 46: Topic -1, Probability: 0.0\n",
      "Document 47: Topic 2, Probability: 1.0\n",
      "Document 48: Topic -1, Probability: 0.0\n",
      "Document 49: Topic 2, Probability: 0.7543947518885161\n",
      "Document 50: Topic 2, Probability: 0.8801268783653832\n",
      "Document 51: Topic 2, Probability: 0.5785774476207499\n",
      "Document 52: Topic 2, Probability: 1.0\n",
      "Document 53: Topic -1, Probability: 0.0\n",
      "Document 54: Topic 2, Probability: 0.8509462807224364\n",
      "Document 55: Topic 2, Probability: 1.0\n",
      "Document 56: Topic 2, Probability: 0.9821181201717354\n",
      "Document 57: Topic -1, Probability: 0.0\n",
      "Document 58: Topic 2, Probability: 1.0\n",
      "Document 59: Topic 2, Probability: 0.7940500678982887\n",
      "Document 60: Topic -1, Probability: 0.0\n",
      "Document 61: Topic 2, Probability: 1.0\n",
      "Document 62: Topic 2, Probability: 1.0\n",
      "Document 63: Topic 2, Probability: 0.6129719297260638\n",
      "Document 64: Topic 2, Probability: 1.0\n",
      "Document 65: Topic 2, Probability: 0.6734847392893105\n",
      "Document 66: Topic 5, Probability: 0.9546121155456082\n",
      "Document 67: Topic 2, Probability: 0.8162398309389705\n",
      "Document 68: Topic -1, Probability: 0.0\n",
      "Document 69: Topic 0, Probability: 0.7201676956751664\n",
      "Document 70: Topic 0, Probability: 0.7201676956751664\n",
      "Document 71: Topic 4, Probability: 0.616663235992332\n",
      "Document 72: Topic -1, Probability: 0.0\n",
      "Document 73: Topic 0, Probability: 0.7201676956751664\n",
      "Document 74: Topic 0, Probability: 0.7201676956751664\n",
      "Document 75: Topic -1, Probability: 0.0\n",
      "Document 76: Topic 0, Probability: 1.0\n",
      "Document 77: Topic -1, Probability: 0.0\n",
      "Document 78: Topic -1, Probability: 0.0\n",
      "Document 79: Topic 0, Probability: 1.0\n",
      "Document 80: Topic 0, Probability: 0.8819892725725402\n",
      "Document 81: Topic 0, Probability: 0.7248435492162374\n",
      "Document 82: Topic -1, Probability: 0.0\n",
      "Document 83: Topic -1, Probability: 0.0\n",
      "Document 84: Topic -1, Probability: 0.0\n",
      "Document 85: Topic 2, Probability: 0.578178630138096\n",
      "Document 86: Topic 4, Probability: 0.6515990868917759\n",
      "Document 87: Topic 3, Probability: 1.0\n",
      "Document 88: Topic 2, Probability: 0.578178630138096\n",
      "Document 89: Topic 0, Probability: 0.9137039276462842\n",
      "Document 90: Topic 3, Probability: 0.9721406149747416\n",
      "Document 91: Topic 0, Probability: 0.9623082862261652\n",
      "Document 92: Topic -1, Probability: 0.0\n",
      "Document 93: Topic 0, Probability: 0.8187811768348887\n",
      "Document 94: Topic 5, Probability: 1.0\n",
      "Document 95: Topic 0, Probability: 1.0\n",
      "Document 96: Topic -1, Probability: 0.0\n",
      "Document 97: Topic 0, Probability: 0.937067110730685\n",
      "Document 98: Topic -1, Probability: 0.0\n",
      "Document 99: Topic -1, Probability: 0.0\n",
      "Document 100: Topic -1, Probability: 0.0\n",
      "Document 101: Topic -1, Probability: 0.0\n",
      "Document 102: Topic 2, Probability: 1.0\n",
      "Document 103: Topic 2, Probability: 0.6174578301282834\n",
      "Document 104: Topic 2, Probability: 0.6751310426640623\n",
      "Document 105: Topic -1, Probability: 0.0\n",
      "Document 106: Topic 3, Probability: 0.9100042412944483\n",
      "Document 107: Topic -1, Probability: 0.0\n",
      "Document 108: Topic -1, Probability: 0.0\n",
      "Document 109: Topic -1, Probability: 0.0\n",
      "Document 110: Topic 2, Probability: 0.578178630138096\n",
      "Document 111: Topic -1, Probability: 0.0\n",
      "Document 112: Topic 0, Probability: 1.0\n",
      "Document 113: Topic -1, Probability: 0.0\n",
      "Document 114: Topic 0, Probability: 0.9163571879930572\n",
      "Document 115: Topic 3, Probability: 0.7459293867747727\n",
      "Document 116: Topic -1, Probability: 0.0\n",
      "Document 117: Topic -1, Probability: 0.0\n",
      "Document 118: Topic -1, Probability: 0.0\n",
      "Document 119: Topic -1, Probability: 0.0\n",
      "Document 120: Topic -1, Probability: 0.0\n",
      "Document 121: Topic -1, Probability: 0.0\n",
      "Document 122: Topic -1, Probability: 0.0\n",
      "Document 123: Topic 6, Probability: 1.0\n",
      "Document 124: Topic -1, Probability: 0.0\n",
      "Document 125: Topic 0, Probability: 0.8641498195922215\n",
      "Document 126: Topic 6, Probability: 1.0\n",
      "Document 127: Topic -1, Probability: 0.0\n",
      "Document 128: Topic 0, Probability: 0.7201676956751664\n",
      "Document 129: Topic -1, Probability: 0.0\n",
      "Document 130: Topic 0, Probability: 0.7233921801614298\n",
      "Document 131: Topic 0, Probability: 0.7201676956751664\n",
      "Document 132: Topic -1, Probability: 0.0\n",
      "Document 133: Topic -1, Probability: 0.0\n",
      "Document 134: Topic -1, Probability: 0.0\n",
      "Document 135: Topic 0, Probability: 1.0\n",
      "Document 136: Topic -1, Probability: 0.0\n",
      "Document 137: Topic -1, Probability: 0.0\n",
      "Document 138: Topic -1, Probability: 0.0\n",
      "Document 139: Topic 0, Probability: 1.0\n",
      "Document 140: Topic 1, Probability: 0.9579157987945287\n",
      "Document 141: Topic -1, Probability: 0.0\n",
      "Document 142: Topic -1, Probability: 0.0\n",
      "Document 143: Topic 7, Probability: 1.0\n",
      "Document 144: Topic -1, Probability: 0.0\n",
      "Document 145: Topic -1, Probability: 0.0\n",
      "Document 146: Topic 5, Probability: 1.0\n",
      "Document 147: Topic 6, Probability: 1.0\n",
      "Document 148: Topic -1, Probability: 0.0\n",
      "Document 149: Topic 7, Probability: 1.0\n",
      "Document 150: Topic 1, Probability: 0.9762667337808503\n",
      "Document 151: Topic 1, Probability: 1.0\n",
      "Document 152: Topic 1, Probability: 0.720605862352321\n",
      "Document 153: Topic 3, Probability: 0.8150333299393855\n",
      "Document 154: Topic -1, Probability: 0.0\n",
      "Document 155: Topic 1, Probability: 0.6814662645271056\n",
      "Document 156: Topic 3, Probability: 1.0\n",
      "Document 157: Topic 3, Probability: 1.0\n",
      "Document 158: Topic 1, Probability: 0.6052311889580233\n",
      "Document 159: Topic 5, Probability: 0.993093806809865\n",
      "Document 160: Topic -1, Probability: 0.0\n",
      "Document 161: Topic 1, Probability: 0.9113937782948086\n",
      "Document 162: Topic 4, Probability: 1.0\n",
      "Document 163: Topic 6, Probability: 1.0\n",
      "Document 164: Topic 1, Probability: 0.9326330338942495\n",
      "Document 165: Topic -1, Probability: 0.0\n",
      "Document 166: Topic 3, Probability: 0.7423889920678942\n",
      "Document 167: Topic -1, Probability: 0.0\n",
      "Document 168: Topic 0, Probability: 1.0\n",
      "Document 169: Topic 1, Probability: 0.5824144337338781\n",
      "Document 170: Topic 5, Probability: 1.0\n",
      "Document 171: Topic 1, Probability: 0.7854196294401047\n",
      "Document 172: Topic -1, Probability: 0.0\n",
      "Document 173: Topic 4, Probability: 1.0\n",
      "Document 174: Topic 1, Probability: 1.0\n",
      "Document 175: Topic 5, Probability: 1.0\n",
      "Document 176: Topic -1, Probability: 0.0\n",
      "Document 177: Topic -1, Probability: 0.0\n",
      "Document 178: Topic -1, Probability: 0.0\n",
      "Document 179: Topic -1, Probability: 0.0\n",
      "Document 180: Topic 5, Probability: 0.9774089798743475\n",
      "Document 181: Topic 4, Probability: 0.6762879168756092\n",
      "Document 182: Topic 1, Probability: 0.874599358323988\n",
      "Document 183: Topic -1, Probability: 0.0\n",
      "Document 184: Topic 1, Probability: 0.9745515826288204\n",
      "Document 185: Topic 5, Probability: 0.9528136073589543\n",
      "Document 186: Topic 1, Probability: 1.0\n",
      "Document 187: Topic 4, Probability: 0.7950816308809264\n",
      "Document 188: Topic -1, Probability: 0.0\n",
      "Document 189: Topic -1, Probability: 0.0\n",
      "Document 190: Topic 3, Probability: 0.9025209645760398\n",
      "Document 191: Topic -1, Probability: 0.0\n",
      "Document 192: Topic -1, Probability: 0.0\n",
      "Document 193: Topic -1, Probability: 0.0\n",
      "Document 194: Topic -1, Probability: 0.0\n",
      "Document 195: Topic 6, Probability: 1.0\n",
      "Document 196: Topic -1, Probability: 0.0\n",
      "Document 197: Topic -1, Probability: 0.0\n",
      "Document 198: Topic -1, Probability: 0.0\n",
      "Document 199: Topic -1, Probability: 0.0\n",
      "Document 200: Topic -1, Probability: 0.0\n",
      "Document 201: Topic 1, Probability: 0.7796977700674556\n",
      "Document 202: Topic -1, Probability: 0.0\n",
      "Document 203: Topic -1, Probability: 0.0\n",
      "Document 204: Topic 7, Probability: 1.0\n",
      "Document 205: Topic -1, Probability: 0.0\n",
      "Document 206: Topic -1, Probability: 0.0\n",
      "Document 207: Topic 4, Probability: 1.0\n",
      "Document 208: Topic -1, Probability: 0.0\n",
      "Document 209: Topic -1, Probability: 0.0\n",
      "Document 210: Topic 0, Probability: 0.7466546800039746\n",
      "Document 211: Topic 4, Probability: 1.0\n",
      "Document 212: Topic -1, Probability: 0.0\n",
      "Document 213: Topic 7, Probability: 1.0\n",
      "Document 214: Topic -1, Probability: 0.0\n",
      "Document 215: Topic 5, Probability: 0.9546121155456082\n",
      "Document 216: Topic 1, Probability: 0.9700755755088998\n",
      "Document 217: Topic 1, Probability: 0.6091905261065959\n",
      "Document 218: Topic 1, Probability: 1.0\n",
      "Document 219: Topic -1, Probability: 0.0\n",
      "Document 220: Topic -1, Probability: 0.0\n",
      "Document 221: Topic -1, Probability: 0.0\n",
      "Document 222: Topic 7, Probability: 1.0\n",
      "Document 223: Topic 0, Probability: 0.91127098254129\n",
      "Document 224: Topic -1, Probability: 0.0\n",
      "Document 225: Topic 1, Probability: 0.72482103325047\n",
      "Document 226: Topic 3, Probability: 1.0\n",
      "Document 227: Topic -1, Probability: 0.0\n",
      "Document 228: Topic 8, Probability: 1.0\n",
      "Document 229: Topic 4, Probability: 1.0\n",
      "Document 230: Topic 1, Probability: 1.0\n",
      "Document 231: Topic 3, Probability: 1.0\n",
      "Document 232: Topic -1, Probability: 0.0\n",
      "Document 233: Topic -1, Probability: 0.0\n",
      "Document 234: Topic -1, Probability: 0.0\n",
      "Document 235: Topic 7, Probability: 1.0\n",
      "Document 236: Topic -1, Probability: 0.0\n",
      "Document 237: Topic 4, Probability: 0.9583011380475948\n",
      "Document 238: Topic -1, Probability: 0.0\n",
      "Document 239: Topic -1, Probability: 0.0\n",
      "Document 240: Topic -1, Probability: 0.0\n",
      "Document 241: Topic -1, Probability: 0.0\n",
      "Document 242: Topic 4, Probability: 1.0\n",
      "Document 243: Topic 4, Probability: 0.9936504616612822\n",
      "Document 244: Topic 5, Probability: 0.9711480092295038\n",
      "Document 245: Topic 8, Probability: 1.0\n",
      "Document 246: Topic 1, Probability: 1.0\n",
      "Document 247: Topic -1, Probability: 0.0\n",
      "Document 248: Topic 1, Probability: 0.6426527011412811\n",
      "Document 249: Topic 1, Probability: 0.8077171771748308\n",
      "Document 250: Topic 1, Probability: 0.9391989763962609\n",
      "Document 251: Topic 1, Probability: 0.8390265953178844\n",
      "Document 252: Topic -1, Probability: 0.0\n",
      "Document 253: Topic -1, Probability: 0.0\n",
      "Document 254: Topic 1, Probability: 1.0\n",
      "Document 255: Topic -1, Probability: 0.0\n",
      "Document 256: Topic 1, Probability: 0.6453430809193226\n",
      "Document 257: Topic -1, Probability: 0.0\n",
      "Document 258: Topic 4, Probability: 0.938960934234446\n",
      "Document 259: Topic -1, Probability: 0.0\n",
      "Document 260: Topic -1, Probability: 0.0\n",
      "Document 261: Topic 1, Probability: 0.7235466950475286\n",
      "Document 262: Topic 1, Probability: 0.604878058078539\n",
      "Document 263: Topic -1, Probability: 0.0\n",
      "Document 264: Topic 6, Probability: 1.0\n",
      "Document 265: Topic -1, Probability: 0.0\n",
      "Document 266: Topic -1, Probability: 0.0\n",
      "Document 267: Topic -1, Probability: 0.0\n",
      "Document 268: Topic 5, Probability: 1.0\n",
      "Document 269: Topic 1, Probability: 1.0\n",
      "Document 270: Topic 4, Probability: 0.7551798483800044\n",
      "Document 271: Topic -1, Probability: 0.0\n",
      "Document 272: Topic 6, Probability: 1.0\n",
      "Document 273: Topic 6, Probability: 0.9968232603254065\n",
      "Document 274: Topic -1, Probability: 0.0\n",
      "Document 275: Topic -1, Probability: 0.0\n",
      "Document 276: Topic -1, Probability: 0.0\n",
      "Document 277: Topic 3, Probability: 0.781308771704775\n",
      "Document 278: Topic -1, Probability: 0.0\n",
      "Document 279: Topic 3, Probability: 0.8117685700177721\n",
      "Document 280: Topic 3, Probability: 0.781308771704775\n",
      "Document 281: Topic 3, Probability: 0.7459293867747727\n",
      "Document 282: Topic -1, Probability: 0.0\n",
      "Document 283: Topic 6, Probability: 1.0\n",
      "Document 284: Topic -1, Probability: 0.0\n",
      "Document 285: Topic -1, Probability: 0.0\n",
      "Document 286: Topic 1, Probability: 0.785424453311427\n",
      "Document 287: Topic -1, Probability: 0.0\n",
      "Document 288: Topic -1, Probability: 0.0\n",
      "Document 289: Topic 3, Probability: 1.0\n",
      "Document 290: Topic 7, Probability: 0.8921823239060453\n",
      "Document 291: Topic 7, Probability: 1.0\n",
      "Document 292: Topic -1, Probability: 0.0\n",
      "Document 293: Topic 3, Probability: 0.8150333299393855\n",
      "Document 294: Topic 5, Probability: 1.0\n",
      "Document 295: Topic 5, Probability: 0.9546121155456082\n",
      "Document 296: Topic 0, Probability: 0.6968017178022244\n",
      "Document 297: Topic -1, Probability: 0.0\n",
      "Document 298: Topic -1, Probability: 0.0\n",
      "Document 299: Topic 5, Probability: 0.95260209892926\n",
      "Document 300: Topic -1, Probability: 0.0\n",
      "Document 301: Topic -1, Probability: 0.0\n",
      "Document 302: Topic -1, Probability: 0.0\n",
      "Document 303: Topic 0, Probability: 0.6783649639743305\n",
      "Document 304: Topic -1, Probability: 0.0\n",
      "Document 305: Topic -1, Probability: 0.0\n",
      "Document 306: Topic -1, Probability: 0.0\n",
      "Document 307: Topic -1, Probability: 0.0\n",
      "Document 308: Topic 7, Probability: 1.0\n",
      "Document 309: Topic -1, Probability: 0.0\n",
      "Document 310: Topic -1, Probability: 0.0\n",
      "Document 311: Topic 4, Probability: 1.0\n",
      "Document 312: Topic -1, Probability: 0.0\n",
      "Document 313: Topic -1, Probability: 0.0\n",
      "Document 314: Topic -1, Probability: 0.0\n",
      "Document 315: Topic -1, Probability: 0.0\n",
      "Document 316: Topic -1, Probability: 0.0\n",
      "Document 317: Topic 3, Probability: 0.9250426931700763\n",
      "Document 318: Topic -1, Probability: 0.0\n",
      "Document 319: Topic 1, Probability: 0.5781713198124296\n",
      "Document 320: Topic -1, Probability: 0.0\n",
      "Document 321: Topic -1, Probability: 0.0\n",
      "Document 322: Topic 0, Probability: 0.8384795275860687\n",
      "Document 323: Topic 1, Probability: 0.7156633522681783\n",
      "Document 324: Topic 8, Probability: 1.0\n",
      "Document 325: Topic -1, Probability: 0.0\n",
      "Document 326: Topic 0, Probability: 0.7644186675095992\n",
      "Document 327: Topic 4, Probability: 0.7326387460423761\n",
      "Document 328: Topic -1, Probability: 0.0\n",
      "Document 329: Topic -1, Probability: 0.0\n",
      "Document 330: Topic -1, Probability: 0.0\n",
      "Document 331: Topic 6, Probability: 1.0\n",
      "Document 332: Topic 3, Probability: 0.9271813377234088\n",
      "Document 333: Topic -1, Probability: 0.0\n",
      "Document 334: Topic 0, Probability: 0.7276281276049584\n",
      "Document 335: Topic 8, Probability: 1.0\n",
      "Document 336: Topic -1, Probability: 0.0\n",
      "Document 337: Topic 3, Probability: 1.0\n",
      "Document 338: Topic 8, Probability: 1.0\n",
      "Document 339: Topic 0, Probability: 0.7565770018939965\n",
      "Document 340: Topic -1, Probability: 0.0\n",
      "Document 341: Topic 1, Probability: 1.0\n",
      "Document 342: Topic 3, Probability: 0.7413189984619507\n",
      "Document 343: Topic 6, Probability: 1.0\n",
      "Document 344: Topic 6, Probability: 1.0\n",
      "Document 345: Topic 6, Probability: 1.0\n",
      "Document 346: Topic -1, Probability: 0.0\n",
      "Document 347: Topic 4, Probability: 1.0\n",
      "Document 348: Topic 4, Probability: 0.7833072538445213\n",
      "Document 349: Topic -1, Probability: 0.0\n",
      "Document 350: Topic 1, Probability: 1.0\n",
      "Document 351: Topic -1, Probability: 0.0\n",
      "Document 352: Topic 3, Probability: 0.9514637789187523\n",
      "Document 353: Topic 7, Probability: 1.0\n",
      "Document 354: Topic -1, Probability: 0.0\n",
      "Document 355: Topic -1, Probability: 0.0\n",
      "Document 356: Topic -1, Probability: 0.0\n",
      "Document 357: Topic -1, Probability: 0.0\n",
      "Document 358: Topic -1, Probability: 0.0\n",
      "Document 359: Topic -1, Probability: 0.0\n",
      "Document 360: Topic 3, Probability: 0.8150333299393855\n",
      "Document 361: Topic 8, Probability: 1.0\n",
      "Document 362: Topic 8, Probability: 1.0\n",
      "Document 363: Topic -1, Probability: 0.0\n",
      "Document 364: Topic 1, Probability: 0.9505005763242937\n",
      "Document 365: Topic 3, Probability: 0.9121521390811003\n",
      "Document 366: Topic 6, Probability: 1.0\n",
      "Document 367: Topic 8, Probability: 1.0\n",
      "Document 368: Topic -1, Probability: 0.0\n",
      "Document 369: Topic -1, Probability: 0.0\n",
      "Document 370: Topic -1, Probability: 0.0\n",
      "Document 371: Topic -1, Probability: 0.0\n",
      "Document 372: Topic -1, Probability: 0.0\n",
      "Document 373: Topic 5, Probability: 0.9546121155456082\n",
      "Document 374: Topic -1, Probability: 0.0\n",
      "Document 375: Topic -1, Probability: 0.0\n",
      "Document 376: Topic 5, Probability: 1.0\n",
      "Document 377: Topic -1, Probability: 0.0\n",
      "Document 378: Topic -1, Probability: 0.0\n",
      "Document 379: Topic -1, Probability: 0.0\n",
      "Document 380: Topic 3, Probability: 1.0\n",
      "Document 381: Topic 6, Probability: 1.0\n",
      "Document 382: Topic 4, Probability: 0.9264013372453338\n",
      "Document 383: Topic 4, Probability: 1.0\n",
      "Document 384: Topic -1, Probability: 0.0\n",
      "Document 385: Topic -1, Probability: 0.0\n",
      "Document 386: Topic -1, Probability: 0.0\n",
      "Document 387: Topic -1, Probability: 0.0\n",
      "Document 388: Topic -1, Probability: 0.0\n",
      "Document 389: Topic 8, Probability: 1.0\n",
      "Document 390: Topic -1, Probability: 0.0\n",
      "Document 391: Topic -1, Probability: 0.0\n",
      "Document 392: Topic -1, Probability: 0.0\n",
      "Document 393: Topic -1, Probability: 0.0\n",
      "Document 394: Topic -1, Probability: 0.0\n",
      "Document 395: Topic -1, Probability: 0.0\n",
      "Document 396: Topic 7, Probability: 1.0\n",
      "Document 397: Topic 1, Probability: 0.72482103325047\n",
      "Document 398: Topic -1, Probability: 0.0\n",
      "Document 399: Topic 4, Probability: 0.8527206916312259\n",
      "Document 400: Topic 3, Probability: 1.0\n",
      "Document 401: Topic 5, Probability: 0.9723772265122159\n",
      "Document 402: Topic 0, Probability: 0.8032741383943728\n",
      "Document 403: Topic -1, Probability: 0.0\n",
      "Document 404: Topic -1, Probability: 0.0\n",
      "Document 405: Topic 3, Probability: 0.7410695028875514\n",
      "Document 406: Topic -1, Probability: 0.0\n",
      "Document 407: Topic 5, Probability: 1.0\n",
      "Document 408: Topic 5, Probability: 1.0\n",
      "Document 409: Topic 5, Probability: 1.0\n",
      "Document 410: Topic -1, Probability: 0.0\n",
      "Document 411: Topic -1, Probability: 0.0\n",
      "Document 412: Topic 0, Probability: 0.8602501742573595\n",
      "Document 413: Topic -1, Probability: 0.0\n",
      "Document 414: Topic -1, Probability: 0.0\n",
      "Document 415: Topic -1, Probability: 0.0\n",
      "Document 416: Topic -1, Probability: 0.0\n",
      "Document 417: Topic 7, Probability: 1.0\n",
      "Document 418: Topic 4, Probability: 1.0\n",
      "Document 419: Topic -1, Probability: 0.0\n",
      "Document 420: Topic 3, Probability: 0.9514637789187523\n",
      "Document 421: Topic 6, Probability: 1.0\n",
      "Document 422: Topic 4, Probability: 0.9711031143341078\n"
     ]
    }
   ],
   "source": [
    "# Print the topics and their corresponding probabilities\n",
    "for idx, prob in enumerate(prob):\n",
    "    print(f\"Document {idx}: Topic {topics[idx]}, Probability: {prob}\")"
   ]
  },
  {
   "cell_type": "code",
   "execution_count": 44,
   "metadata": {},
   "outputs": [
    {
     "data": {
      "application/vnd.plotly.v1+json": {
       "config": {
        "plotlyServerURL": "https://plot.ly"
       },
       "data": [
        {
         "marker": {
          "color": "#D55E00"
         },
         "orientation": "h",
         "type": "bar",
         "x": [
          0.05570359241180998,
          0.06969196244023868,
          0.08458246508330998,
          0.1160019817244234,
          0.11873547079275927
         ],
         "xaxis": "x",
         "y": [
          "air  ",
          "pumps  ",
          "heat  ",
          "source  ",
          "ground  "
         ],
         "yaxis": "y"
        },
        {
         "marker": {
          "color": "#0072B2"
         },
         "orientation": "h",
         "type": "bar",
         "x": [
          0.07121615886176044,
          0.07610452009919988,
          0.09995108743064136,
          0.10166278174514307,
          0.1324120324857402
         ],
         "xaxis": "x2",
         "y": [
          "heat  ",
          "target  ",
          "2028  ",
          "year  ",
          "600000  "
         ],
         "yaxis": "y2"
        },
        {
         "marker": {
          "color": "#CC79A7"
         },
         "orientation": "h",
         "type": "bar",
         "x": [
          0.06621735121675094,
          0.0779006631251585,
          0.07818172285256438,
          0.08561519442398999,
          0.09999626123941915
         ],
         "xaxis": "x3",
         "y": [
          "micro  ",
          "source  ",
          "air  ",
          "turbines  ",
          "wind  "
         ],
         "yaxis": "y3"
        },
        {
         "marker": {
          "color": "#E69F00"
         },
         "orientation": "h",
         "type": "bar",
         "x": [
          0.04236480126655361,
          0.046322759001990364,
          0.056394922044085666,
          0.05880141242065355,
          0.0612883356460388
         ],
         "xaxis": "x4",
         "y": [
          "million  ",
          "insulation  ",
          "pump  ",
          "heat  ",
          "cost  "
         ],
         "yaxis": "y4"
        },
        {
         "marker": {
          "color": "#56B4E9"
         },
         "orientation": "h",
         "type": "bar",
         "x": [
          0.062383886788492625,
          0.07333035106245292,
          0.07831548125005193,
          0.09610364056062834,
          0.17668378672550217
         ],
         "xaxis": "x5",
         "y": [
          "heat  ",
          "upgrade  ",
          "grant  ",
          "5000  ",
          "grants  "
         ],
         "yaxis": "y5"
        },
        {
         "marker": {
          "color": "#009E73"
         },
         "orientation": "h",
         "type": "bar",
         "x": [
          0.03475213989859976,
          0.036807872698550355,
          0.04779953288184062,
          0.051089762613879416,
          0.05821456533845405
         ],
         "xaxis": "x6",
         "y": [
          "solar  ",
          "panels  ",
          "heat  ",
          "pumps  ",
          "minister  "
         ],
         "yaxis": "y6"
        },
        {
         "marker": {
          "color": "#F0E442"
         },
         "orientation": "h",
         "type": "bar",
         "x": [
          0.06665158685833694,
          0.06835523385921041,
          0.06995802259860007,
          0.07780234886662614,
          0.08137134440781447
         ],
         "xaxis": "x7",
         "y": [
          "pumps  ",
          "heat  ",
          "rural  ",
          "homes  ",
          "work  "
         ],
         "yaxis": "y7"
        },
        {
         "marker": {
          "color": "#D55E00"
         },
         "orientation": "h",
         "type": "bar",
         "x": [
          0.0846790958697373,
          0.08790886392479015,
          0.09186755833224991,
          0.1018661781810452,
          0.12249007777633321
         ],
         "xaxis": "x8",
         "y": [
          "meet  ",
          "engineers  ",
          "training  ",
          "install  ",
          "train  "
         ],
         "yaxis": "y8"
        },
        {
         "marker": {
          "color": "#0072B2"
         },
         "orientation": "h",
         "type": "bar",
         "x": [
          0.06671264289210957,
          0.07373906176169631,
          0.08167521722677264,
          0.09764534302039032,
          0.12266074403203651
         ],
         "xaxis": "x9",
         "y": [
          "boilers  ",
          "electric  ",
          "carbon  ",
          "hybrid  ",
          "heating  "
         ],
         "yaxis": "y9"
        }
       ],
       "layout": {
        "annotations": [
         {
          "font": {
           "size": 16
          },
          "showarrow": false,
          "text": "Topic 0",
          "x": 0.0875,
          "xanchor": "center",
          "xref": "paper",
          "y": 1,
          "yanchor": "bottom",
          "yref": "paper"
         },
         {
          "font": {
           "size": 16
          },
          "showarrow": false,
          "text": "Topic 1",
          "x": 0.36250000000000004,
          "xanchor": "center",
          "xref": "paper",
          "y": 1,
          "yanchor": "bottom",
          "yref": "paper"
         },
         {
          "font": {
           "size": 16
          },
          "showarrow": false,
          "text": "Topic 2",
          "x": 0.6375000000000001,
          "xanchor": "center",
          "xref": "paper",
          "y": 1,
          "yanchor": "bottom",
          "yref": "paper"
         },
         {
          "font": {
           "size": 16
          },
          "showarrow": false,
          "text": "Topic 3",
          "x": 0.9125,
          "xanchor": "center",
          "xref": "paper",
          "y": 1,
          "yanchor": "bottom",
          "yref": "paper"
         },
         {
          "font": {
           "size": 16
          },
          "showarrow": false,
          "text": "Topic 4",
          "x": 0.0875,
          "xanchor": "center",
          "xref": "paper",
          "y": 0.6222222222222222,
          "yanchor": "bottom",
          "yref": "paper"
         },
         {
          "font": {
           "size": 16
          },
          "showarrow": false,
          "text": "Topic 5",
          "x": 0.36250000000000004,
          "xanchor": "center",
          "xref": "paper",
          "y": 0.6222222222222222,
          "yanchor": "bottom",
          "yref": "paper"
         },
         {
          "font": {
           "size": 16
          },
          "showarrow": false,
          "text": "Topic 6",
          "x": 0.6375000000000001,
          "xanchor": "center",
          "xref": "paper",
          "y": 0.6222222222222222,
          "yanchor": "bottom",
          "yref": "paper"
         },
         {
          "font": {
           "size": 16
          },
          "showarrow": false,
          "text": "Topic 7",
          "x": 0.9125,
          "xanchor": "center",
          "xref": "paper",
          "y": 0.6222222222222222,
          "yanchor": "bottom",
          "yref": "paper"
         },
         {
          "font": {
           "size": 16
          },
          "showarrow": false,
          "text": "Topic 8",
          "x": 0.0875,
          "xanchor": "center",
          "xref": "paper",
          "y": 0.24444444444444446,
          "yanchor": "bottom",
          "yref": "paper"
         }
        ],
        "height": 750,
        "hoverlabel": {
         "bgcolor": "white",
         "font": {
          "family": "Rockwell",
          "size": 16
         }
        },
        "showlegend": false,
        "template": {
         "data": {
          "bar": [
           {
            "error_x": {
             "color": "#2a3f5f"
            },
            "error_y": {
             "color": "#2a3f5f"
            },
            "marker": {
             "line": {
              "color": "white",
              "width": 0.5
             },
             "pattern": {
              "fillmode": "overlay",
              "size": 10,
              "solidity": 0.2
             }
            },
            "type": "bar"
           }
          ],
          "barpolar": [
           {
            "marker": {
             "line": {
              "color": "white",
              "width": 0.5
             },
             "pattern": {
              "fillmode": "overlay",
              "size": 10,
              "solidity": 0.2
             }
            },
            "type": "barpolar"
           }
          ],
          "carpet": [
           {
            "aaxis": {
             "endlinecolor": "#2a3f5f",
             "gridcolor": "#C8D4E3",
             "linecolor": "#C8D4E3",
             "minorgridcolor": "#C8D4E3",
             "startlinecolor": "#2a3f5f"
            },
            "baxis": {
             "endlinecolor": "#2a3f5f",
             "gridcolor": "#C8D4E3",
             "linecolor": "#C8D4E3",
             "minorgridcolor": "#C8D4E3",
             "startlinecolor": "#2a3f5f"
            },
            "type": "carpet"
           }
          ],
          "choropleth": [
           {
            "colorbar": {
             "outlinewidth": 0,
             "ticks": ""
            },
            "type": "choropleth"
           }
          ],
          "contour": [
           {
            "colorbar": {
             "outlinewidth": 0,
             "ticks": ""
            },
            "colorscale": [
             [
              0,
              "#0d0887"
             ],
             [
              0.1111111111111111,
              "#46039f"
             ],
             [
              0.2222222222222222,
              "#7201a8"
             ],
             [
              0.3333333333333333,
              "#9c179e"
             ],
             [
              0.4444444444444444,
              "#bd3786"
             ],
             [
              0.5555555555555556,
              "#d8576b"
             ],
             [
              0.6666666666666666,
              "#ed7953"
             ],
             [
              0.7777777777777778,
              "#fb9f3a"
             ],
             [
              0.8888888888888888,
              "#fdca26"
             ],
             [
              1,
              "#f0f921"
             ]
            ],
            "type": "contour"
           }
          ],
          "contourcarpet": [
           {
            "colorbar": {
             "outlinewidth": 0,
             "ticks": ""
            },
            "type": "contourcarpet"
           }
          ],
          "heatmap": [
           {
            "colorbar": {
             "outlinewidth": 0,
             "ticks": ""
            },
            "colorscale": [
             [
              0,
              "#0d0887"
             ],
             [
              0.1111111111111111,
              "#46039f"
             ],
             [
              0.2222222222222222,
              "#7201a8"
             ],
             [
              0.3333333333333333,
              "#9c179e"
             ],
             [
              0.4444444444444444,
              "#bd3786"
             ],
             [
              0.5555555555555556,
              "#d8576b"
             ],
             [
              0.6666666666666666,
              "#ed7953"
             ],
             [
              0.7777777777777778,
              "#fb9f3a"
             ],
             [
              0.8888888888888888,
              "#fdca26"
             ],
             [
              1,
              "#f0f921"
             ]
            ],
            "type": "heatmap"
           }
          ],
          "heatmapgl": [
           {
            "colorbar": {
             "outlinewidth": 0,
             "ticks": ""
            },
            "colorscale": [
             [
              0,
              "#0d0887"
             ],
             [
              0.1111111111111111,
              "#46039f"
             ],
             [
              0.2222222222222222,
              "#7201a8"
             ],
             [
              0.3333333333333333,
              "#9c179e"
             ],
             [
              0.4444444444444444,
              "#bd3786"
             ],
             [
              0.5555555555555556,
              "#d8576b"
             ],
             [
              0.6666666666666666,
              "#ed7953"
             ],
             [
              0.7777777777777778,
              "#fb9f3a"
             ],
             [
              0.8888888888888888,
              "#fdca26"
             ],
             [
              1,
              "#f0f921"
             ]
            ],
            "type": "heatmapgl"
           }
          ],
          "histogram": [
           {
            "marker": {
             "pattern": {
              "fillmode": "overlay",
              "size": 10,
              "solidity": 0.2
             }
            },
            "type": "histogram"
           }
          ],
          "histogram2d": [
           {
            "colorbar": {
             "outlinewidth": 0,
             "ticks": ""
            },
            "colorscale": [
             [
              0,
              "#0d0887"
             ],
             [
              0.1111111111111111,
              "#46039f"
             ],
             [
              0.2222222222222222,
              "#7201a8"
             ],
             [
              0.3333333333333333,
              "#9c179e"
             ],
             [
              0.4444444444444444,
              "#bd3786"
             ],
             [
              0.5555555555555556,
              "#d8576b"
             ],
             [
              0.6666666666666666,
              "#ed7953"
             ],
             [
              0.7777777777777778,
              "#fb9f3a"
             ],
             [
              0.8888888888888888,
              "#fdca26"
             ],
             [
              1,
              "#f0f921"
             ]
            ],
            "type": "histogram2d"
           }
          ],
          "histogram2dcontour": [
           {
            "colorbar": {
             "outlinewidth": 0,
             "ticks": ""
            },
            "colorscale": [
             [
              0,
              "#0d0887"
             ],
             [
              0.1111111111111111,
              "#46039f"
             ],
             [
              0.2222222222222222,
              "#7201a8"
             ],
             [
              0.3333333333333333,
              "#9c179e"
             ],
             [
              0.4444444444444444,
              "#bd3786"
             ],
             [
              0.5555555555555556,
              "#d8576b"
             ],
             [
              0.6666666666666666,
              "#ed7953"
             ],
             [
              0.7777777777777778,
              "#fb9f3a"
             ],
             [
              0.8888888888888888,
              "#fdca26"
             ],
             [
              1,
              "#f0f921"
             ]
            ],
            "type": "histogram2dcontour"
           }
          ],
          "mesh3d": [
           {
            "colorbar": {
             "outlinewidth": 0,
             "ticks": ""
            },
            "type": "mesh3d"
           }
          ],
          "parcoords": [
           {
            "line": {
             "colorbar": {
              "outlinewidth": 0,
              "ticks": ""
             }
            },
            "type": "parcoords"
           }
          ],
          "pie": [
           {
            "automargin": true,
            "type": "pie"
           }
          ],
          "scatter": [
           {
            "fillpattern": {
             "fillmode": "overlay",
             "size": 10,
             "solidity": 0.2
            },
            "type": "scatter"
           }
          ],
          "scatter3d": [
           {
            "line": {
             "colorbar": {
              "outlinewidth": 0,
              "ticks": ""
             }
            },
            "marker": {
             "colorbar": {
              "outlinewidth": 0,
              "ticks": ""
             }
            },
            "type": "scatter3d"
           }
          ],
          "scattercarpet": [
           {
            "marker": {
             "colorbar": {
              "outlinewidth": 0,
              "ticks": ""
             }
            },
            "type": "scattercarpet"
           }
          ],
          "scattergeo": [
           {
            "marker": {
             "colorbar": {
              "outlinewidth": 0,
              "ticks": ""
             }
            },
            "type": "scattergeo"
           }
          ],
          "scattergl": [
           {
            "marker": {
             "colorbar": {
              "outlinewidth": 0,
              "ticks": ""
             }
            },
            "type": "scattergl"
           }
          ],
          "scattermapbox": [
           {
            "marker": {
             "colorbar": {
              "outlinewidth": 0,
              "ticks": ""
             }
            },
            "type": "scattermapbox"
           }
          ],
          "scatterpolar": [
           {
            "marker": {
             "colorbar": {
              "outlinewidth": 0,
              "ticks": ""
             }
            },
            "type": "scatterpolar"
           }
          ],
          "scatterpolargl": [
           {
            "marker": {
             "colorbar": {
              "outlinewidth": 0,
              "ticks": ""
             }
            },
            "type": "scatterpolargl"
           }
          ],
          "scatterternary": [
           {
            "marker": {
             "colorbar": {
              "outlinewidth": 0,
              "ticks": ""
             }
            },
            "type": "scatterternary"
           }
          ],
          "surface": [
           {
            "colorbar": {
             "outlinewidth": 0,
             "ticks": ""
            },
            "colorscale": [
             [
              0,
              "#0d0887"
             ],
             [
              0.1111111111111111,
              "#46039f"
             ],
             [
              0.2222222222222222,
              "#7201a8"
             ],
             [
              0.3333333333333333,
              "#9c179e"
             ],
             [
              0.4444444444444444,
              "#bd3786"
             ],
             [
              0.5555555555555556,
              "#d8576b"
             ],
             [
              0.6666666666666666,
              "#ed7953"
             ],
             [
              0.7777777777777778,
              "#fb9f3a"
             ],
             [
              0.8888888888888888,
              "#fdca26"
             ],
             [
              1,
              "#f0f921"
             ]
            ],
            "type": "surface"
           }
          ],
          "table": [
           {
            "cells": {
             "fill": {
              "color": "#EBF0F8"
             },
             "line": {
              "color": "white"
             }
            },
            "header": {
             "fill": {
              "color": "#C8D4E3"
             },
             "line": {
              "color": "white"
             }
            },
            "type": "table"
           }
          ]
         },
         "layout": {
          "annotationdefaults": {
           "arrowcolor": "#2a3f5f",
           "arrowhead": 0,
           "arrowwidth": 1
          },
          "autotypenumbers": "strict",
          "coloraxis": {
           "colorbar": {
            "outlinewidth": 0,
            "ticks": ""
           }
          },
          "colorscale": {
           "diverging": [
            [
             0,
             "#8e0152"
            ],
            [
             0.1,
             "#c51b7d"
            ],
            [
             0.2,
             "#de77ae"
            ],
            [
             0.3,
             "#f1b6da"
            ],
            [
             0.4,
             "#fde0ef"
            ],
            [
             0.5,
             "#f7f7f7"
            ],
            [
             0.6,
             "#e6f5d0"
            ],
            [
             0.7,
             "#b8e186"
            ],
            [
             0.8,
             "#7fbc41"
            ],
            [
             0.9,
             "#4d9221"
            ],
            [
             1,
             "#276419"
            ]
           ],
           "sequential": [
            [
             0,
             "#0d0887"
            ],
            [
             0.1111111111111111,
             "#46039f"
            ],
            [
             0.2222222222222222,
             "#7201a8"
            ],
            [
             0.3333333333333333,
             "#9c179e"
            ],
            [
             0.4444444444444444,
             "#bd3786"
            ],
            [
             0.5555555555555556,
             "#d8576b"
            ],
            [
             0.6666666666666666,
             "#ed7953"
            ],
            [
             0.7777777777777778,
             "#fb9f3a"
            ],
            [
             0.8888888888888888,
             "#fdca26"
            ],
            [
             1,
             "#f0f921"
            ]
           ],
           "sequentialminus": [
            [
             0,
             "#0d0887"
            ],
            [
             0.1111111111111111,
             "#46039f"
            ],
            [
             0.2222222222222222,
             "#7201a8"
            ],
            [
             0.3333333333333333,
             "#9c179e"
            ],
            [
             0.4444444444444444,
             "#bd3786"
            ],
            [
             0.5555555555555556,
             "#d8576b"
            ],
            [
             0.6666666666666666,
             "#ed7953"
            ],
            [
             0.7777777777777778,
             "#fb9f3a"
            ],
            [
             0.8888888888888888,
             "#fdca26"
            ],
            [
             1,
             "#f0f921"
            ]
           ]
          },
          "colorway": [
           "#636efa",
           "#EF553B",
           "#00cc96",
           "#ab63fa",
           "#FFA15A",
           "#19d3f3",
           "#FF6692",
           "#B6E880",
           "#FF97FF",
           "#FECB52"
          ],
          "font": {
           "color": "#2a3f5f"
          },
          "geo": {
           "bgcolor": "white",
           "lakecolor": "white",
           "landcolor": "white",
           "showlakes": true,
           "showland": true,
           "subunitcolor": "#C8D4E3"
          },
          "hoverlabel": {
           "align": "left"
          },
          "hovermode": "closest",
          "mapbox": {
           "style": "light"
          },
          "paper_bgcolor": "white",
          "plot_bgcolor": "white",
          "polar": {
           "angularaxis": {
            "gridcolor": "#EBF0F8",
            "linecolor": "#EBF0F8",
            "ticks": ""
           },
           "bgcolor": "white",
           "radialaxis": {
            "gridcolor": "#EBF0F8",
            "linecolor": "#EBF0F8",
            "ticks": ""
           }
          },
          "scene": {
           "xaxis": {
            "backgroundcolor": "white",
            "gridcolor": "#DFE8F3",
            "gridwidth": 2,
            "linecolor": "#EBF0F8",
            "showbackground": true,
            "ticks": "",
            "zerolinecolor": "#EBF0F8"
           },
           "yaxis": {
            "backgroundcolor": "white",
            "gridcolor": "#DFE8F3",
            "gridwidth": 2,
            "linecolor": "#EBF0F8",
            "showbackground": true,
            "ticks": "",
            "zerolinecolor": "#EBF0F8"
           },
           "zaxis": {
            "backgroundcolor": "white",
            "gridcolor": "#DFE8F3",
            "gridwidth": 2,
            "linecolor": "#EBF0F8",
            "showbackground": true,
            "ticks": "",
            "zerolinecolor": "#EBF0F8"
           }
          },
          "shapedefaults": {
           "line": {
            "color": "#2a3f5f"
           }
          },
          "ternary": {
           "aaxis": {
            "gridcolor": "#DFE8F3",
            "linecolor": "#A2B1C6",
            "ticks": ""
           },
           "baxis": {
            "gridcolor": "#DFE8F3",
            "linecolor": "#A2B1C6",
            "ticks": ""
           },
           "bgcolor": "white",
           "caxis": {
            "gridcolor": "#DFE8F3",
            "linecolor": "#A2B1C6",
            "ticks": ""
           }
          },
          "title": {
           "x": 0.05
          },
          "xaxis": {
           "automargin": true,
           "gridcolor": "#EBF0F8",
           "linecolor": "#EBF0F8",
           "ticks": "",
           "title": {
            "standoff": 15
           },
           "zerolinecolor": "#EBF0F8",
           "zerolinewidth": 2
          },
          "yaxis": {
           "automargin": true,
           "gridcolor": "#EBF0F8",
           "linecolor": "#EBF0F8",
           "ticks": "",
           "title": {
            "standoff": 15
           },
           "zerolinecolor": "#EBF0F8",
           "zerolinewidth": 2
          }
         }
        },
        "title": {
         "font": {
          "color": "Black",
          "size": 22
         },
         "text": "Topic Word Scores",
         "x": 0.5,
         "xanchor": "center",
         "yanchor": "top"
        },
        "width": 1000,
        "xaxis": {
         "anchor": "y",
         "domain": [
          0,
          0.175
         ],
         "showgrid": true
        },
        "xaxis10": {
         "anchor": "y10",
         "domain": [
          0.275,
          0.45
         ],
         "showgrid": true
        },
        "xaxis11": {
         "anchor": "y11",
         "domain": [
          0.55,
          0.7250000000000001
         ],
         "showgrid": true
        },
        "xaxis12": {
         "anchor": "y12",
         "domain": [
          0.825,
          1
         ],
         "showgrid": true
        },
        "xaxis2": {
         "anchor": "y2",
         "domain": [
          0.275,
          0.45
         ],
         "showgrid": true
        },
        "xaxis3": {
         "anchor": "y3",
         "domain": [
          0.55,
          0.7250000000000001
         ],
         "showgrid": true
        },
        "xaxis4": {
         "anchor": "y4",
         "domain": [
          0.825,
          1
         ],
         "showgrid": true
        },
        "xaxis5": {
         "anchor": "y5",
         "domain": [
          0,
          0.175
         ],
         "showgrid": true
        },
        "xaxis6": {
         "anchor": "y6",
         "domain": [
          0.275,
          0.45
         ],
         "showgrid": true
        },
        "xaxis7": {
         "anchor": "y7",
         "domain": [
          0.55,
          0.7250000000000001
         ],
         "showgrid": true
        },
        "xaxis8": {
         "anchor": "y8",
         "domain": [
          0.825,
          1
         ],
         "showgrid": true
        },
        "xaxis9": {
         "anchor": "y9",
         "domain": [
          0,
          0.175
         ],
         "showgrid": true
        },
        "yaxis": {
         "anchor": "x",
         "domain": [
          0.7555555555555555,
          1
         ],
         "showgrid": true
        },
        "yaxis10": {
         "anchor": "x10",
         "domain": [
          0,
          0.24444444444444446
         ],
         "showgrid": true
        },
        "yaxis11": {
         "anchor": "x11",
         "domain": [
          0,
          0.24444444444444446
         ],
         "showgrid": true
        },
        "yaxis12": {
         "anchor": "x12",
         "domain": [
          0,
          0.24444444444444446
         ],
         "showgrid": true
        },
        "yaxis2": {
         "anchor": "x2",
         "domain": [
          0.7555555555555555,
          1
         ],
         "showgrid": true
        },
        "yaxis3": {
         "anchor": "x3",
         "domain": [
          0.7555555555555555,
          1
         ],
         "showgrid": true
        },
        "yaxis4": {
         "anchor": "x4",
         "domain": [
          0.7555555555555555,
          1
         ],
         "showgrid": true
        },
        "yaxis5": {
         "anchor": "x5",
         "domain": [
          0.37777777777777777,
          0.6222222222222222
         ],
         "showgrid": true
        },
        "yaxis6": {
         "anchor": "x6",
         "domain": [
          0.37777777777777777,
          0.6222222222222222
         ],
         "showgrid": true
        },
        "yaxis7": {
         "anchor": "x7",
         "domain": [
          0.37777777777777777,
          0.6222222222222222
         ],
         "showgrid": true
        },
        "yaxis8": {
         "anchor": "x8",
         "domain": [
          0.37777777777777777,
          0.6222222222222222
         ],
         "showgrid": true
        },
        "yaxis9": {
         "anchor": "x9",
         "domain": [
          0,
          0.24444444444444446
         ],
         "showgrid": true
        }
       }
      }
     },
     "metadata": {},
     "output_type": "display_data"
    }
   ],
   "source": [
    "topic_model.visualize_barchart(top_n_topics=len(set(topic_model.topics_)))"
   ]
  },
  {
   "cell_type": "code",
   "execution_count": 45,
   "metadata": {},
   "outputs": [
    {
     "name": "stderr",
     "output_type": "stream",
     "text": [
      "Batches: 100%|██████████| 14/14 [00:00<00:00, 16.44it/s]\n"
     ]
    }
   ],
   "source": [
    "fig = topic_model.visualize_documents(heat_pump_sentences, width=800, height=500)"
   ]
  },
  {
   "cell_type": "code",
   "execution_count": 46,
   "metadata": {},
   "outputs": [
    {
     "data": {
      "application/vnd.plotly.v1+json": {
       "config": {
        "plotlyServerURL": "https://plot.ly"
       },
       "data": [
        {
         "hoverinfo": "text",
         "hovertext": [
          "large-scale trials of different technologies, such as hydrogen and heat pumps and heat networks, are needed now to gather evidence for future decisions.",
          "the strategy also clearly highlights the steps that the government are taking to work with industry to bring down the costs of key technologies, from electric vehicles to heat pumps—just as we did with offshore wind, in which we are now the world leader.",
          "according to the european heat pump association, we have the lowest number of heat pumps installed in the whole of europe, relative to population.",
          "microgeneration, such as small-scale heat pumps in local community halls, can engage and interest communities in generating their own energy.",
          "i also question whether it is a good idea to pursue heat pumps in the way that this scheme is doing without having a concomitant drive to uprate the energy efficiency of properties that are likely to be concerned with the installation of heat pumps.",
          "examples include solar panels on the roofs of gloucester and salisbury cathedrals, heat pumps and underfloor heating in newcastle cathedral and bath abbey using natural hot spring water.",
          "as the minister mentioned, the scheme is not just for heat pumps; it is also for biomass boilers—all of that is to be included in that £450 million cash limit.",
          "the same may also be said regarding the recent announcement that hundreds of millions will be spent to persuade people to get rid of gas boilers and purchase expensive heat pumps.",
          "the government recognise the potential for renewable liquid fuels to play a role in decarbonising heat where heat pumps are unsuitable, and we are working at pace to develop a consultation that will explore that role in more detail.",
          "it means people will go out and buy another fossil fuel boiler because the option to buy a heat pump was just too difficult.",
          "heat pumps are a proven scalable option for decarbonising heat and will play a substantial role in any net zero scenario.",
          "the previous government gave assistance for the installation of heat pumps; will this government continue in that vein?",
          "if my constituents are all to adopt an electric car and a heat pump, we need a massive expansion both of electricity generation and of grid capacity.",
          "that developer has two separate companies: one is the management company through which he charges the owners of those houses for their electricity bill, and another, totally separate company that was nothing to do with the sale process, which is where he placed the heat pump.",
          "critically, the new clause also deals with the shared assets that might be in use to service their homes, such as ground source heat pumps, septic tanks or sewage pumps.",
          "that is why we think the cost of heat pumps can reduce by 25% to 50% by 2025.",
          "there are some highly innovative new products that have been brought forward by companies like calor, which work in conjunction with air-source heat pumps and which are so efficient that they qualify for the rhi.",
          "on this heat pump scheme that we have introduced, the idea is that it kickstarts the market and gets the private sector providing solutions.",
          "i mentioned earlier the commitment from one company overnight to make a heat pump of equivalent price to a gas boiler.",
          "i welcome the government’s moves on heat pumps this week.",
          "using 1 kw of electricity, an air source heat pump can generate 2.5 kw of heat and a ground source heat pump can generate up to 4 kw of heat.",
          "will those properties be able to access alternative sources of heating through the green deal, perhaps through air source heat pumps and so on?",
          "it does not want an air source heat pump running continuously to keep temperatures high; it wants to be able to switch that energy off and on, which makes this an ideal solution.",
          "the cost-effectiveness of heat pumps is critically dependent on the cost of electricity, and there is good reason to think that the overall of cost of renewables to the bill payer is still extremely high, including subsidies.",
          "the committee has been looking at potential solutions to help decarbonise the economy, from tidal power to offshore wind—there is significant emphasis on that in the government’s strategy—and heat pumps, where there is ambition, but currently a significant gap in delivery.",
          "thanks to brexit, we are no longer constrained by eu law, so i can announce that for the next five years, homeowners having materials such as solar panels, heat pumps and insulation installed will no longer pay 5% vat; they will pay zero.",
          "friend the shadow secretary of state visited bristol recently to look at the ambitious projects that are going on there, including new water source heat pumps and the city leap partnership.",
          "noise is an area of concern as regards ground source heat pumps and wind turbines, and we want to ensure that we consider how that is dealt with.",
          "my understanding is that the uk is a real leader in heat pump technology, but if the hon.",
          "i am sure the minister is aware that heat pumps will produce about 2.5 times the energy of the electricity put into them, or four times for ground source heat pumps—they are multipliers of the power put into them.",
          "the risk that they face with their current strategy is that people will put off the decision to make that huge capital expenditure in air source heat pumps.",
          "gentleman is right to say that we need to be moving towards technologies such as air source heat pumps.",
          "the heat and buildings strategy published earlier this week mentions a commitment on installing new heat pumps.",
          "microgeneration is inherently diverse, because it involves more than one form of energy production—heat pumps, combined heat and power, micro-hydro, solar-thermal, photovoltaics and wind power.",
          "i think heat pumps are rather like the solar panels we were just discussing in previous questions.",
          "he said that there are not enough heat pumps—of course there are not.",
          "has the secretary of state looked any further into giving householders an incentive, such as a reduction in council tax, for embarking on microgeneration—for example, for installing a small windmill, a ground source heat pump or solar panels?",
          "the ball is now partly in the energy companies’ court to see whether they can get the price of those heat pumps down.",
          "i think we should have a festive round-up on snp morality: 12 hours of police questioning, 11 grand in roaming charges, 10 years without school inspections, nine sham embassies, eight years of poor child mental health, seven years without ferries, six years shirking welfare, five hundred million overspent on edinburgh’s tram, four million to install a heat pump, three high-profile arrests, two overseas jollies, and a dodgy jaguar ev.",
          "while heat pumps have an important role to play in the decarbonisation of home heating, a heat pump only approach risks unfairly burdening off-grid rural homeowners with expensive installation costs.",
          "i was delighted a couple of years ago to be asked to look at some retrofitted social housing in camber, where solar panels with batteries and air source heat pumps had been put in.",
          "i welcome the emphasis on microgeneration, including ground-source and air-source heat pumps, plus deploying solar pv on rooftops and brownfield sites where appropriate, and i recognise its potential, but what is being done to stop deployment of the unwanted large-scale ground-mounted pv farms?",
          "there were 130 properties on the estate i visited, and of those none had ev charging points, solar photovoltaics, solar thermal or heat pumps.",
          "i am absolutely confident of that, particularly given the commitments being made by different energy companies to make heat pumps cheaper.",
          "the government propose that, from 2026, the installation of replacement boilers will be banned in those off-grid properties and instead households in those rural communities will be forced to have either air source heat pumps or ground source heat pumps.",
          "the government could invest in a national programme of heat pumps, retrofitting and insulating.",
          "the carbon trust and ground heat pump manufacturers have highlighted an inconsistency in the tariff calculations for the rhi that is having the unintended consequence of effectively doubling the rate of return for air source heat pump installations.",
          "the private sector will then have more incentive to offer competitive options on things such as heat pumps, roof insulation and cavity wall insulation.",
          "they could have been heated by air source heat pumps, for example.",
          "a range of strategies are being adopted, looked at and implemented, with taxpayers’ money devoted to them, in addition to heat pumps.",
          "revolution power fits photovoltaic units and provides ground and air heat pumps.",
          "i note that two suppliers, octopus and british gas, have announced £3,000 and £2,500 air source heat pumps—after the government £5,000, i should say—which means they start to become within reach of ordinary boilers.",
          "now that we have left the eu, the government have been able to remove the 5% vat charge on energy-saving materials, including solar panels, heat pumps and insulation.",
          "does the cop president believe that heat pumps can adequately replace all gas boilers?",
          "bridgend is one of three local authorities selected to be deliverers of major renewable energy projects, involving the piloting of the latest heat pump technology through the smart system and heat programme.",
          "i have already pointed overnight to the welcome of this announcement by the energy companies, which think that they can get the price of those heat pumps down.",
          "we will continue to work with industry stakeholders to build further evidence that will allow us to evaluate what roles these fuels may play in heat, especially where heat pumps cannot be used.",
          "therefore, people cannot put in place the measures that would allow a higher epc rating or allow a heat pump to work in the first place.",
          "(4) in this section, “energy efficiency measures” include— (a) the installation of heat pumps; and (b) any measure aimed at improving the energy efficiency rating of a property.” new clause 88—new permitted development right— “(1) the secretary of state must, by regulations, create a new permitted development right to allow existing residential buildings to be redeveloped without further planning consent if— (a) the building is in an urban area, (b) the local authority has issued one or more design codes for the area in which the building is situated, and the redevelopment complies with it, (c) the building is not a listed building or subject to other heritage protections, and (d) the redevelopment complies with all relevant building safety regulations.",
          "we could lose up to six months of heat pump installation and face various other problems due to that dislocation, with the two schemes not running together seamlessly.",
          "i was disappointed to hear in the budget that there were no new policies to help boost the roll-out of low-carbon technologies such as electric vehicles or heat pumps.",
          "they are unable to do so themselves—they have no rights in relation to that heat pump.",
          "these are the least well-off people, but there is no point in our preaching to them about the value of heat pumps, which they cannot afford.",
          "is the minister aware that another source of useful efficiency savings in the domestic sector would be ground source heat pumps, as part of the renewables initiative?",
          "my constituents, who are early adopters of ground-source heat pumps and other renewable sources, are disappointed that it appears they will not be able to access the rhi as they will not have installed their equipment before the launch of the incentive.",
          "the government propose phasing out the use of high-carbon fossil fuel heating from the gas grid by banning the installation of new gas-fuelled boilers from 2026, and they advocate the alternative of heat pumps.",
          "we need to develop and embrace new technologies for heating our homes, such as heat pumps, if we are to achieve our net zero target.",
          "many people in my constituency are finding it difficult to afford their fuel bills, even without the cost involved in installing new heating systems such as heat pumps.",
          "we aim to have the incentive in place by april 2011, and through it we expect to see a genuine impact on domestic heating technologies such as solar thermal, and air and ground source heat pumps.",
          "that means investing now in renewable energy, insulation of homes and installation of heat pumps, rather than kicking the can down the road, as this government have done with their net zero strategy.",
          "octopus energy and others have said overnight that they think that they can make heat pumps at an equivalent cost to natural gas boilers by april 2022.",
          "a uk market with the capacity and capability to deploy 600,000 heat pumps per year by 2028 can keep us on track to net zero.",
          "friend, now the prime minister, announced that he was cutting vat from 5% to 0% for the installation of energy efficient systems such as solar panels, heat pumps and insulation.",
          "a troubling direction of travel means that, as soon as 2026, these oil-burning boilers will be banned and groupthink will be directing us to worship at the altar of the heat pump.",
          "there is a problem with the cost of lane rental to put hot pipes under our roads, but we need to give serious attention to how we get major investment so that nearly all our homes come off burning hydrocarbons, whether it is gas or the like, and get on to solar heating or heat pumps—either air or ground source heating.",
          "that, among other things, will get us more or less in line with what the climate change committee has suggested on the roll-out of heat pumps to ensure that our heat decarbonisation targets are realised.",
          "in recent months, i have had a number of emails from constituents who have taken the government’s encouragement to look at getting a heat pump, but have found the cost just too high for them.",
          "heat pumps are being fitted, and we will have the opportunity very soon to see how people benefit from the experience of having those measures introduced.",
          "a poll by liquid gas uk discovered that more than two thirds of people living in off-grid rural homes fear that they would not be able to afford a heat pump if required to install one.",
          "the role of the government, though, is not to provide a heat pump for every home but to stimulate the private sector heat pump market, so that it can provide that solution.",
          "that fund also needs quadrupling in size in order to run alongside the proposal we are discussing, so that whole-house treatments can work for heat pumps.",
          "it was not that the rhi did not support heat pumps—it did, and it also supported biomass boilers and solar thermal, which is not included in this scheme.",
          "we need to look into biomass, solar, thermal and ground sources, air source and heat pumps, and we need to look fundamentally at microgeneration.",
          "as the renewable heat initiative comes in, does he agree that converting some off-grid domestic properties to heat pumps, particularly air source heat pumps, could make a difference?",
          "the government have trumpeted how the scheme is going to turbocharge the installation of heat pumps, sort out supply chains and various other things, but it is essentially trying to do that with no new money at all.",
          "that is clearly going to happen as a result of the types of measures that we are introducing, from extended carbon emissions reduction targets to the increase in cert and adjustments in the warm homes programme, as part of which air source heat pumps are being trialled.",
          "even that figure lacks ambition, because ground source heat pumps, wind turbines and photovoltaic solar panels are increasing in efficiency and decreasing in cost all the time.",
          "when it comes home heating, there was strong agreement on the need for hydrogen, heat pumps and heat networks, so again a hydrogen strategy is required.",
          "on energy costs, we had a vat cut on energy efficiency products, although, frankly, the mind boggles at how someone who is struggling to pay their existing utility bills will somehow find the money—vat or not—to install solar panels, heat pumps or anything else that might be covered.",
          "we imagine highly radioactive canisters being moved in special trains at the dead of night, but the movement of goods also involves mundane things such as heat pumps, motors, spares and other components, all of which, because they are part of the civil nuclear ecosystem, have to be moved under the terms of these treaties.",
          "at the last count, that project had won 27 or 28 awards and is producing heat from ground source heat pumps and recycling water.",
          "i appreciate the cross-party nature of some of the talks in the scottish parliament—that is of course welcome—but at a time when the uk government are suggesting putting up vat on renewable technologies, including solar, wind, biomass and heat pumps, from 5% to 20%, i think there is still a lot more discussion to be had between the different parties.",
          "what we do not particularly agree with the government on is their low-key response to the imperative of getting those 600,000 heat pumps in by the end of decade.",
          "we expect the vast majority of the funding to go on heat pumps.",
          "my own local authority is investigating the possibility of using green open space to have a district ground source heat pump scheme that would engage with private homes in the area; that is engaging with the private sector as well.",
          "on how the heat pump ready programme will be operating, if i understand it correctly, that is a northern ireland-only scheme, but we have seen that scheme in operation and it will help to inform the england and wales scheme.",
          "a number of firms have come forward on some of the technologies we hope to use, such as heat pumps, and have indicated it should be possible to do that.",
          "investment in energy saving produces much quicker returns than money invested in windmills, heat pumps or photovoltaics.",
          "microgeneration—i have mentioned heat pumps as an example—has a great deal of scope in helping to bring more diversity and choice to some of the hon.",
          "i, for example, would be very happy to have a heat pump to heat my rather small london flat, but i am told that there is not one available because i am not allowed to adorn the outside of the block of flats with any of the things that a person would need to make a heat pump system work.",
          "does he agree that we need to incentivise, within the tax structure, the building of ground-source heat pumps and air-source heat pumps to ensure that they can replace traditional fossil fuel systems and get our carbon emissions down?",
          "i am a bit of an enthusiast for heat pumps, and i am very much alive to the issue that the hon.",
          "conversely, if people have their own wind turbine, heat pump and so on, and supply energy for not only their home, school, industrial estate, village or town, but sell something to the system—thereby contributing—that is not confusing.",
          "the government are keeping the lower rate for heat pumps, biomass boilers and combined heat and power units.",
          "beyond bath, the liberal democrat-run cheltenham borough council has implemented a green deal that has helped local businesses to invest in solar panels and heat pumps, led by the liberal democrat parliamentary candidate, who, i hope, will tell us all about it once we have had a general election.",
          "there is also biomass, hydro, solar, heat pumps and many other sources that we promote.",
          "member for leeds central (hilary benn) said, there is a role for those heat pumps, but they are not for every home.",
          "heat pumps, incidentally, are scheduled and projected to provide some 4 per cent.",
          "with our support for heat pumps, we are looking to green our houses and lower costs for families, as well as meeting the climate challenge, on which the last government singularly failed and i am pleased to say that this government are making progress.",
          "that is the minimum standard required to replace fossil fuel boilers with low-carbon heating such as heat pumps.",
          "also in my constituency is drilcorp, specialists in renewable technologies, heat pumps and geothermal systems, while our east durham college has established a technical academy that delivers courses and training in engineering and manufacturing, including renewable technologies of the future.",
          "there is great variety in the housing stock of the uk, and i believe that if we keep on track with investment, supporting and priming the market, we will be able to bring down radically the cost of ground source heat pumps and all the other ways to give people the heating that they need in a clean, green way.",
          "as part of the green revolution, i want to see zero-rated vat applied to heat pumps and energy efficient measures as well.",
          "indeed, in the assembly report there was 80% support for heat pumps, 80% support for heat networks and 80% support for potential hydrogen, and the conclusion was that local people and local communities should get to decide which technology best suits their needs.",
          "they could play a part in the low-carbon heating mix, particularly where heat pumps cannot be used.",
          "it reduces temperatures, waste, running costs and carbon emissions from heating and hot water by up to 29% using air-source heat pumps and a low-energy loop.",
          "we want to go with the grain of human nature, which means that, when it is time to replace a gas boiler, the heat pump is a competitive option in terms of price.",
          "at a small cost, existing off-grid boilers can be modified to run renewable liquid fuels, such as hvo, saving the homeowner the extortionate cost of a heat pump replacement.",
          "although we do not mandate specific technologies to enable innovation and tailoring to individual sites, we expect that most developers will use solar panels or heat pumps to meet those new standards.",
          "we also need to look hard at the contribution that can be made by microgeneration, such as heat pumps, to tackle some of the difficult and important questions that arise in many constituencies.",
          "we are reassuring people in rural areas who were fearful that they could neither afford heat pumps nor be sure of their functionality, while increasing the subsidy for them by 50%, and working to build the system and drive the cost curve down, so that more and more homes can have them.",
          "we are sensitive to this point and we are looking for ways to enable people to reduce their bills and have more secure supplies at lower cost through such means as air source heat pumps, which would enable people to obtain heat through a completely new technology.",
          "i also agree thoroughly with the points made about the disruption to many people and about heat pumps.",
          "personally, i regret the loss of the clauses on renewable heat obligations, which would have formed an important incentive to technologies such as heat pumps and solar-thermal microgeneration.",
          "under the current government plan, which is born out of a strategy that dates all the way back to 2017—several governments ago—the intention is that all those 1.7 million homes would be banned from having a replacement boiler after 2026 and told that, instead, they must have, effectively, either an air source heat pump or a ground source heat pump.",
          "gentleman failed to mention the significant payments that are available, through the new renewable heat incentive, to help such people manage the transition from expensive heating oil to new affordable technologies such as heat pumps.",
          "will the new scheme allow cert to be redirected, to recognise the benefits of heat pumps both in providing a cheaper means of heating the home and in reducing carbon emissions?",
          "the £20 billion over 20 years that the chancellor has announced for nuclear and carbon capture projects will not support retrofitting homes to permanently cut energy costs for households, or much cheaper onshore wind developments, tidal energy, green hydrogen, heat pumps, district heating or solar.",
          "the scheme also does not include hybrid heat pumps, which could make a real difference in terms of heating off-grid properties.",
          "i am struck by the limited number of heat pumps that are proposed, given what was earlier presented.",
          "with the launch of “powering up britain”, on which i made a statement to the house just before the recess, we are using £30 million of government money to leverage £300 million in private investment, but i agree that we need to do more to change the trajectory if we are to meet the target of 600,000 heat pumps a year by 2028.",
          "even that figure lacks ambition, because ground source heat pumps, wind turbines and photovoltaic solar panels are increasing in efficiency and decreasing in cost all the time.",
          "underground heat pumps and solar panels will become a fact of life for us all in the not-so-distant future.",
          "microgeneration is inherently diverse, because it involves more than one form of energy production—heat pumps, combined heat and power, micro-hydro, solar-thermal, photovoltaics and wind power.",
          "of course, the advantage of heat pumps is that they are extremely efficient.",
          "in 2002, they introduced enhanced capital allowances for investment in heat pumps, air heaters and solar heaters and a 5 per cent.",
          "under our schemes, they can now have something sustainable, such as a ground source heat pump.",
          "we have given them this reprieve because we understand that putting in some of those technologies, such as heat pumps, would have cost them thousands of pounds—making sure that they had the right insulation in place, for example.",
          "personally, i regret the loss of the clauses on renewable heat obligations, which would have formed an important incentive to technologies such as heat pumps and solar-thermal microgeneration.",
          "we saw a decrease in air passenger duty and fuel duty, and no investment in heat pumps, insulation for our homes and all the things that we know we have got to do.",
          "my constituent, wayne mcguire of grove innovations in tring, does excellent work fitting heat pumps to households, which can be a vital assistance in reducing the use of coal, as agreed to in the glasgow climate pact.",
          "they are deeply concerned that the government’s proposals are impractical because it is so expensive and difficult to install heat pumps.",
          "nibe energy systems is one of the uk’s leading manufacturers of heat pumps, and the market leader in europe.",
          "only the most well off will benefit from the heat pumps, and the government have not made clear the new measures that householders will also need, including insulation, water storage and new radiators.",
          "the heat pump strategy, for example, needs to go further.",
          "that will directly hit the reall organisation in northumberland, which supports and enables community renewable energy projects in the very villages that are most likely to be affected by the wind farm proposals, such as ground force heat pumps in lowick and etal.",
          "the government have created an online advice service to help consumers in replacing fossil fuel heating systems, including oil boilers, with a heat pump.",
          "last week i visited duftons plumbing & heating supplies, a leading local firm, and its tie-up with daikin uk, a heat pump manufacturer.",
          "the government are keeping the lower rate for heat pumps, biomass boilers and combined heat and power units.",
          "there is so much in the white paper—the future homes standard, the hydrogen strategy, heating buildings, decarbonisation, heat pump delivery—that is going to be consulted on from next year onwards.",
          "in my constituency we hope to host the first commercial deep geothermal energy plant in the uk, and we have the only uk manufacturer of ground-heat pumps, so the speed with which the government can act on bringing in the renewable heat incentive is vital to my constituents.",
          "heat pumps will play a substantial role in any net zero scenario, so we need to build the market for them now.",
          "i think we are seeing the same process with air source heat pumps.",
          "i think that the announcement of no fossil fuel heating in new homes from 2025 will kick-start a revolution, particularly in reducing the cost of alternatives such as heat pumps.",
          "for example, the hub has funded several community organisations to develop locally owned energy projects, including a project for three villages—great staughton, perry and grafham—to transition to renewable heat through a ground or water source heat pump.",
          "and with some of the least energy-efficient housing in europe, millions of uk homes may require far more significant upgrades to be suitable for heat pumps, insulation and so on.",
          "those include failure to reform the planning system to bring more home-grown power online; failure on renewables; failure on energy efficiency; failure on making new homes green; failure in comparison to other countries; failure to take global climate leadership; failure on heat pumps; failure on hydrogen for home heating; failure on the delivery of nature targets; failure to deliver on international commitments, instead going backwards; failure to grasp the opportunity to protect consumers; failure on workers and skills; failure to address the uk’s second highest-emitting sector, which is buildings; and failure on fossil fuels and stopping more coal mines from being built.",
          "that means that when a gas boiler dies, the homeowner, social landlord or landlord will put in another gas boiler because it is currently cheaper than a heat pump.",
          "we are sensitive to this point and we are looking for ways to enable people to reduce their bills and have more secure supplies at lower cost through such means as air source heat pumps, which would enable people to obtain heat through a completely new technology.",
          "a number of subsidy schemes for heat pumps are available and in development.",
          "the people at the church hall like it because they need intermittent heat, and they can switch it on without having a heat pump running continuously, wasting all that energy.",
          "while we expect that most off-grid properties will ultimately switch to heat pumps, affordability is a key challenge that we need to address, particularly while the cost of installing a heat pump remains higher than the cost of replacing an oil system.",
          "furthermore, the chancellor announced help for motorists through the biggest cut to fuel duty rates ever, while for the next five years homeowners in great britain who have materials such as solar panels, heat pumps or insulation installed will pay zero vat.",
          "it is also clear that we need a better solution to incentivise both the take-up and production of uk-made heat pumps.",
          "in rural areas, it will therefore be extremely difficult to source a nearby engineer to install a heat pump when one’s current oil boiler breaks.",
          "if this electrical revolution is to take off, many more people will need to buy electric cars and heat pumps.",
          "a few weeks ago, i had the pleasure of visiting an innovative housing project in rumney in my constituency, which had solar panels in nearly all the new buildings but also ground source heat pumps, electric vehicle charging points and battery technology in the houses, bringing down bills for the residents while contributing to net zero.",
          "more recently, the heating and building strategy in 2021 and two associated consultations on homes off the gas grid moved further, saying that there should be a heat pump first strategy.",
          "there are some good practical examples, such as social housing stock in my constituency that has been retro-fitted with a ground source heat pump which has reduced the environmental impact of those properties and is also saving the people who live in them hundreds of pounds a year in heating bills.",
          "we are very keen on heat pumps, but those pumps are not an energy-efficiency device; they are a renewable-energy device.",
          "ironically, the heat pumps scheme for england and wales will be administered by ofgem out of its office in glasgow.",
          "if heat pumps and electric cars are going to help, we will need to generate all our electricity from green sources, so when will the government commission the very large amounts of new generating capacity we will need to make them work when the wind does not blow and the sun does not shine?",
          "that is why the government have committed to looking at rebalancing the system costs across electricity and gas, as well as to ensure that people can benefit, as i do, from a heat pump, which provides a warm home and low bills.",
          "the development of our microgeneration strategy is very relevant, because technologies such as ground source heat pumps can offer some relief in future.",
          "they have chosen a winner in air source heat pumps, and that is how they are measuring their success.",
          "his constituents will of course be eligible for support for energy efficiency measures through the green deal, but the renewable heat incentive will give them support for other mechanisms such as air source heat pumps, ground source heat pumps and solar thermal installations.",
          "we have put a lot of money into heat pumps and the heat and buildings strategy.",
          "a company in my constituency, forkers ltd, is in the vanguard of geothermal technology and heat pump products.",
          "stimulating a home-grown heat pump industry similar to our natural gas boiler industry, which produces 90% of all gas boilers in this country, will increase supply and bring down costs for consumers.",
          "with the renewable heat incentive and the green deal, it will be important that people who are off-grid think about other options rather than being reliant on heating oil, such as ground source heat pumps and biomass, which can already be cheaper than on-grid options.",
          "if we are to charge up all those electric cars and power all those air source heat pumps, we will need an awful lot of electricity at peak times.",
          "the office of climate change, which was established only a year or so back, looked at the issue of heat for one of its first projects—not just renewable heat and, for example, heat pumps, but the more general issue of how we can use the heat from power stations, for instance.",
          "member’s first point, absolutely, we remain committed to delivering, developing and rolling out heat pumps across the country, and we remain committed to the targets we have set out.",
          "during the summer recess, when i was touring villages, i found in my corner of devon that some constituents are worried about whether they should replace their oil-fired boiler in the next couple of years with a heat pump or put their faith in hydro-treated vegetable oil.",
          "when we talk about planning new homes, we should be mandating that every new home has an electric charge point and a heat pump.",
          "it would, for example, be perfectly feasible to expand the use of electric vehicles and plug-in hybrid electric vehicles, extend the electrification of railways, make greater use of electricity-powered heat pumps, and so on.",
          "we are not saying that the scheme will provide a heat pump for every house; it will kick-start the market.",
          "to that end, i urge the government to examine alternative ways of heating homes, such as heat pumps and microgeneration technologies, that are more fuel-efficient and thus not as affected as oil by fluctuations in fuel prices.",
          "the performance standards in the uplift have been set in such a way as to ensure that the vast majority of developers will either need to put solar panels on new homes or use other low-carbon technology such as heat pumps.",
          "or should we put 100% of our efforts into heat pumps?",
          "in maintaining the public commitment to net zero, it was important to say to people in my rural east yorkshire constituency, for example, who are off the gas grid and fearful concerning heat pumps, that they would not see their boilers ripped out when they did not think there was an affordable and deliverable alternative.",
          "even if we assume that a number of heat pumps will be otherwise installed in new build properties—this scheme is predominantly about existing properties that can be retrofitted with heat pumps—we can see just how far from the stated ambition this scheme leaves us over this period.",
          "for things to take off, the products—the heat pumps and the electric cars—will have to be much more popular.",
          "what guarantee can the minister provide that the government will use taxpayers’ money to invest in heat pumps made in britain, creating jobs here in britain and supporting british business?",
          "rather than installing an expensive heat pump, they might find it more suitable to have a hybrid or cocktail of alternative energy sources, such as biomass boilers, which are eligible for the government’s renewable heat incentive—",
          "i am not kicking against the scheme as it stands, because it is good that we have some underwriting for heat pumps, but it is woefully inadequate for the task that we have ahead of us.",
          "do i choose solar, ground source, air source, water source, heat pumps, photovoltaic or biomass?",
          "if this government were so worried about the affordability of climate measures, why were they offering less support than the scottish government for heat pump installation, and why do they keep cancelling successive home insulation schemes?",
          null
         ],
         "marker": {
          "color": "#CFD8DC",
          "opacity": 0.5,
          "size": 5
         },
         "mode": "markers+text",
         "name": "other",
         "showlegend": false,
         "type": "scattergl",
         "x": [
          -3.70964,
          -4.7858586,
          -6.5403924,
          0.27482182,
          -4.1234627,
          -0.4091907,
          -3.8828216,
          -5.283463,
          -3.3026316,
          -5.2888637,
          -4.5457563,
          -3.6898477,
          -5.7542305,
          -1.5480118,
          -2.3124518,
          -5.3527746,
          -4.4798775,
          -4.1507792,
          -5.1250653,
          -3.8519964,
          -2.4699597,
          -2.3774128,
          -3.8727143,
          -4.789761,
          -4.621206,
          2.4443152,
          -3.0499294,
          -0.89640415,
          -4.1875105,
          -2.235919,
          -5.1087723,
          -3.0102687,
          -4.5835958,
          0.3349378,
          -3.8486745,
          -5.07129,
          -2.4071908,
          -5.084891,
          -3.265395,
          -4.6526575,
          -1.512709,
          0.37763032,
          -1.4785659,
          -5.0250235,
          -5.5703554,
          -3.6346645,
          -4.496669,
          -4.0595,
          -2.9424193,
          -4.624925,
          -0.44453725,
          -5.132377,
          2.422715,
          -3.6243527,
          -0.9711844,
          -5.1073637,
          -3.3671265,
          -4.527231,
          -2.6755261,
          -4.26909,
          -3.534164,
          -5.1507077,
          -4.9789596,
          -2.2264593,
          -4.4685903,
          -5.5314846,
          -4.574292,
          -3.2889884,
          -2.0618849,
          -2.1381571,
          -5.08601,
          -4.627694,
          2.4238183,
          -5.55289,
          -3.2887118,
          -4.620694,
          -4.8136063,
          -4.5373764,
          -4.549088,
          -3.6639128,
          -4.0611877,
          -4.4995284,
          0.4020722,
          -2.2237778,
          -3.941995,
          -4.5556903,
          -1.7710224,
          -3.6339598,
          2.4083395,
          -3.5118294,
          -3.7232466,
          2.4328504,
          -5.7305517,
          -5.0010505,
          -2.2850542,
          -4.24173,
          -3.5363963,
          -1.769003,
          0.3413354,
          -4.440204,
          -2.2023103,
          -4.566381,
          -1.2419244,
          -3.6465676,
          -2.1511486,
          -0.21992198,
          -1.8885125,
          -5.372722,
          -2.9202104,
          -3.8943217,
          -2.6063478,
          -4.0918274,
          2.4327703,
          -3.855512,
          -3.0558064,
          -3.3287535,
          -5.2026052,
          -3.1051252,
          -2.884981,
          0.38884377,
          -4.705491,
          -3.7452016,
          -4.5453887,
          -1.8126291,
          -5.5230784,
          -1.7853668,
          -4.416338,
          -2.1660583,
          -3.7687423,
          -4.7294154,
          -4.0365334,
          -1.7598318,
          -2.3868628,
          0.32067043,
          -3.9846728,
          -3.7290056,
          -2.1031787,
          -4.612787,
          -1.8039799,
          -3.5112936,
          -4.337283,
          -5.687179,
          -4.341858,
          -3.4176383,
          -4.62835,
          -0.8678619,
          -5.045711,
          -3.476538,
          -3.6609669,
          -3.7030263,
          -2.675957,
          -4.5985594,
          -3.0712154,
          -3.7300792,
          -1.0013965,
          -3.9608767,
          -4.045001,
          -5.245933,
          -3.7726953,
          -4.8347526,
          -4.1965094,
          -4.7955065,
          2.4456413,
          -4.3607116,
          -5.447066,
          -5.6564794,
          -1.6460937,
          -4.583501,
          -3.0345519,
          -3.7944994,
          -4.125067,
          -5.8321586,
          -3.5594811,
          0.3871391,
          -3.7513256,
          -2.177387,
          -5.0842,
          -2.631329,
          -5.1288724,
          -2.7860093,
          -5.7724266,
          -3.7206268,
          -5.2927017,
          -5.3160257,
          -1.7698877,
          -5.7813334,
          -4.2997274,
          -3.4553308,
          -2.7328382,
          -5.1765466,
          -4.604961,
          -4.462775,
          -5.563365,
          -3.5159075,
          -3.3036907,
          -4.4330907,
          -0.13817154,
          -3.3571968,
          -3.3720574
         ],
         "y": [
          6.8785195,
          4.6581774,
          3.6469998,
          6.0739174,
          6.151691,
          6.510678,
          2.1356647,
          5.205864,
          5.708504,
          5.6323485,
          4.43369,
          4.6526055,
          4.7793393,
          8.01084,
          4.613245,
          4.781137,
          8.222161,
          4.939231,
          5.1334186,
          4.7238874,
          7.5106544,
          6.423651,
          7.368606,
          6.711671,
          4.6397734,
          6.2600207,
          4.683478,
          6.943464,
          4.028972,
          4.875989,
          4.267304,
          7.558893,
          5.5218163,
          6.1487675,
          6.456171,
          6.1847057,
          4.498582,
          5.049519,
          4.200519,
          6.802909,
          7.310863,
          6.147732,
          7.386869,
          5.0046663,
          5.536455,
          4.1508327,
          8.227577,
          4.816495,
          7.678325,
          5.2543793,
          6.4212704,
          3.12092,
          6.243671,
          4.632551,
          6.029184,
          5.0951157,
          5.7718844,
          6.0600376,
          5.686302,
          5.997204,
          5.186606,
          6.2715025,
          6.357683,
          4.87299,
          8.24066,
          5.5375223,
          4.3690605,
          3.1561794,
          5.8687387,
          6.0063577,
          5.1193094,
          4.2959285,
          6.239045,
          5.51209,
          3.3096182,
          4.8467364,
          6.3944845,
          6.0097075,
          7.0076904,
          4.930727,
          3.106217,
          8.2259865,
          6.187765,
          4.937939,
          5.0235353,
          4.8813996,
          5.2991815,
          6.1078,
          6.230237,
          4.7015567,
          7.848197,
          6.252798,
          5.8912973,
          4.0508385,
          6.392336,
          4.060285,
          7.308683,
          5.2636,
          6.1423445,
          7.127413,
          4.8582273,
          6.046607,
          5.2911706,
          5.376602,
          4.9020557,
          6.3980765,
          7.5386734,
          4.746244,
          5.087089,
          5.499359,
          5.148082,
          3.5616937,
          6.2579255,
          6.7273145,
          7.094776,
          6.9378505,
          5.8279424,
          6.3818245,
          6.011402,
          6.1462727,
          6.4016633,
          7.4863143,
          5.9722614,
          5.8617463,
          5.5206957,
          5.854826,
          4.8975463,
          5.7041206,
          6.2811565,
          5.717599,
          2.939348,
          5.302014,
          6.969456,
          6.1098967,
          6.69773,
          4.2223296,
          6.1440053,
          3.9507687,
          5.849976,
          5.2023644,
          5.852176,
          5.925196,
          4.073425,
          5.179824,
          5.36419,
          5.9093127,
          6.179502,
          4.2813745,
          5.4086485,
          5.6767526,
          5.0253267,
          4.364297,
          7.6957965,
          5.3906355,
          6.011201,
          3.6713123,
          3.7434533,
          5.674475,
          7.4447117,
          5.785686,
          7.1427236,
          6.7003775,
          6.2654047,
          4.0372705,
          6.6259794,
          4.751399,
          7.0617647,
          5.4060493,
          5.002934,
          6.397571,
          4.084205,
          4.789131,
          5.3039637,
          6.1567388,
          7.846753,
          4.8888693,
          4.2535434,
          5.1325407,
          5.876544,
          6.502929,
          4.7392683,
          4.985887,
          4.2482395,
          6.5714655,
          7.3210893,
          4.7652936,
          5.1000123,
          5.3144894,
          5.9801903,
          4.28994,
          4.354294,
          5.7351494,
          4.913121,
          4.0066376,
          6.251538,
          5.677321,
          6.3661795,
          4.163819,
          5.6099224
         ]
        },
        {
         "hoverinfo": "text",
         "hovertext": [
          "it will mean better insulation in homes; transport initiatives; using waste heat from an underground station as part of a district heating scheme; using waste heat from a stepped down transformer owned by the national grid to heat a school and neighbouring properties; and installing a heat pump in a community centre to meet the passive house standard.",
          "we are also developing a pilot for the inclusion of air source heat pumps to be fitted under the warm front scheme.",
          "there are also ground source heat pumps.",
          "friend examined the advantages of ground and air heat pumps?",
          "there are also ground source heat pumps.",
          "in a second case, a developer charges astronomical fees for the maintenance of a shared ground source heat pump, but keeps the renewable heat incentive payment, paid by the government, to himself, in his own, separate company.",
          "there are the mysterious-sounding ground source heat pumps, too.",
          "ground source heat pumps have a particular place in new social housing schemes.",
          "gentleman referred to many of the technologies, including ground-source heat pumps, that could make a difference in that respect.",
          "member for truro and falmouth (sarah newton) promoted ground source heat pumps, which are made in her constituency.",
          "i have one development in which the developer retained the ground source heat pump to be used by the rest of the houses in a separate company.",
          "however, there are some drawbacks to air source heat pumps in particular, and that technology is not right for everyone.",
          "the focus must undoubtedly be on investment in heat pumps—air and ground—for domestic use.",
          "in rural properties off the gas grid, we are now undertaking a small-scale trial of air-source heat pumps.",
          "ground heat pumps are manufactured in my constituency and, using the cert programme and working with social housing providers around the country, they have lifted many people out of fuel poverty.",
          "every single one of those properties has a ground source heat pump, photovoltaics on the roof and an electric vehicle charger on the drive.",
          "we are considerably behind certain other countries in developing ground source heat pumps and geothermal techniques, for example.",
          "the geothermal project at rosemanowes, near penryn, has spawned a number of developments involving ground source heat pumps and deep geothermal, which i believe will be a significant driver of low-carbon technologies into the future.",
          "ground source heat pumps are obviously a viable technology for new build.",
          "it has been well proven that ground source heat pumps are a far more efficient way of producing energy over time than air source pumps.",
          "ground source heat pumps have a particular place in new social housing schemes.",
          "the doors open on to the street, so where exactly would they put a heat pump?",
          "for example, we recently undertook trials on solar thermal systems, and are currently looking at air-source heat pumps and solid wall insulation.",
          "in one example in my constituency, a developer installed a ground source heat pump to provide all the heating and hot water for a barn conversion development that involved several houses in the same set of barns.",
          "would he be interested in a variation of the heat incentive, perhaps on an accelerated time scale, which might encourage the use of ground source heat pumps in such buildings?",
          "however, people find it difficult to know how to engage with that process and whether to choose air or water source heat pumps, or where to get them from.",
          "for example, for solid-wall homes, we are producing new programmes and pilots that will give us the option of using air source heat pumps.",
          "gentleman referred to many of the technologies, including ground-source heat pumps, that could make a difference in that respect.",
          "that is marvellous, and-to return to my ground heat pump manufacturers-they will be able to provide ground heat for businesses, hospitals and schools, as they do at the moment.",
          "we are very supportive of new technology, and i am well aware of the potential of ground source heat pumps.",
          "there are the mysterious-sounding ground source heat pumps, too.",
          "on the point of energy efficiency in comparison with sweden, i understand that there is considerable use of heat pumps-both ground source and air source heat pumps-in sweden.",
          "is it going to be air source heat pumps?",
          "why are we not subsidising ground source or air source heat pumps, as is happening in sweden, to make sure we have zero-carbon homes?",
          "nearby, at the former mine of mount wellington, is kensa engineering, an award-winning manufacturer of ground heat pumps that works with social housing providers across the country to deliver low-carbon energy and at the same time lift people out of fuel poverty.",
          "work carried out by national energy action has shown that installing air source heat pumps in homes off the gas main can cut heating bills by 75 per cent.",
          "the building will be powered solely by air source heat pumps and solar panels.",
          "it is generally available via shallow geothermal ground source heat pumps, which use the heat stored in the earth to generate electricity or provide heating.",
          "my local authority in greenwich is experimenting with air-source and ground-source heat pumps.",
          "we installed ground source heat pumps in council properties, starting in more rural areas that were off mains gas.",
          "he was building a zero carbon home in germany with a ground source heat pump.",
          "it has a heat pump that combines an air source heat pump with a ventilation unit to provide renewable heat and hot water to homes.",
          "cheltenham’s renewable design company supplies low-carbon heating systems, such as ground-source heat pumps.",
          null
         ],
         "marker": {
          "opacity": 0.5,
          "size": 5
         },
         "mode": "markers+text",
         "name": "0_ground_source_heat",
         "text": [
          "",
          "",
          "",
          "",
          "",
          "",
          "",
          "",
          "",
          "",
          "",
          "",
          "",
          "",
          "",
          "",
          "",
          "",
          "",
          "",
          "",
          "",
          "",
          "",
          "",
          "",
          "",
          "",
          "",
          "",
          "",
          "",
          "",
          "",
          "",
          "",
          "",
          "",
          "",
          "",
          "",
          "",
          "",
          "0_ground_source_heat"
         ],
         "textfont": {
          "size": 12
         },
         "type": "scattergl",
         "x": [
          -1.8263924,
          -3.3893209,
          -2.1691198,
          -2.6697824,
          -2.0916517,
          -1.5114535,
          -2.1114683,
          -1.8555628,
          -2.7230349,
          -2.0241961,
          -1.6843879,
          -3.798592,
          -2.7708015,
          -3.5522587,
          -2.265084,
          -1.5537515,
          -2.3090158,
          -2.2776308,
          -2.4395618,
          -2.5666723,
          -1.8328822,
          -1.8426543,
          -3.5059392,
          -1.7276167,
          -2.2321582,
          -3.618771,
          -3.5272818,
          -2.7737377,
          -2.2721393,
          -2.6493735,
          -1.9989475,
          -2.4386518,
          -3.4793243,
          -2.3323715,
          -2.2710013,
          -3.7210455,
          -3.4042768,
          -2.196813,
          -2.1576746,
          -1.8929746,
          -2.2566812,
          -3.4139922,
          -2.2022552,
          -2.4962397
         ],
         "y": [
          7.4380727,
          7.6735845,
          7.9644556,
          7.765452,
          8.050491,
          8.038623,
          8.135001,
          7.5469246,
          7.7621117,
          8.095331,
          7.9466176,
          7.2430882,
          7.8137383,
          7.475994,
          7.816597,
          7.6264243,
          7.9731607,
          7.9729047,
          7.8168077,
          7.666575,
          7.5096965,
          7.533983,
          7.1639466,
          7.904577,
          7.575525,
          7.4448404,
          7.5607133,
          7.7442603,
          7.907071,
          7.8687644,
          8.218072,
          7.52628,
          7.7947774,
          7.493854,
          7.828822,
          7.508017,
          7.70385,
          7.994822,
          8.079914,
          7.8133383,
          7.604546,
          7.712551,
          7.900001,
          7.7491674
         ]
        },
        {
         "hoverinfo": "text",
         "hovertext": [
          "unless no boilers are installed under the scheme, there will be quite a lot fewer than 30,000 heat pumps installed per year under the scheme.",
          "in 2021, approximately 60,000 heat pumps were installed in the uk, compared with 1.5 million gas boilers.",
          "while the government may have set the ambitious target of 600,000 installations of heat pumps per year by 2028, it will not be achieved unless they address the extortionate cost and impracticality of installation.",
          "that brings me to the target of 600,000 heat pump installations per year by 2028.",
          "the delivery of a target of 600,000 new heat pumps by 2028 requires significant resource; otherwise, only the very well-off will be able to afford the cost of both the heat pump and the additional insulation that most homes would need to make the pumps cost-effective.",
          "while there is a 10-point plan with a figure of 600,000 heat pump installations a year, this means nothing without a funded programme to back it up.",
          "where is westminster’s policy for scaling up heat pump production and installation to the 600,000 installations a year that the 10-point plan tells us are going to happen?",
          "the opportunities are immense, and the opportunity to reduce the cost to the consumer of heat pumps, electric vehicles and other green technology is also immense.",
          "our heat and buildings strategy set a clear ambition of working with industry to reduce heat pump costs by at least 25% to 50% by 2025, and to parity with gas boilers by 2030.",
          "the target for 600,000 annual heat pump installations by 2028 is welcome, in conjunction with both energy efficiency measures and obvious job creation.",
          "so we then have three years to get another 500,000 or so heat pumps installed by 2028-29.",
          "the government say that their target is for 600,000 heat pumps a year to be installed by 2028.",
          "the idea of the 600,000 figure, as i think he knows, is not that the government will come along in 2028 and provide 600,000 heat pumps per annum; the idea of the scheme for the next three years is to pump-prime the private sector to be able to provide the alternative that we need.",
          "that is 90,000 heat pumps installed under the scheme by the year 2025 so.",
          "i wonder whether the government are as confident as they make out that we can do so much better than those numbers, even assuming that we get near to 30,000 heat pumps in the scheme, from the same amount of money as the renewable heat incentive.",
          "that is one of our key aims, particularly if we are to get to 600,000 heat pumps per annum by 2028.",
          "the sector expects to install 67,000 heat pumps in 2021, which is up considerably from the 35,000 installed in 2019.",
          "we remain absolutely committed to our existing target of 600,000 homes per annum having a heat pump by 2028, and the scheme announced today shows that direction of travel.",
          "by fairly simple arithmetic, that translates—if we assume that the amount of grant per heat pump installation is £5,000—to about 30,000 heat pumps per year for those three years.",
          "it will get us nowhere near the target figure that i mentioned, and i think we should at least quadruple the scheme to get us on a trajectory that will actually get us to the 600,000 heat pump installations we have been talking about.",
          "york wants 73,000 heat pumps and 22,000 new connections to sustainable district heat systems, and we have 44,100 homes that need retrofitting and 24,000 that need microgeneration through solar energy—all by 2040.",
          "members will bear in mind a very important figure that the minister mentioned: 600,000 heat pumps to be installed a year by 2028.",
          "lady underestimates our commitment, because it is not 600,000 new heat pumps, but 600,000 new heat pumps per annum by 2028.",
          "reducing emissions in the heat sector is vital to decarbonising our economy, and the government have set an ambitious target of installing 600,000 heat pumps a year by 2028.",
          "we have been speaking a lot about supply, and that is fantastic, but if we want to be a clean energy superpower, we need to focus on our ability to reduce demand through energy efficiency measures such as heat pumps, and through understanding that we can reduce our gas demand, which is at the mercy of foreign petrostates and international markets, by up to 40%.",
          "the government’s 10-point plan has set out ambitions for what we can achieve in the next 10 years; 600,000 heat pumps by 2028 is a great target, but we need to focus on wider ambitions, including expanding hydrogen supply.",
          "that is why we are taking a range of steps to grow the heat pump market to 600,000 installations a year by 2028, and to make installing a heat pump a more attractive and affordable choice for heating a home.",
          "gentleman to the 10-point plan, which sets out clearly the progress that we want to make on decarbonising buildings and homes, and heat pumps will of course play a part.",
          "we will also build the market for low-carbon heat pumps to 600,000 installations a year by 2028, and accelerate the transition to ultra-efficient electric heat pumps to reduce our reliance on the volatile global gas market and improve our own energy security in return.",
          "for example, a target of 600,000 heat pump installations per year is useless without a credible, funded programme.",
          "by the end of 2007, the uk had installed approximately 1,000 heat pumps, while germany installed 44,000 heat pumps in 2006 alone.",
          "the government said there would be extra money for heat pumps for 600,000 homes a year, but no—money has been allocated for just 30,000 a year.",
          "according to the government’s own target, we need 600,000 homes a year to be installing heat pumps by 2028, but the government are funding just 30,000 a year, helping just one in 250 households on the gas grid.",
          "it seems a bit strange that that is being heralded as a flagship policy when it appears that only 30,000 heat pumps a year will be subsidised through the policy, and for only three years.",
          "the interesting figures for installations in 2019-20 under the rhi were 10,400 air source heat pumps, 1,175 ground source heat pumps, and small numbers of biomass boilers and solar thermal systems—in other words, 11,500 heat pumps from a similar level of funding.",
          "as he has pointed out, the prime minister’s 10-point plan for a green industrial revolution sets an ambition to grow the market to 600,000 heat pump installations per annum by 2028.",
          "given that the government’s target is to install 600,000 heat pumps per year later this decade, that is clearly nowhere near enough.",
          "however, that is what we have in the pot over the next three years for the installation of heat pumps.",
          null
         ],
         "marker": {
          "opacity": 0.5,
          "size": 5
         },
         "mode": "markers+text",
         "name": "1_600000_year_2028",
         "text": [
          "",
          "",
          "",
          "",
          "",
          "",
          "",
          "",
          "",
          "",
          "",
          "",
          "",
          "",
          "",
          "",
          "",
          "",
          "",
          "",
          "",
          "",
          "",
          "",
          "",
          "",
          "",
          "",
          "",
          "",
          "",
          "",
          "",
          "",
          "",
          "",
          "",
          "",
          "1_600000_year_2028"
         ],
         "textfont": {
          "size": 12
         },
         "type": "scattergl",
         "x": [
          -6.477429,
          -6.526064,
          -6.2863116,
          -6.2434335,
          -6.4733577,
          -6.4310613,
          -5.8463616,
          -5.455289,
          -5.499644,
          -6.224375,
          -6.181821,
          -6.249426,
          -6.074597,
          -6.294776,
          -6.0091047,
          -5.5179496,
          -6.544117,
          -5.8117156,
          -6.4291906,
          -6.2163343,
          -6.631424,
          -6.3329854,
          -6.2390313,
          -5.4249673,
          -5.5703263,
          -5.648482,
          -6.566068,
          -5.573641,
          -5.565323,
          -6.4293327,
          -6.529592,
          -6.5615664,
          -6.6231203,
          -6.2425156,
          -6.6931424,
          -5.7469726,
          -6.397043,
          -5.7157273,
          -6.1390433
         ],
         "y": [
          3.8357546,
          3.6653175,
          4.4431825,
          4.216893,
          4.262383,
          4.3278084,
          3.8816736,
          4.5997143,
          4.55556,
          4.1886835,
          4.305472,
          4.128309,
          4.255444,
          3.9876115,
          4.50191,
          4.2197475,
          3.9507427,
          4.141514,
          3.9545336,
          4.323154,
          4.1708574,
          4.0106907,
          4.284883,
          4.5320354,
          4.5376825,
          4.0964646,
          4.167967,
          4.0832267,
          4.5374713,
          4.370409,
          3.659818,
          4.108046,
          4.169989,
          4.33874,
          3.8991854,
          3.9806805,
          4.4059253,
          4.539359,
          4.201022
         ]
        },
        {
         "hoverinfo": "text",
         "hovertext": [
          "to complete the list of methods of microgeneration, we have heat pumps, solar thermal and micro-hydroelectric.",
          "one of the issues in today's bill is general permitted development orders relating to micro wind and heat pumps, which i would have anticipated might have been sorted out by now.",
          "the act removed much of the hassle involved in installing solar thermal or photovoltaic technologies in domestic premises, but it did not extend to micro wind installations or air source heat pumps.",
          "they can deliver both renewable electricity, through micro-wind, photovoltaics and micro-hydro generation, and renewable heat through heat pumps, biomass and hopefully in future micro fuel cells.",
          "if, for whatever reason, the renewable heat incentive is abandoned-a process that i suspect is under way at the moment-the ability of homes to install equipment vital for long-term energy efficiency, such as solar thermal devices, or ground source or air source heat pumps, will be severely undermined.",
          "what we have not been able to do to date is include, within the fold of permitted development, the issue of micro wind turbines and air source heat pumps.",
          "we have some issues to resolve in relation to noise, particularly on micro-wind and air source heat pumps.",
          "it is likely that a wind turbine or an air source heat pump will be quiet and not vibrate much when it is first installed; the big problem is whether there will be high-quality maintenance.",
          "micro wind turbines and air source heat pumps have a big role to play in contributing to the generation of green energy.",
          "david brown engineering in lockwood make the gears for offshore wind turbines and is very appreciative of a £2 million investment from the regional growth fund for a research centre there; tev ltd in brighouse is investing in air source heat pumps; and the then conservative-run kirklees council introduced the warm zone scheme.",
          "the bill contains a number of small measures: changes to permitted development rights for air-source heat pumps and micro-wind turbines, the inclusion of small-scale combined heat and power in the definition of green energy, the extension of permitted development rights for microgeneration to non-domestic land, and a timetable for a revised and up-to-date microgeneration strategy that includes raising the capacity limit for microgenerated thermal from 45 kw to 300 kw, which may help significantly with the development of community-based heating schemes.",
          "it also increased the limited knowledge of the small-scale renewable and low-carbon technologies that existed at the time, such as ground source heat pumps, solar photovoltaics, solar thermal and micro-wind turbines.",
          "we were quite clear in the past that we were talking about individual homes having a small wind turbine, or a ground source heat pump or something like that, but now, with the move to feed-in tariffs, we are, at 5 mw, talking about something far more substantial.",
          "that is why when the government extended permitted development rights for many microgeneration technologies last year, further time was taken on micro wind and air source heat pumps in order to ensure that we got right issues such as noise and vibration and did everything possible to minimise the effect on neighbours so as not to attract negative publicity that would harm the cause of promoting greater microgeneration.",
          "i welcome the bill, especially its mention of heat pumps, which are a potential major contributor to energy efficiency, but it does not specifically mention solar thermal installations—heating water in houses from solar power, which is already worth while to install.",
          "friend made an important point, which was not much taken up on the liberal democrat benches, about the potential effect on neighbours of the installation of new micro wind turbines and air source heat pumps.",
          "there are obviously other forms of renewable energy, such as ground source heat pumps, solar, voltaics, wind turbines and district heating systems, which also have a role to play.",
          "he will know that the bill is about micro wind turbines and air source heat pumps.",
          "the limit that he mentioned is indeed the government's thinking in terms of the permitted development right for wind turbines and air source heat pumps.",
          "david brown engineering in lockwood make the gears for offshore wind turbines and is very appreciative of a £2 million investment from the regional growth fund for a research centre there, tev ltd in brighouse is investing in air source heat pumps, and the then conservative-run kirklees council introduced the warm zone scheme.",
          "we do not want windmills here just as much as i do not want them cluttering the landscape of bassetlaw, but there must be scope for solar energy, and not least for air source heat pumps, in the palace of westminster.",
          "the microgeneration proposals for dwelling houses and non-domestic land are intended to make it easier to install wind turbines—i call them windmills, because i am so old-fashioned—or air source heat pumps, and i am in favour of doing that.",
          "i do not believe that the bill just relates to wind turbines and air source heat pumps.",
          "permitted sound levels for air source heat pumps and small wind turbines have caused a great deal of confusion and anger in the industry, with some small entrepreneurial firms brought to the edge of bankruptcy by delays and confusion in decision making.",
          "the issues have resonance with voters because they can see the potential to deploy something in their homes, whether wind turbines, solar panels on their roofs or ground source heat pumps.",
          "gentleman mentioned; micro-wind turbines; ground source heat pumps; air source heat pumps; and micro-combined heat and power, to name but a few.",
          "those impediments have largely been removed in terms of solar thermal technology, but, for other important technologies such as micro wind and, particularly, air source heat pumps, which i believe will also make a substantial contribution to the 15 per cent.",
          "gentleman's comments, and he is an expert in this field, but the key point i made at the beginning of my speech is that energy efficiency has always been the poor relation and that all too often people leap to discuss other, perhaps more sexy, matters such as heat pumps, the renewables heat incentive or renewable energy.",
          "i very much welcome the fact that, this winter, the renewable heat incentive will be made available to commercial businesses and a limited number of consumers installing ground heat pumps and other sources of renewable heat.",
          "and learned friend urgently consider the inclusion of small-scale wind devices and air source heat pump devices in the terms of the general permitted development orders?",
          null
         ],
         "marker": {
          "opacity": 0.5,
          "size": 5
         },
         "mode": "markers+text",
         "name": "2_wind_turbines_air",
         "text": [
          "",
          "",
          "",
          "",
          "",
          "",
          "",
          "",
          "",
          "",
          "",
          "",
          "",
          "",
          "",
          "",
          "",
          "",
          "",
          "",
          "",
          "",
          "",
          "",
          "",
          "",
          "",
          "",
          "",
          "",
          "2_wind_turbines_air"
         ],
         "textfont": {
          "size": 12
         },
         "type": "scattergl",
         "x": [
          0.36870536,
          -0.5554315,
          -1.390279,
          0.20639274,
          -1.9135855,
          -0.55966794,
          -0.90739626,
          -0.8951503,
          -0.30282608,
          -0.78818697,
          -0.51154053,
          -0.43723828,
          -1.0235777,
          -0.50530887,
          -2.1034243,
          -0.62728554,
          -0.28917456,
          -0.82387304,
          -0.67606604,
          -0.74938667,
          -0.5938432,
          -0.5017444,
          -0.76719457,
          -0.82098204,
          -0.69983983,
          -0.35659957,
          -1.7498771,
          -1.9013819,
          -1.9073383,
          -0.61594546,
          -0.81330174
         ],
         "y": [
          6.1400433,
          5.8785987,
          5.6406856,
          6.1866,
          5.825891,
          5.7917976,
          6.932259,
          6.914038,
          6.1019917,
          6.0001884,
          5.6970434,
          6.338156,
          5.465142,
          5.784035,
          5.6700583,
          5.5988197,
          6.2952347,
          5.4823794,
          5.6892085,
          6.087288,
          5.7861524,
          5.7635803,
          5.5431185,
          6.65099,
          5.509463,
          6.350825,
          5.3260245,
          5.248797,
          5.909147,
          5.8654404,
          5.9157662
         ]
        },
        {
         "hoverinfo": "text",
         "hovertext": [
          "if that was to be replaced with a ground-source heat pump, that would cost in excess of £750,000.",
          "we need a serious delivery body to deliver adequate insulation for every building in britain; serious funding for the sector; a mass apprenticeship programme; a stellar leap in decarbonisation, involving district heat and power, heat pumps and hydrogen; and an annual target for a reduction in household energy bills and real-terms carbon emission reductions.",
          "bankers without boundaries has been working with the uk cities climate investment commission on green neighbourhood funding models that combine the opportunity to retrofit housing—putting in the insulation that many very poorly insulated houses require—with the installation of heat pumps and other work on a community basis, while also considering ways to make the step change in recycling that the government are trying to accomplish, so that we can make a big step forward on the circular economy.",
          "we have heard that the overall install cost of a heat pump system is roughly £15,000.",
          "under our proposed tariffs, the installation of a ground source heat pump in an average semi-detached house with adequate insulation would be rewarded with £1,000 a year, and lead to savings of £200 a year if used instead of heating oil.",
          "we should encourage british-based companies through big tax breaks, rather than continuing to import heat pumps from abroad and filling the pockets of chinese companies.",
          "obviously, £450 million for heat pumps across england and wales is a good thing, but it is set to benefit only 0.3% of welsh households, while the future generations commissioner calculates that the cost of decarbonising wales’s housing stock stands at £14.75 billion.",
          "with the uk target of reaching net zero by 2050 in mind, the government are pursuing a heat pump-led approach to secure energy independence for the uk.",
          "what we saw yesterday was £7 billion from iberdrola for uk electricity networks and renewables, and £300 million from aira, the heat pump installer.",
          "a heat pump can cost between £5,000 and £15,000.",
          "i have to say that retrofitting was expensive, because we were not just fitting heat pumps, but fully insulating homes.",
          "it may be cheaper in the long run, but a £7,800 heat pump will take 15 years to pay for itself, and solar panels that cost £4,500 will take 37 years.",
          "that is why we are investing £30 million in the heat pump investment accelerator, which will bring forward investment in heat pump supply chains and aim to ensure that at least 300,000 heat pumps are manufactured annually here in the uk by the end of the decade.",
          "for example, a report just this week shows that a major programme of insulating homes in britain and installing heat pumps could benefit the economy by £7 billion a year, create 140,000 jobs by 2030, get our fuel bills down and get climate emissions down too.",
          "although the initial amount of money available through the green deal-about £6,000-is a good start, i would appreciate it if, over time, ministers considered increasing the amount of money that could be made available for the green deal to take into consideration the considerable costs of insulating solid wall properties and putting in ground source heat pumps.",
          "one of the hurdles that families face when they look at putting in a heat pump or investing in home insulation is that they cannot afford the up-front costs to get the long-term gains.",
          "ambitious investment in insulation and heat pumps through a retrofit revolution, alongside meaningful direct financial support for struggling households, is the first step.",
          "we are providing an extra £1 billion for energy efficiency upgrades through the new great british insulation scheme, and we are investing to speed up the market for heat pump installation to decarbonise home heating and leverage up to £300 million of overall funding, including private funding.",
          "indeed, we have enormous challenges on decarbonising heat in the uk, be it hydrogen, heat pumps or heat networks, since we have so much progress to make and so little finance earmarked to make that transition.",
          "how much would it cost to put in an air source heat pump and all the necessary insulation to make it effective in the way that the chief secretary described?",
          "the cost of installing a low-carbon heat pump is around four times more expensive than a replacement boiler.",
          "it is estimated to cost £20,000 to invest in heat pumps and so on to make a house energy-efficient.",
          "furthermore, we have introduced £860 million to support a range of renewable heat technologies that will be significant for our future, including air source heat pumps and ground source heat pumps.",
          "the average cost of installing a low-carbon heating system such as a heat pump is estimated to be between £15,000 and £30,000.",
          "the transition to hydrotreated vegetable oil is far cheaper than heat pumps; we are talking about a conversion that be done in an hour for about £500.",
          "the council has also recently secured £1.7 million from the government to install heat pumps and solar panels at local swimming pools—a measure that will reduce emissions from the council’s biggest source of energy.",
          "perhaps, more important than anything, the capital cost of these air source or ground source heat pumps for a single property is around four times that of a conventional boiler.",
          "as the prime minister announced, we combined that with a 50% increase in the heat pump subsidy level to £7,500, and we saw a tripling of interest in the following week.",
          "that would enable people to transfer to the use of hydrotreated vegetable oil at a fraction of the cost of a heat pump and associated works—we are talking hundreds of pounds to convert, rather than tens of thousands of pounds for the alternative.",
          null
         ],
         "marker": {
          "opacity": 0.5,
          "size": 5
         },
         "mode": "markers+text",
         "name": "3_cost_heat_pump",
         "text": [
          "",
          "",
          "",
          "",
          "",
          "",
          "",
          "",
          "",
          "",
          "",
          "",
          "",
          "",
          "",
          "",
          "",
          "",
          "",
          "",
          "",
          "",
          "",
          "",
          "",
          "",
          "",
          "",
          "",
          "3_cost_heat_pump"
         ],
         "textfont": {
          "size": 12
         },
         "type": "scattergl",
         "x": [
          -5.2398214,
          -4.151831,
          -4.17124,
          -5.2292104,
          -5.191298,
          -3.932913,
          -4.7242255,
          -4.442184,
          -4.897756,
          -5.223821,
          -4.5380325,
          -5.2146974,
          -4.8503323,
          -4.1867905,
          -4.3056297,
          -4.533021,
          -4.433715,
          -4.316401,
          -4.193856,
          -5.2473006,
          -5.2983036,
          -5.042651,
          -4.8316803,
          -5.2706447,
          -5.1513987,
          -4.461379,
          -5.4446607,
          -4.1372676,
          -5.1419888,
          -4.7518635
         ],
         "y": [
          2.4755251,
          3.532954,
          3.3758087,
          2.506461,
          2.5322118,
          3.8151703,
          2.8331728,
          4.2155128,
          2.9584274,
          2.5199208,
          3.3251858,
          2.5294273,
          3.1732883,
          3.4080954,
          3.0561419,
          3.2448487,
          3.2291377,
          3.0848022,
          3.7981474,
          2.5021126,
          2.5929956,
          2.6831083,
          3.1377523,
          2.4725296,
          2.5952287,
          2.7441192,
          2.8085437,
          2.8416843,
          2.6279063,
          2.9869037
         ]
        },
        {
         "hoverinfo": "text",
         "hovertext": [
          "we all have constituents who can barely pay their gas bill at the moment, and we cannot ask them to pay for the cost of a heat pump, even with one of the government’s 90,000 grants.",
          "i welcome the move to phase out gas boilers, but we know that heat pumps are not perfect, that the grants are not sufficient and that they are only part of the answer without proper investment in home insultation.",
          "that is why we strongly believe that the announcement that we made today on the grants of up to £5,000 will kickstart the private sector in providing these heat pumps.",
          "the government offer grants of £7,500 to those wanting to install a heat pump, or £5,000 to install a biomass boiler, under the boiler upgrade scheme.",
          "some companies have said that they welcome the government grant scheme that is coming in and believe it is enough to allow them to bring down the cost of heat pumps to greater equivalence with conventional heating systems over that time.",
          "with regard to support, as announced in our heat and building strategy last year, the government are launching a new £450 million boiler upgrade scheme, providing upfront grants of up to £6,000 to install heat pumps.",
          "it is only that, as a result of £5,000 grants, we will apparently get far more heat pumps.",
          "we are supporting off-grid homes to transition to heat pumps or biomass boilers through the boiler upgrade scheme, with grants of up to £7,500.",
          "that will provide grants for all homeowners towards the cost of heat pumps from 2022.",
          "however, for some, those increased grants will not go far enough in making the cost of heat pump installation workable.",
          "grants of £5,000 will be provided for air source heat pumps and biomass boilers, and of £6,000 for ground source heat pumps.",
          "we will gradually move away from fossil fuel heating and improve the energy performance of our buildings through measures such as grants of up to £5,000 towards the costs of heat pumps, a further £800 million for the social housing decarbonisation fund to upgrade social housing, and a further £950 million for a home upgrade grant scheme to improve and decarbonise low-income homes off the gas grid.",
          "member for orkney and shetland (mr carmichael) said, receive a grant, if they are lucky, purchase the heat pump, if it is available, and have it installed, by which time they may have suffered without heating during the coldest months of the year.",
          "i welcome the fact that the government are consulting on increasing the grants available for heat pumps in certain homes, as announced last week.",
          "that would guarantee payments for those who install technologies, such as ground source heat pumps, air source heat pumps and biomass boilers.",
          "i have many constituents, as all members have, who are struggling to pay the gas bill at the moment, let alone face the prospect of paying between £6,000 and £15,000 for a new heat pump, notwithstanding the grants that the minister has announced today or the hope, which we all share, that the cost of heat pumps will fall.",
          "the boiler upgrade scheme will succeed that scheme, providing capital grants to support the installation of heat pumps and biomass boilers in homes and small non-domestic buildings in england and wales.",
          "my constituent margaret beveridge, a pensioner, took out a £20,000 loan for a ground source heat pump on the understanding that there would be a seven-year payback grant from ofgem, which it has now withdrawn following an audit.",
          "many small-scale renewables, such as heat pumps, are very expensive and therefore outwith the reach of many people, even with the grants that are available.",
          "ground source heat pumps were eligible for a £1,200 grant.",
          "while i welcome the grants of up to £5,000 that the government are making available for boiler replacement, as the secretary of state will know, a heat pump will cost £8,000 to £15,000, so many of our constituents would not be able to afford it even with that grant, and 90,000 such grants do not constitute a plan to decarbonise the 23 million homes in this country that have gas boilers.",
          "back in october, the government announced plans for £5,000 grants to help install heat pumps in homes.",
          "the government’s latest scheme offers households grants of between £5,000 and £6,000 for low-carbon heating systems such as heat pumps—kind, well-meaning and hopelessly inappropriate.",
          "even with a £5,000 grant, that is still out of reach for the vast majority of working people, and those who can afford them will be forced to rely on expensive alternative heating arrangements because heat pumps provide only background heat.",
          null
         ],
         "marker": {
          "opacity": 0.5,
          "size": 5
         },
         "mode": "markers+text",
         "name": "4_grants_5000_grant",
         "text": [
          "",
          "",
          "",
          "",
          "",
          "",
          "",
          "",
          "",
          "",
          "",
          "",
          "",
          "",
          "",
          "",
          "",
          "",
          "",
          "",
          "",
          "",
          "",
          "",
          "4_grants_5000_grant"
         ],
         "textfont": {
          "size": 12
         },
         "type": "scattergl",
         "x": [
          -3.2843785,
          -3.5133529,
          -3.853978,
          -3.722151,
          -3.5059662,
          -3.6863394,
          -3.8483336,
          -3.7071517,
          -3.4155574,
          -3.355085,
          -3.7762346,
          -3.6783,
          -3.6816528,
          -3.479338,
          -3.3855693,
          -3.5081508,
          -3.6577873,
          -3.765622,
          -3.1700804,
          -3.73974,
          -3.6321416,
          -3.5735893,
          -3.643903,
          -3.6449423,
          -3.5928895
         ],
         "y": [
          2.7731822,
          2.437703,
          2.6757333,
          2.1201901,
          2.5576324,
          2.122895,
          2.6204216,
          2.1328068,
          2.5577981,
          2.6093812,
          2.2500257,
          2.2866387,
          2.826203,
          2.584578,
          2.4903133,
          2.8024004,
          2.102135,
          2.5377343,
          2.7088523,
          2.435,
          2.3012505,
          2.3808224,
          2.2170873,
          2.4474378,
          2.4574258
         ]
        },
        {
         "hoverinfo": "text",
         "hovertext": [
          "i have said this to the minster before, and i say it again: legally binding targets leave the government open to legal challenges on every piece of sensible legislation that they try to bring through this house, whether it be to alleviate the burden placed on people by their heating bills by changing the policy on heat pumps, or to reduce the impact on travel costs by not having mandatory targets for electric vehicles; i could go through a whole list of policies.",
          "will the government therefore extend their ambition and link the programme for adequate insulation with adequate funding for heat pumps, such that more people than just the very well-off will be able to deliver the changes according to the government’s strategy?",
          "i would be very grateful if ministers would urgently review the consultation process and look at the tariff for small air source heat pumps.",
          "there is potentially a huge number of good green jobs for young people to go into, such as retrofitting homes, installing heat pumps and restoring wetlands, but many young people do not know these jobs exist, let alone the pathways to get into them.",
          "the government have already made progress on that and granted householders permitted development rights for technologies such as solar panels and ground source heat pumps.",
          "friend, as well as debating the vitally important issue of climate change, also took the opportunity to discuss any innovative opportunities presented to our country—and particularly to john lightfoot in my constituency, an innovative producer of air-sourced heat pumps that reduce co2 emissions.",
          "so will the minister subject his assumptions on his heat pump strategy to a comprehensive audit of the price of renewable electricity?",
          "as we saw in the prime minister’s rolling back on heat pumps and electric vehicles—a further weaponisation of the climate emergency—that is not on the agenda of this fag end tory government.",
          "woodham academy is doing everything it can to ensure that the building is green from the ground up, with heat pumps and photovoltaic panels to reduce the carbon impact.",
          "the planning rules will mean that councils and developers should consider using items such as solar panels, wind turbines and heat pumps that can generate energy from a site of new development.",
          "can the minister tell the house whether the government’s anticipated heat and building strategy will include a pathway for reaching that target, including measures to make heat pumps more affordable for working households?",
          "they provide the essential learning that will be needed, including designing, installing and maintaining heat pumps, solar panels, wind turbines, electric cars and better insulation; and rewilding our natural spaces.",
          "the government are talking about a roll-out of heat pumps, and again that is welcome, but these need to be targeted, initially for homes off the gas grid.",
          "may i add to his comments the example of the arrowfield road estate in chorlton in my constituency, where southway housing is, alongside a new heat pumps programme, retrofitting the houses on the estate?",
          "there is a great deal of agreement between us this afternoon on a number of the issues that the minister raised about the role that heat pumps will play in the future low-carbon energy economy, including how many heat pumps we will need over the period.",
          "why does the minister’s plan on heat pumps fall so far short of what is required?",
          "will the minister consider issuing new guidance that makes clear both the costs and the benefits of switching to a heat pump?",
          "what work is being done to update these frameworks so that developers can be mandated to install measures such as solar panels or ground-source heat pumps and thereby reduce carbon emissions and, crucially, cut domestic energy bills?",
          "with regard to amendment 8, the powers in clause 142 relate only to the planned clean heat market mechanism, for which the government’s focus is on supporting the development of the market for electric heat pumps.",
          "there is an astonishing array of supporters of the new clause, including the house builders federation, the institution of civil engineers, the institution of mechanical engineers, the federation of master builders, the national farmers union, the wwf, the royal society for the protection of birds, the trades union congress, greenpeace, the country land and business association, the uk green building council, energywatch, the energy saving trust, the co-op group—which has clad its own headquarters in solar panels—sharp uk, solarcentury, national energy action, the solar trade association, the ground source heat pumps association, and interestingly enough, lily allen and the premises studios.",
          "i would be happy to hear from the minister if he has other plans to get us further up to date with heat pumps in the future, but at the moment that seems not to be the case.",
          "does the minister agree with me that it makes sense to help, support and incentivise people on low incomes and pensioner households to convert to heat pumps and to insulate their homes?",
          "i ask the minister to consider further the specific circumstances where assets such as sewage pumping equipment or a ground source heat pump are shared by everyone on the estate.",
          null
         ],
         "marker": {
          "opacity": 0.5,
          "size": 5
         },
         "mode": "markers+text",
         "name": "5_minister_pumps_heat",
         "text": [
          "",
          "",
          "",
          "",
          "",
          "",
          "",
          "",
          "",
          "",
          "",
          "",
          "",
          "",
          "",
          "",
          "",
          "",
          "",
          "",
          "",
          "",
          "",
          "5_minister_pumps_heat"
         ],
         "textfont": {
          "size": 12
         },
         "type": "scattergl",
         "x": [
          -3.3400683,
          -3.402038,
          -3.015178,
          -2.8489583,
          -2.7994118,
          -2.7106476,
          -2.7364614,
          -3.3327014,
          -2.449584,
          -2.6773791,
          -2.8276167,
          -2.5397685,
          -3.9418535,
          -2.7183352,
          -3.0970097,
          -3.1528203,
          -3.0354178,
          -2.6703327,
          -3.2638137,
          -2.194535,
          -3.2228339,
          -2.6053271,
          -2.512636,
          -2.917162
         ],
         "y": [
          4.6483083,
          4.302957,
          4.32508,
          5.583511,
          5.820982,
          4.8496094,
          4.456058,
          4.421101,
          6.11458,
          5.898529,
          4.4377723,
          6.062332,
          5.0446377,
          4.463171,
          4.493669,
          4.415089,
          4.419543,
          5.8065367,
          4.711415,
          4.7745714,
          4.3492913,
          4.405176,
          4.4491568,
          4.8805685
         ]
        },
        {
         "hoverinfo": "text",
         "hovertext": [
          "rural areas tend to have limited infrastructure, meaning that it is impractical and uneconomical to deploy heat pump installations in every home.",
          "what is more, while a heat pump can technically be installed in all homes across the uk, and it should be in new build housing, in certain property types, such as those in rural and coastal communities like gower, they will not run efficiently and risk increasing energy bills to unnecessarily high levels for homeowners, above those they currently pay.",
          "in particular, in rural and especially coastal areas, air source heat pumps can be prone to rusting and decay.",
          "that we move to warm homes fuelled by heat pumps is welcome, but warm words are not enough.",
          "that is not an issue with new house building, because new houses are likely to have good enough energy efficiency to take a heat pump, but i am sure that the minister will be aware that heat pumps simply do not work very well in poorly insulated homes, as they struggle to get the house up to its required background temperature if their long-term slow input is continually leaking out due to the energy efficiency of the property.",
          "but the roll-out of these needs to be aligned with energy-efficient installations, because the heat pumps themselves do not work unless the homes are properly energy efficient.",
          "heat pumps will not work everywhere—some off-grid properties are simply too poorly insulated or have certain characteristics that would make installing the technology challenging.",
          "according to the government’s heat and buildings strategy, at least 20% of off-grid homes will not be suitable for heat pumps.",
          "gentleman asked whether heat pumps were effective in cases where properties are less well insulated.",
          "still on homes, heat pumps are increasing in popularity.",
          "heat pumps can operate efficiently and reduce heating costs for those who would otherwise be at the mercy of the oil market.",
          "i can tell him that current evidence suggests that heat pumps are technically suitable for most buildings; around 90% have sufficient energy efficiency and internal electrical connection capacity to accommodate a heat pump system, which is encouraging.",
          "friend taking to help bring down the cost of heat pumps so that they are more affordable for more people?",
          "as we look to decarbonise our heating systems, having an impartial advice service, as we do in scotland, will be critical when people have to consider key choices such as whether to purchase a new boiler, or when they are considering low carbon energy such as heat pumps.",
          "heat pumps work best in well-insulated and energy-efficient properties, which rural homes, sadly, tend not to be.",
          "friend work with me to ensure that we can get consumers the choices that they actually want, and not the heat pumps that many do not?",
          null
         ],
         "marker": {
          "opacity": 0.5,
          "size": 5
         },
         "mode": "markers+text",
         "name": "6_work_homes_rural",
         "text": [
          "",
          "",
          "",
          "",
          "",
          "",
          "",
          "",
          "",
          "",
          "",
          "",
          "",
          "",
          "",
          "",
          "6_work_homes_rural"
         ],
         "textfont": {
          "size": 12
         },
         "type": "scattergl",
         "x": [
          -4.5501556,
          -4.496926,
          -4.037332,
          -4.5208006,
          -4.167071,
          -4.1373734,
          -4.22676,
          -4.3216777,
          -4.08253,
          -4.3814807,
          -4.8274813,
          -4.025425,
          -4.849332,
          -4.9714856,
          -4.106287,
          -4.936054,
          -4.4148855
         ],
         "y": [
          6.894293,
          6.9752727,
          6.9806113,
          6.311953,
          6.872016,
          6.3889837,
          6.786359,
          6.847029,
          6.73427,
          6.28379,
          6.47279,
          6.72632,
          6.4794164,
          6.2749853,
          6.690938,
          6.4604654,
          6.6362185
         ]
        },
        {
         "hoverinfo": "text",
         "hovertext": [
          "is he aware of the enormous amount of people who need to be trained even to install heat pumps, which is the government’s current proposal?",
          "gas engineers must be retrained to deliver heat pumps, for example.",
          "we are confident that there is enough training capacity to meet demand for heat pump upskilling as heat pump deployment increases.",
          "the government envisage as many as 600,000 heat pumps being installed every year, yet heating companies in my constituency are struggling to train or recruit sufficient staff for that growth sector.",
          "we need to train the next generation of plumbers to install low-carbon heat pumps, and teach the next generation of chefs about sustainable diets and sustainable food production.",
          "on top of the expensive cost of heat pumps, there is a lack of skilled engineers available to install and manage them.",
          "they are trapped by the infrastructure that is there, because properties in new mill quarter do not have individual heating sources such as boilers or heat pumps.",
          "that could have provided the opportunity to train up the 180,000 workers we will need to install heat pumps.",
          "there are already excellent training options for aspiring heat pump installers, such as the level 3 heat pump engineering technician apprenticeship or the t-level in building services engineering for construction—both of which are backed by government funding.",
          "there is a massive shortage of heat pump engineers.",
          "given that the typical training period to become qualified in heat pump installation is 48 months, will the secretary of state clarify what steps are being taken to ensure that we have enough qualified people to meet the demand for heat pumps following the extension of the green homes grant outlined in the white paper and, in the longer term, to meet our net zero targets?",
          "i asked the department how long it would take to train someone to install heat pumps, and the answer was that an existing builder could take on skilled people and deliver that—",
          null
         ],
         "marker": {
          "opacity": 0.5,
          "size": 5
         },
         "mode": "markers+text",
         "name": "7_train_install_training",
         "text": [
          "",
          "",
          "",
          "",
          "",
          "",
          "",
          "",
          "",
          "",
          "",
          "",
          "7_train_install_training"
         ],
         "textfont": {
          "size": 12
         },
         "type": "scattergl",
         "x": [
          -6.378638,
          -6.332575,
          -6.4277463,
          -6.4647765,
          -6.2717953,
          -6.1927767,
          -6.1501822,
          -6.4007587,
          -6.3566465,
          -6.2282643,
          -6.4166336,
          -6.3622437,
          -6.331919
         ],
         "y": [
          5.5998454,
          5.923764,
          5.5516562,
          5.141461,
          5.9105973,
          5.963787,
          6.002966,
          5.588292,
          5.8823476,
          5.9318824,
          5.640969,
          5.8639016,
          5.750122
         ]
        },
        {
         "hoverinfo": "text",
         "hovertext": [
          "will it be electric heating, in the form of heat pumps or electric boilers?",
          "in many cases, a hybrid heat pump would be most appropriate, as they efficiently switch between renewable and fossil fuel.",
          "currently, 74% of homes rely on gas boilers for heating, but by 2035, up to 47% of homes could depend on electrically powered technologies such as heat pumps.",
          "part of the uncertainty for our constituents is a concern about everyday essentials, such as, “how do i clean my home?”, “do i need a heat pump?” and, even, “what is a heat pump?” green hydrogen blending uses the same pipe and boiler system already in our homes and is by far the simplest way of cutting our carbon emissions from heat, which currently run at nearly a quarter of our carbon dioxide output.",
          "friend the member for camborne and redruth (george eustice) tables, as it seems bewildering to me that we are requiring all off-grid properties to adopt air source or ground source heat pumps when we could enable those with oil boilers to convert to hydrogenated vegetable oil at a fraction of the cost.",
          "we will also encourage low carbon alternatives such as biomass, solar and heat pumps.",
          "we are therefore looking closely at the potential role of low-carbon heating solutions, such as high-temperature heat pumps, hybrid heat pumps, solid biomass or renewable liquid fuels.",
          "there are two basic choices, as we know: heat pumps or electric boilers on the one hand, and possibly heating our homes with hydrogen on the other.",
          "we need to ensure that as we transition away from heating systems predominantly run by gas—and in the domestic environment, by boilers—we can look forward to substantial replacement of those high-carbon heating measures by the low-carbon heating arrangements offered by heat pumps.",
          "hybrid heat pumps are a good middle ground; they ensure a reduction in carbon emissions without leaving people at the mercy of the weather or subject to power outages, yet the renewable heat incentive scheme no longer extends to hybrid heating systems, or any other systems that could have eased the transition to entirely electric heating.",
          null
         ],
         "marker": {
          "opacity": 0.5,
          "size": 5
         },
         "mode": "markers+text",
         "name": "8_heating_hybrid_carbon",
         "text": [
          "",
          "",
          "",
          "",
          "",
          "",
          "",
          "",
          "",
          "",
          "8_heating_hybrid_carbon"
         ],
         "textfont": {
          "size": 12
         },
         "type": "scattergl",
         "x": [
          -3.5935788,
          -3.4804482,
          -3.6206923,
          -3.240423,
          -2.7740748,
          -2.9082038,
          -3.1002655,
          -3.468365,
          -3.238642,
          -3.4680605,
          -3.2892754
         ],
         "y": [
          6.446217,
          6.3022995,
          6.560835,
          6.5383086,
          6.650735,
          6.5931168,
          6.775395,
          6.3554916,
          6.6877866,
          6.37832,
          6.5288506
         ]
        }
       ],
       "layout": {
        "annotations": [
         {
          "showarrow": false,
          "text": "D1",
          "x": -7.697113776206971,
          "y": 5.631786686182021,
          "yshift": 10
         },
         {
          "showarrow": false,
          "text": "D2",
          "x": -2.4423131525516513,
          "xshift": 10,
          "y": 9.476758670806884
         }
        ],
        "height": 500,
        "shapes": [
         {
          "line": {
           "color": "#CFD8DC",
           "width": 2
          },
          "type": "line",
          "x0": -2.4423131525516513,
          "x1": -2.4423131525516513,
          "y0": 1.7868147015571594,
          "y1": 9.476758670806884
         },
         {
          "line": {
           "color": "#9E9E9E",
           "width": 2
          },
          "type": "line",
          "x0": -7.697113776206971,
          "x1": 2.812487471103668,
          "y0": 5.631786686182021,
          "y1": 5.631786686182021
         }
        ],
        "template": {
         "data": {
          "bar": [
           {
            "error_x": {
             "color": "rgb(36,36,36)"
            },
            "error_y": {
             "color": "rgb(36,36,36)"
            },
            "marker": {
             "line": {
              "color": "white",
              "width": 0.5
             },
             "pattern": {
              "fillmode": "overlay",
              "size": 10,
              "solidity": 0.2
             }
            },
            "type": "bar"
           }
          ],
          "barpolar": [
           {
            "marker": {
             "line": {
              "color": "white",
              "width": 0.5
             },
             "pattern": {
              "fillmode": "overlay",
              "size": 10,
              "solidity": 0.2
             }
            },
            "type": "barpolar"
           }
          ],
          "carpet": [
           {
            "aaxis": {
             "endlinecolor": "rgb(36,36,36)",
             "gridcolor": "white",
             "linecolor": "white",
             "minorgridcolor": "white",
             "startlinecolor": "rgb(36,36,36)"
            },
            "baxis": {
             "endlinecolor": "rgb(36,36,36)",
             "gridcolor": "white",
             "linecolor": "white",
             "minorgridcolor": "white",
             "startlinecolor": "rgb(36,36,36)"
            },
            "type": "carpet"
           }
          ],
          "choropleth": [
           {
            "colorbar": {
             "outlinewidth": 1,
             "tickcolor": "rgb(36,36,36)",
             "ticks": "outside"
            },
            "type": "choropleth"
           }
          ],
          "contour": [
           {
            "colorbar": {
             "outlinewidth": 1,
             "tickcolor": "rgb(36,36,36)",
             "ticks": "outside"
            },
            "colorscale": [
             [
              0,
              "#440154"
             ],
             [
              0.1111111111111111,
              "#482878"
             ],
             [
              0.2222222222222222,
              "#3e4989"
             ],
             [
              0.3333333333333333,
              "#31688e"
             ],
             [
              0.4444444444444444,
              "#26828e"
             ],
             [
              0.5555555555555556,
              "#1f9e89"
             ],
             [
              0.6666666666666666,
              "#35b779"
             ],
             [
              0.7777777777777778,
              "#6ece58"
             ],
             [
              0.8888888888888888,
              "#b5de2b"
             ],
             [
              1,
              "#fde725"
             ]
            ],
            "type": "contour"
           }
          ],
          "contourcarpet": [
           {
            "colorbar": {
             "outlinewidth": 1,
             "tickcolor": "rgb(36,36,36)",
             "ticks": "outside"
            },
            "type": "contourcarpet"
           }
          ],
          "heatmap": [
           {
            "colorbar": {
             "outlinewidth": 1,
             "tickcolor": "rgb(36,36,36)",
             "ticks": "outside"
            },
            "colorscale": [
             [
              0,
              "#440154"
             ],
             [
              0.1111111111111111,
              "#482878"
             ],
             [
              0.2222222222222222,
              "#3e4989"
             ],
             [
              0.3333333333333333,
              "#31688e"
             ],
             [
              0.4444444444444444,
              "#26828e"
             ],
             [
              0.5555555555555556,
              "#1f9e89"
             ],
             [
              0.6666666666666666,
              "#35b779"
             ],
             [
              0.7777777777777778,
              "#6ece58"
             ],
             [
              0.8888888888888888,
              "#b5de2b"
             ],
             [
              1,
              "#fde725"
             ]
            ],
            "type": "heatmap"
           }
          ],
          "heatmapgl": [
           {
            "colorbar": {
             "outlinewidth": 1,
             "tickcolor": "rgb(36,36,36)",
             "ticks": "outside"
            },
            "colorscale": [
             [
              0,
              "#440154"
             ],
             [
              0.1111111111111111,
              "#482878"
             ],
             [
              0.2222222222222222,
              "#3e4989"
             ],
             [
              0.3333333333333333,
              "#31688e"
             ],
             [
              0.4444444444444444,
              "#26828e"
             ],
             [
              0.5555555555555556,
              "#1f9e89"
             ],
             [
              0.6666666666666666,
              "#35b779"
             ],
             [
              0.7777777777777778,
              "#6ece58"
             ],
             [
              0.8888888888888888,
              "#b5de2b"
             ],
             [
              1,
              "#fde725"
             ]
            ],
            "type": "heatmapgl"
           }
          ],
          "histogram": [
           {
            "marker": {
             "line": {
              "color": "white",
              "width": 0.6
             }
            },
            "type": "histogram"
           }
          ],
          "histogram2d": [
           {
            "colorbar": {
             "outlinewidth": 1,
             "tickcolor": "rgb(36,36,36)",
             "ticks": "outside"
            },
            "colorscale": [
             [
              0,
              "#440154"
             ],
             [
              0.1111111111111111,
              "#482878"
             ],
             [
              0.2222222222222222,
              "#3e4989"
             ],
             [
              0.3333333333333333,
              "#31688e"
             ],
             [
              0.4444444444444444,
              "#26828e"
             ],
             [
              0.5555555555555556,
              "#1f9e89"
             ],
             [
              0.6666666666666666,
              "#35b779"
             ],
             [
              0.7777777777777778,
              "#6ece58"
             ],
             [
              0.8888888888888888,
              "#b5de2b"
             ],
             [
              1,
              "#fde725"
             ]
            ],
            "type": "histogram2d"
           }
          ],
          "histogram2dcontour": [
           {
            "colorbar": {
             "outlinewidth": 1,
             "tickcolor": "rgb(36,36,36)",
             "ticks": "outside"
            },
            "colorscale": [
             [
              0,
              "#440154"
             ],
             [
              0.1111111111111111,
              "#482878"
             ],
             [
              0.2222222222222222,
              "#3e4989"
             ],
             [
              0.3333333333333333,
              "#31688e"
             ],
             [
              0.4444444444444444,
              "#26828e"
             ],
             [
              0.5555555555555556,
              "#1f9e89"
             ],
             [
              0.6666666666666666,
              "#35b779"
             ],
             [
              0.7777777777777778,
              "#6ece58"
             ],
             [
              0.8888888888888888,
              "#b5de2b"
             ],
             [
              1,
              "#fde725"
             ]
            ],
            "type": "histogram2dcontour"
           }
          ],
          "mesh3d": [
           {
            "colorbar": {
             "outlinewidth": 1,
             "tickcolor": "rgb(36,36,36)",
             "ticks": "outside"
            },
            "type": "mesh3d"
           }
          ],
          "parcoords": [
           {
            "line": {
             "colorbar": {
              "outlinewidth": 1,
              "tickcolor": "rgb(36,36,36)",
              "ticks": "outside"
             }
            },
            "type": "parcoords"
           }
          ],
          "pie": [
           {
            "automargin": true,
            "type": "pie"
           }
          ],
          "scatter": [
           {
            "fillpattern": {
             "fillmode": "overlay",
             "size": 10,
             "solidity": 0.2
            },
            "type": "scatter"
           }
          ],
          "scatter3d": [
           {
            "line": {
             "colorbar": {
              "outlinewidth": 1,
              "tickcolor": "rgb(36,36,36)",
              "ticks": "outside"
             }
            },
            "marker": {
             "colorbar": {
              "outlinewidth": 1,
              "tickcolor": "rgb(36,36,36)",
              "ticks": "outside"
             }
            },
            "type": "scatter3d"
           }
          ],
          "scattercarpet": [
           {
            "marker": {
             "colorbar": {
              "outlinewidth": 1,
              "tickcolor": "rgb(36,36,36)",
              "ticks": "outside"
             }
            },
            "type": "scattercarpet"
           }
          ],
          "scattergeo": [
           {
            "marker": {
             "colorbar": {
              "outlinewidth": 1,
              "tickcolor": "rgb(36,36,36)",
              "ticks": "outside"
             }
            },
            "type": "scattergeo"
           }
          ],
          "scattergl": [
           {
            "marker": {
             "colorbar": {
              "outlinewidth": 1,
              "tickcolor": "rgb(36,36,36)",
              "ticks": "outside"
             }
            },
            "type": "scattergl"
           }
          ],
          "scattermapbox": [
           {
            "marker": {
             "colorbar": {
              "outlinewidth": 1,
              "tickcolor": "rgb(36,36,36)",
              "ticks": "outside"
             }
            },
            "type": "scattermapbox"
           }
          ],
          "scatterpolar": [
           {
            "marker": {
             "colorbar": {
              "outlinewidth": 1,
              "tickcolor": "rgb(36,36,36)",
              "ticks": "outside"
             }
            },
            "type": "scatterpolar"
           }
          ],
          "scatterpolargl": [
           {
            "marker": {
             "colorbar": {
              "outlinewidth": 1,
              "tickcolor": "rgb(36,36,36)",
              "ticks": "outside"
             }
            },
            "type": "scatterpolargl"
           }
          ],
          "scatterternary": [
           {
            "marker": {
             "colorbar": {
              "outlinewidth": 1,
              "tickcolor": "rgb(36,36,36)",
              "ticks": "outside"
             }
            },
            "type": "scatterternary"
           }
          ],
          "surface": [
           {
            "colorbar": {
             "outlinewidth": 1,
             "tickcolor": "rgb(36,36,36)",
             "ticks": "outside"
            },
            "colorscale": [
             [
              0,
              "#440154"
             ],
             [
              0.1111111111111111,
              "#482878"
             ],
             [
              0.2222222222222222,
              "#3e4989"
             ],
             [
              0.3333333333333333,
              "#31688e"
             ],
             [
              0.4444444444444444,
              "#26828e"
             ],
             [
              0.5555555555555556,
              "#1f9e89"
             ],
             [
              0.6666666666666666,
              "#35b779"
             ],
             [
              0.7777777777777778,
              "#6ece58"
             ],
             [
              0.8888888888888888,
              "#b5de2b"
             ],
             [
              1,
              "#fde725"
             ]
            ],
            "type": "surface"
           }
          ],
          "table": [
           {
            "cells": {
             "fill": {
              "color": "rgb(237,237,237)"
             },
             "line": {
              "color": "white"
             }
            },
            "header": {
             "fill": {
              "color": "rgb(217,217,217)"
             },
             "line": {
              "color": "white"
             }
            },
            "type": "table"
           }
          ]
         },
         "layout": {
          "annotationdefaults": {
           "arrowhead": 0,
           "arrowwidth": 1
          },
          "autotypenumbers": "strict",
          "coloraxis": {
           "colorbar": {
            "outlinewidth": 1,
            "tickcolor": "rgb(36,36,36)",
            "ticks": "outside"
           }
          },
          "colorscale": {
           "diverging": [
            [
             0,
             "rgb(103,0,31)"
            ],
            [
             0.1,
             "rgb(178,24,43)"
            ],
            [
             0.2,
             "rgb(214,96,77)"
            ],
            [
             0.3,
             "rgb(244,165,130)"
            ],
            [
             0.4,
             "rgb(253,219,199)"
            ],
            [
             0.5,
             "rgb(247,247,247)"
            ],
            [
             0.6,
             "rgb(209,229,240)"
            ],
            [
             0.7,
             "rgb(146,197,222)"
            ],
            [
             0.8,
             "rgb(67,147,195)"
            ],
            [
             0.9,
             "rgb(33,102,172)"
            ],
            [
             1,
             "rgb(5,48,97)"
            ]
           ],
           "sequential": [
            [
             0,
             "#440154"
            ],
            [
             0.1111111111111111,
             "#482878"
            ],
            [
             0.2222222222222222,
             "#3e4989"
            ],
            [
             0.3333333333333333,
             "#31688e"
            ],
            [
             0.4444444444444444,
             "#26828e"
            ],
            [
             0.5555555555555556,
             "#1f9e89"
            ],
            [
             0.6666666666666666,
             "#35b779"
            ],
            [
             0.7777777777777778,
             "#6ece58"
            ],
            [
             0.8888888888888888,
             "#b5de2b"
            ],
            [
             1,
             "#fde725"
            ]
           ],
           "sequentialminus": [
            [
             0,
             "#440154"
            ],
            [
             0.1111111111111111,
             "#482878"
            ],
            [
             0.2222222222222222,
             "#3e4989"
            ],
            [
             0.3333333333333333,
             "#31688e"
            ],
            [
             0.4444444444444444,
             "#26828e"
            ],
            [
             0.5555555555555556,
             "#1f9e89"
            ],
            [
             0.6666666666666666,
             "#35b779"
            ],
            [
             0.7777777777777778,
             "#6ece58"
            ],
            [
             0.8888888888888888,
             "#b5de2b"
            ],
            [
             1,
             "#fde725"
            ]
           ]
          },
          "colorway": [
           "#1F77B4",
           "#FF7F0E",
           "#2CA02C",
           "#D62728",
           "#9467BD",
           "#8C564B",
           "#E377C2",
           "#7F7F7F",
           "#BCBD22",
           "#17BECF"
          ],
          "font": {
           "color": "rgb(36,36,36)"
          },
          "geo": {
           "bgcolor": "white",
           "lakecolor": "white",
           "landcolor": "white",
           "showlakes": true,
           "showland": true,
           "subunitcolor": "white"
          },
          "hoverlabel": {
           "align": "left"
          },
          "hovermode": "closest",
          "mapbox": {
           "style": "light"
          },
          "paper_bgcolor": "white",
          "plot_bgcolor": "white",
          "polar": {
           "angularaxis": {
            "gridcolor": "rgb(232,232,232)",
            "linecolor": "rgb(36,36,36)",
            "showgrid": false,
            "showline": true,
            "ticks": "outside"
           },
           "bgcolor": "white",
           "radialaxis": {
            "gridcolor": "rgb(232,232,232)",
            "linecolor": "rgb(36,36,36)",
            "showgrid": false,
            "showline": true,
            "ticks": "outside"
           }
          },
          "scene": {
           "xaxis": {
            "backgroundcolor": "white",
            "gridcolor": "rgb(232,232,232)",
            "gridwidth": 2,
            "linecolor": "rgb(36,36,36)",
            "showbackground": true,
            "showgrid": false,
            "showline": true,
            "ticks": "outside",
            "zeroline": false,
            "zerolinecolor": "rgb(36,36,36)"
           },
           "yaxis": {
            "backgroundcolor": "white",
            "gridcolor": "rgb(232,232,232)",
            "gridwidth": 2,
            "linecolor": "rgb(36,36,36)",
            "showbackground": true,
            "showgrid": false,
            "showline": true,
            "ticks": "outside",
            "zeroline": false,
            "zerolinecolor": "rgb(36,36,36)"
           },
           "zaxis": {
            "backgroundcolor": "white",
            "gridcolor": "rgb(232,232,232)",
            "gridwidth": 2,
            "linecolor": "rgb(36,36,36)",
            "showbackground": true,
            "showgrid": false,
            "showline": true,
            "ticks": "outside",
            "zeroline": false,
            "zerolinecolor": "rgb(36,36,36)"
           }
          },
          "shapedefaults": {
           "fillcolor": "black",
           "line": {
            "width": 0
           },
           "opacity": 0.3
          },
          "ternary": {
           "aaxis": {
            "gridcolor": "rgb(232,232,232)",
            "linecolor": "rgb(36,36,36)",
            "showgrid": false,
            "showline": true,
            "ticks": "outside"
           },
           "baxis": {
            "gridcolor": "rgb(232,232,232)",
            "linecolor": "rgb(36,36,36)",
            "showgrid": false,
            "showline": true,
            "ticks": "outside"
           },
           "bgcolor": "white",
           "caxis": {
            "gridcolor": "rgb(232,232,232)",
            "linecolor": "rgb(36,36,36)",
            "showgrid": false,
            "showline": true,
            "ticks": "outside"
           }
          },
          "title": {
           "x": 0.05
          },
          "xaxis": {
           "automargin": true,
           "gridcolor": "rgb(232,232,232)",
           "linecolor": "rgb(36,36,36)",
           "showgrid": false,
           "showline": true,
           "ticks": "outside",
           "title": {
            "standoff": 15
           },
           "zeroline": false,
           "zerolinecolor": "rgb(36,36,36)"
          },
          "yaxis": {
           "automargin": true,
           "gridcolor": "rgb(232,232,232)",
           "linecolor": "rgb(36,36,36)",
           "showgrid": false,
           "showline": true,
           "ticks": "outside",
           "title": {
            "standoff": 15
           },
           "zeroline": false,
           "zerolinecolor": "rgb(36,36,36)"
          }
         }
        },
        "title": {
         "font": {
          "color": "Black",
          "size": 22
         },
         "text": "<b>Documents and Topics</b>",
         "x": 0.5,
         "xanchor": "center",
         "yanchor": "top"
        },
        "width": 800,
        "xaxis": {
         "visible": false
        },
        "yaxis": {
         "visible": false
        }
       }
      }
     },
     "metadata": {},
     "output_type": "display_data"
    }
   ],
   "source": [
    "fig"
   ]
  },
  {
   "cell_type": "code",
   "execution_count": 47,
   "metadata": {},
   "outputs": [],
   "source": [
    "string_dates_hp_sentences = [str(item) for item in dates_hp_sentences]"
   ]
  },
  {
   "cell_type": "code",
   "execution_count": 48,
   "metadata": {},
   "outputs": [],
   "source": [
    "#apply dynamic topic modelling using BERTopic\n",
    "topics_over_time = topic_model.topics_over_time(heat_pump_sentences, string_dates_hp_sentences, nr_bins=20)\n"
   ]
  },
  {
   "cell_type": "code",
   "execution_count": 49,
   "metadata": {},
   "outputs": [
    {
     "data": {
      "application/vnd.plotly.v1+json": {
       "config": {
        "plotlyServerURL": "https://plot.ly"
       },
       "data": [
        {
         "hoverinfo": "text",
         "hovertext": [
          "<b>Topic 0</b><br>Words: ground, source, mysterioussounding, particular, place",
          "<b>Topic 0</b><br>Words: referred, respect, difference, groundsource, gentleman",
          "<b>Topic 0</b><br>Words: source, air, pumps, heat, 75",
          "<b>Topic 0</b><br>Words: ground, source, heat, pumps, sweden",
          "<b>Topic 0</b><br>Words: geothermal, spawned, rosemanowes, driver, penryn",
          "<b>Topic 0</b><br>Words: mains, starting, areas, council, rural",
          "<b>Topic 0</b><br>Words: earth, shallow, stored, generally, geothermal",
          "<b>Topic 0</b><br>Words: source, air, zerocarbon, happening, unit",
          "<b>Topic 0</b><br>Words: cheltenhams, germany, design, supplies, company",
          "<b>Topic 0</b><br>Words: waste, using, heat, ground, station",
          "<b>Topic 0</b><br>Words: solely, drawbacks, powered, air, particular",
          "<b>Topic 0</b><br>Words: ground, developer, source, heat, pump"
         ],
         "marker": {
          "color": "#E69F00"
         },
         "mode": "lines",
         "name": "0_ground_source_heat_pumps",
         "type": "scatter",
         "x": [
          "2006-05-16T10:48:00",
          "2008-04-04T08:24:00",
          "2009-03-14T19:12:00",
          "2010-02-22T06:00:00",
          "2012-01-12T03:36:00",
          "2012-12-21T14:24:00",
          "2017-09-08T20:24:00",
          "2018-08-19T07:12:00",
          "2019-07-29T18:00:00",
          "2021-06-17T15:36:00",
          "2022-05-28T02:24:00",
          "2023-05-07T13:12:00"
         ],
         "y": [
          5,
          4,
          4,
          11,
          1,
          1,
          1,
          3,
          2,
          3,
          2,
          6
         ]
        },
        {
         "hoverinfo": "text",
         "hovertext": [
          "<b>Topic 1</b><br>Words: installed, 2006, 2007, 44000, approximately",
          "<b>Topic 1</b><br>Words: 600000, 10point, installations, plan, year",
          "<b>Topic 1</b><br>Words: 600000, year, 2028, target, heat",
          "<b>Topic 1</b><br>Words: compared, 60000, aims, approximately, 600000",
          "<b>Topic 1</b><br>Words: 600000, 2028, year, installations, reduce"
         ],
         "marker": {
          "color": "#56B4E9"
         },
         "mode": "lines",
         "name": "1_600000_year_2028_target",
         "type": "scatter",
         "x": [
          "2008-04-04T08:24:00",
          "2020-07-08T04:48:00",
          "2021-06-17T15:36:00",
          "2022-05-28T02:24:00",
          "2023-05-07T13:12:00"
         ],
         "y": [
          1,
          6,
          24,
          2,
          5
         ]
        },
        {
         "hoverinfo": "text",
         "hovertext": [
          "<b>Topic 2</b><br>Words: microhydroelectric, methods, complete, microcombined, list",
          "<b>Topic 2</b><br>Words: voltaics, forms, obviously, district, turbines",
          "<b>Topic 2</b><br>Words: devices, learned, orders, urgently, inclusion",
          "<b>Topic 2</b><br>Words: wind, turbines, micro, air, source",
          "<b>Topic 2</b><br>Words: energy, incentive, efficiency, renewable, source",
          "<b>Topic 2</b><br>Words: wind, turbines, air, tev, appreciative"
         ],
         "marker": {
          "color": "#009E73"
         },
         "mode": "lines",
         "name": "2_wind_turbines_air_source",
         "type": "scatter",
         "x": [
          "2005-05-30T02:39:50.400000",
          "2006-05-16T10:48:00",
          "2008-04-04T08:24:00",
          "2009-03-14T19:12:00",
          "2010-02-22T06:00:00",
          "2011-02-01T16:48:00"
         ],
         "y": [
          2,
          1,
          1,
          20,
          2,
          4
         ]
        },
        {
         "hoverinfo": "text",
         "hovertext": [
          "<b>Topic 3</b><br>Words: years, 7800, 37, 4500, long",
          "<b>Topic 3</b><br>Words: money, available, green, year, semidetached",
          "<b>Topic 3</b><br>Words: 860, furthermore, range, introduced, significant",
          "<b>Topic 3</b><br>Words: fully, fitting, insulating, say, retrofitting",
          "<b>Topic 3</b><br>Words: make, cost, roughly, little, earmarked",
          "<b>Topic 3</b><br>Words: insulation, step, cost, heat, make",
          "<b>Topic 3</b><br>Words: billion, funding, replaced, excess, 750000",
          "<b>Topic 3</b><br>Words: pump, cost, uk, heat, pounds"
         ],
         "marker": {
          "color": "#F0E442"
         },
         "mode": "lines",
         "name": "3_cost_heat_pump_insulation",
         "type": "scatter",
         "x": [
          "2008-04-04T08:24:00",
          "2010-02-22T06:00:00",
          "2011-02-01T16:48:00",
          "2012-12-21T14:24:00",
          "2020-07-08T04:48:00",
          "2021-06-17T15:36:00",
          "2022-05-28T02:24:00",
          "2023-05-07T13:12:00"
         ],
         "y": [
          1,
          2,
          1,
          1,
          3,
          8,
          3,
          10
         ]
        },
        {
         "hoverinfo": "text",
         "hovertext": [
          "<b>Topic 4</b><br>Words: 1200, eligible, grant, ground, source",
          "<b>Topic 4</b><br>Words: outwith, reach, grants, smallscale, renewables",
          "<b>Topic 4</b><br>Words: payments, guarantee, biomass, source, install",
          "<b>Topic 4</b><br>Words: grants, 5000, upgrade, grant, scheme",
          "<b>Topic 4</b><br>Words: grants, 5000, constitute, 23, 8000",
          "<b>Topic 4</b><br>Words: grants, 5000, upgrade, grant, boiler"
         ],
         "marker": {
          "color": "#D55E00"
         },
         "mode": "lines",
         "name": "4_grants_5000_grant_upgrade",
         "type": "scatter",
         "x": [
          "2008-04-04T08:24:00",
          "2009-03-14T19:12:00",
          "2010-02-22T06:00:00",
          "2021-06-17T15:36:00",
          "2022-05-28T02:24:00",
          "2023-05-07T13:12:00"
         ],
         "y": [
          1,
          1,
          1,
          12,
          1,
          8
         ]
        },
        {
         "hoverinfo": "text",
         "hovertext": [
          "<b>Topic 5</b><br>Words: innovative, producer, countryand, debating, airsourced",
          "<b>Topic 5</b><br>Words: association, builders, union, federation, institution",
          "<b>Topic 5</b><br>Words: granted, householders, progress, rights, permitted",
          "<b>Topic 5</b><br>Words: grateful, review, tariff, consultation, urgently",
          "<b>Topic 5</b><br>Words: targeted, initially, rollout, talking, grid",
          "<b>Topic 5</b><br>Words: minister, pumps, including, heat, strategy",
          "<b>Topic 5</b><br>Words: young, estate, jobs, retrofitting, people",
          "<b>Topic 5</b><br>Words: minister, electric, consider, impact, reduce"
         ],
         "marker": {
          "color": "#0072B2"
         },
         "mode": "lines",
         "name": "5_minister_pumps_heat_panels",
         "type": "scatter",
         "x": [
          "2006-05-16T10:48:00",
          "2008-04-04T08:24:00",
          "2009-03-14T19:12:00",
          "2010-02-22T06:00:00",
          "2020-07-08T04:48:00",
          "2021-06-17T15:36:00",
          "2022-05-28T02:24:00",
          "2023-05-07T13:12:00"
         ],
         "y": [
          1,
          2,
          1,
          1,
          1,
          8,
          3,
          6
         ]
        },
        {
         "hoverinfo": "text",
         "hovertext": [
          "<b>Topic 6</b><br>Words: operate, efficiently, mercy, oil, reduce",
          "<b>Topic 6</b><br>Words: popularity, increasing, homes, pumps, heat",
          "<b>Topic 6</b><br>Words: aligned, properly, unless, energyefficient, rollout",
          "<b>Topic 6</b><br>Words: insulated, energy, efficiency, warm, homes",
          "<b>Topic 6</b><br>Words: taking, affordable, friend, bring, help",
          "<b>Topic 6</b><br>Words: rural, work, coastal, tend, homes"
         ],
         "marker": {
          "color": "#CC79A7"
         },
         "mode": "lines",
         "name": "6_work_homes_rural_heat",
         "type": "scatter",
         "x": [
          "2016-09-29T09:36:00",
          "2018-08-19T07:12:00",
          "2020-07-08T04:48:00",
          "2021-06-17T15:36:00",
          "2022-05-28T02:24:00",
          "2023-05-07T13:12:00"
         ],
         "y": [
          1,
          1,
          1,
          5,
          1,
          7
         ]
        },
        {
         "hoverinfo": "text",
         "hovertext": [
          "<b>Topic 7</b><br>Words: qualified, meet, train, training, skilled",
          "<b>Topic 7</b><br>Words: train, install, sustainable, generation, need",
          "<b>Topic 7</b><br>Words: training, engineering, train, pump, meet",
          "<b>Topic 7</b><br>Words: engineers, retrained, lack, shortage, skilled"
         ],
         "marker": {
          "color": "#E69F00"
         },
         "mode": "lines",
         "name": "7_train_install_training_engineers",
         "type": "scatter",
         "x": [
          "2020-07-08T04:48:00",
          "2021-06-17T15:36:00",
          "2022-05-28T02:24:00",
          "2023-05-07T13:12:00"
         ],
         "y": [
          2,
          4,
          3,
          3
         ]
        },
        {
         "hoverinfo": "text",
         "hovertext": [
          "<b>Topic 8</b><br>Words: alternatives, encourage, low, carbon, biomass",
          "<b>Topic 8</b><br>Words: heating, gasand, basic, environment, offered",
          "<b>Topic 8</b><br>Words: hybrid, heating, carbon, electric, boilers"
         ],
         "marker": {
          "color": "#56B4E9"
         },
         "mode": "lines",
         "name": "8_heating_hybrid_carbon_electric",
         "type": "scatter",
         "x": [
          "2006-05-16T10:48:00",
          "2021-06-17T15:36:00",
          "2023-05-07T13:12:00"
         ],
         "y": [
          1,
          2,
          7
         ]
        }
       ],
       "layout": {
        "height": 450,
        "hoverlabel": {
         "bgcolor": "white",
         "font": {
          "family": "Rockwell",
          "size": 16
         }
        },
        "legend": {
         "title": {
          "text": "<b>Global Topic Representation"
         }
        },
        "template": {
         "data": {
          "bar": [
           {
            "error_x": {
             "color": "rgb(36,36,36)"
            },
            "error_y": {
             "color": "rgb(36,36,36)"
            },
            "marker": {
             "line": {
              "color": "white",
              "width": 0.5
             },
             "pattern": {
              "fillmode": "overlay",
              "size": 10,
              "solidity": 0.2
             }
            },
            "type": "bar"
           }
          ],
          "barpolar": [
           {
            "marker": {
             "line": {
              "color": "white",
              "width": 0.5
             },
             "pattern": {
              "fillmode": "overlay",
              "size": 10,
              "solidity": 0.2
             }
            },
            "type": "barpolar"
           }
          ],
          "carpet": [
           {
            "aaxis": {
             "endlinecolor": "rgb(36,36,36)",
             "gridcolor": "white",
             "linecolor": "white",
             "minorgridcolor": "white",
             "startlinecolor": "rgb(36,36,36)"
            },
            "baxis": {
             "endlinecolor": "rgb(36,36,36)",
             "gridcolor": "white",
             "linecolor": "white",
             "minorgridcolor": "white",
             "startlinecolor": "rgb(36,36,36)"
            },
            "type": "carpet"
           }
          ],
          "choropleth": [
           {
            "colorbar": {
             "outlinewidth": 1,
             "tickcolor": "rgb(36,36,36)",
             "ticks": "outside"
            },
            "type": "choropleth"
           }
          ],
          "contour": [
           {
            "colorbar": {
             "outlinewidth": 1,
             "tickcolor": "rgb(36,36,36)",
             "ticks": "outside"
            },
            "colorscale": [
             [
              0,
              "#440154"
             ],
             [
              0.1111111111111111,
              "#482878"
             ],
             [
              0.2222222222222222,
              "#3e4989"
             ],
             [
              0.3333333333333333,
              "#31688e"
             ],
             [
              0.4444444444444444,
              "#26828e"
             ],
             [
              0.5555555555555556,
              "#1f9e89"
             ],
             [
              0.6666666666666666,
              "#35b779"
             ],
             [
              0.7777777777777778,
              "#6ece58"
             ],
             [
              0.8888888888888888,
              "#b5de2b"
             ],
             [
              1,
              "#fde725"
             ]
            ],
            "type": "contour"
           }
          ],
          "contourcarpet": [
           {
            "colorbar": {
             "outlinewidth": 1,
             "tickcolor": "rgb(36,36,36)",
             "ticks": "outside"
            },
            "type": "contourcarpet"
           }
          ],
          "heatmap": [
           {
            "colorbar": {
             "outlinewidth": 1,
             "tickcolor": "rgb(36,36,36)",
             "ticks": "outside"
            },
            "colorscale": [
             [
              0,
              "#440154"
             ],
             [
              0.1111111111111111,
              "#482878"
             ],
             [
              0.2222222222222222,
              "#3e4989"
             ],
             [
              0.3333333333333333,
              "#31688e"
             ],
             [
              0.4444444444444444,
              "#26828e"
             ],
             [
              0.5555555555555556,
              "#1f9e89"
             ],
             [
              0.6666666666666666,
              "#35b779"
             ],
             [
              0.7777777777777778,
              "#6ece58"
             ],
             [
              0.8888888888888888,
              "#b5de2b"
             ],
             [
              1,
              "#fde725"
             ]
            ],
            "type": "heatmap"
           }
          ],
          "heatmapgl": [
           {
            "colorbar": {
             "outlinewidth": 1,
             "tickcolor": "rgb(36,36,36)",
             "ticks": "outside"
            },
            "colorscale": [
             [
              0,
              "#440154"
             ],
             [
              0.1111111111111111,
              "#482878"
             ],
             [
              0.2222222222222222,
              "#3e4989"
             ],
             [
              0.3333333333333333,
              "#31688e"
             ],
             [
              0.4444444444444444,
              "#26828e"
             ],
             [
              0.5555555555555556,
              "#1f9e89"
             ],
             [
              0.6666666666666666,
              "#35b779"
             ],
             [
              0.7777777777777778,
              "#6ece58"
             ],
             [
              0.8888888888888888,
              "#b5de2b"
             ],
             [
              1,
              "#fde725"
             ]
            ],
            "type": "heatmapgl"
           }
          ],
          "histogram": [
           {
            "marker": {
             "line": {
              "color": "white",
              "width": 0.6
             }
            },
            "type": "histogram"
           }
          ],
          "histogram2d": [
           {
            "colorbar": {
             "outlinewidth": 1,
             "tickcolor": "rgb(36,36,36)",
             "ticks": "outside"
            },
            "colorscale": [
             [
              0,
              "#440154"
             ],
             [
              0.1111111111111111,
              "#482878"
             ],
             [
              0.2222222222222222,
              "#3e4989"
             ],
             [
              0.3333333333333333,
              "#31688e"
             ],
             [
              0.4444444444444444,
              "#26828e"
             ],
             [
              0.5555555555555556,
              "#1f9e89"
             ],
             [
              0.6666666666666666,
              "#35b779"
             ],
             [
              0.7777777777777778,
              "#6ece58"
             ],
             [
              0.8888888888888888,
              "#b5de2b"
             ],
             [
              1,
              "#fde725"
             ]
            ],
            "type": "histogram2d"
           }
          ],
          "histogram2dcontour": [
           {
            "colorbar": {
             "outlinewidth": 1,
             "tickcolor": "rgb(36,36,36)",
             "ticks": "outside"
            },
            "colorscale": [
             [
              0,
              "#440154"
             ],
             [
              0.1111111111111111,
              "#482878"
             ],
             [
              0.2222222222222222,
              "#3e4989"
             ],
             [
              0.3333333333333333,
              "#31688e"
             ],
             [
              0.4444444444444444,
              "#26828e"
             ],
             [
              0.5555555555555556,
              "#1f9e89"
             ],
             [
              0.6666666666666666,
              "#35b779"
             ],
             [
              0.7777777777777778,
              "#6ece58"
             ],
             [
              0.8888888888888888,
              "#b5de2b"
             ],
             [
              1,
              "#fde725"
             ]
            ],
            "type": "histogram2dcontour"
           }
          ],
          "mesh3d": [
           {
            "colorbar": {
             "outlinewidth": 1,
             "tickcolor": "rgb(36,36,36)",
             "ticks": "outside"
            },
            "type": "mesh3d"
           }
          ],
          "parcoords": [
           {
            "line": {
             "colorbar": {
              "outlinewidth": 1,
              "tickcolor": "rgb(36,36,36)",
              "ticks": "outside"
             }
            },
            "type": "parcoords"
           }
          ],
          "pie": [
           {
            "automargin": true,
            "type": "pie"
           }
          ],
          "scatter": [
           {
            "fillpattern": {
             "fillmode": "overlay",
             "size": 10,
             "solidity": 0.2
            },
            "type": "scatter"
           }
          ],
          "scatter3d": [
           {
            "line": {
             "colorbar": {
              "outlinewidth": 1,
              "tickcolor": "rgb(36,36,36)",
              "ticks": "outside"
             }
            },
            "marker": {
             "colorbar": {
              "outlinewidth": 1,
              "tickcolor": "rgb(36,36,36)",
              "ticks": "outside"
             }
            },
            "type": "scatter3d"
           }
          ],
          "scattercarpet": [
           {
            "marker": {
             "colorbar": {
              "outlinewidth": 1,
              "tickcolor": "rgb(36,36,36)",
              "ticks": "outside"
             }
            },
            "type": "scattercarpet"
           }
          ],
          "scattergeo": [
           {
            "marker": {
             "colorbar": {
              "outlinewidth": 1,
              "tickcolor": "rgb(36,36,36)",
              "ticks": "outside"
             }
            },
            "type": "scattergeo"
           }
          ],
          "scattergl": [
           {
            "marker": {
             "colorbar": {
              "outlinewidth": 1,
              "tickcolor": "rgb(36,36,36)",
              "ticks": "outside"
             }
            },
            "type": "scattergl"
           }
          ],
          "scattermapbox": [
           {
            "marker": {
             "colorbar": {
              "outlinewidth": 1,
              "tickcolor": "rgb(36,36,36)",
              "ticks": "outside"
             }
            },
            "type": "scattermapbox"
           }
          ],
          "scatterpolar": [
           {
            "marker": {
             "colorbar": {
              "outlinewidth": 1,
              "tickcolor": "rgb(36,36,36)",
              "ticks": "outside"
             }
            },
            "type": "scatterpolar"
           }
          ],
          "scatterpolargl": [
           {
            "marker": {
             "colorbar": {
              "outlinewidth": 1,
              "tickcolor": "rgb(36,36,36)",
              "ticks": "outside"
             }
            },
            "type": "scatterpolargl"
           }
          ],
          "scatterternary": [
           {
            "marker": {
             "colorbar": {
              "outlinewidth": 1,
              "tickcolor": "rgb(36,36,36)",
              "ticks": "outside"
             }
            },
            "type": "scatterternary"
           }
          ],
          "surface": [
           {
            "colorbar": {
             "outlinewidth": 1,
             "tickcolor": "rgb(36,36,36)",
             "ticks": "outside"
            },
            "colorscale": [
             [
              0,
              "#440154"
             ],
             [
              0.1111111111111111,
              "#482878"
             ],
             [
              0.2222222222222222,
              "#3e4989"
             ],
             [
              0.3333333333333333,
              "#31688e"
             ],
             [
              0.4444444444444444,
              "#26828e"
             ],
             [
              0.5555555555555556,
              "#1f9e89"
             ],
             [
              0.6666666666666666,
              "#35b779"
             ],
             [
              0.7777777777777778,
              "#6ece58"
             ],
             [
              0.8888888888888888,
              "#b5de2b"
             ],
             [
              1,
              "#fde725"
             ]
            ],
            "type": "surface"
           }
          ],
          "table": [
           {
            "cells": {
             "fill": {
              "color": "rgb(237,237,237)"
             },
             "line": {
              "color": "white"
             }
            },
            "header": {
             "fill": {
              "color": "rgb(217,217,217)"
             },
             "line": {
              "color": "white"
             }
            },
            "type": "table"
           }
          ]
         },
         "layout": {
          "annotationdefaults": {
           "arrowhead": 0,
           "arrowwidth": 1
          },
          "autotypenumbers": "strict",
          "coloraxis": {
           "colorbar": {
            "outlinewidth": 1,
            "tickcolor": "rgb(36,36,36)",
            "ticks": "outside"
           }
          },
          "colorscale": {
           "diverging": [
            [
             0,
             "rgb(103,0,31)"
            ],
            [
             0.1,
             "rgb(178,24,43)"
            ],
            [
             0.2,
             "rgb(214,96,77)"
            ],
            [
             0.3,
             "rgb(244,165,130)"
            ],
            [
             0.4,
             "rgb(253,219,199)"
            ],
            [
             0.5,
             "rgb(247,247,247)"
            ],
            [
             0.6,
             "rgb(209,229,240)"
            ],
            [
             0.7,
             "rgb(146,197,222)"
            ],
            [
             0.8,
             "rgb(67,147,195)"
            ],
            [
             0.9,
             "rgb(33,102,172)"
            ],
            [
             1,
             "rgb(5,48,97)"
            ]
           ],
           "sequential": [
            [
             0,
             "#440154"
            ],
            [
             0.1111111111111111,
             "#482878"
            ],
            [
             0.2222222222222222,
             "#3e4989"
            ],
            [
             0.3333333333333333,
             "#31688e"
            ],
            [
             0.4444444444444444,
             "#26828e"
            ],
            [
             0.5555555555555556,
             "#1f9e89"
            ],
            [
             0.6666666666666666,
             "#35b779"
            ],
            [
             0.7777777777777778,
             "#6ece58"
            ],
            [
             0.8888888888888888,
             "#b5de2b"
            ],
            [
             1,
             "#fde725"
            ]
           ],
           "sequentialminus": [
            [
             0,
             "#440154"
            ],
            [
             0.1111111111111111,
             "#482878"
            ],
            [
             0.2222222222222222,
             "#3e4989"
            ],
            [
             0.3333333333333333,
             "#31688e"
            ],
            [
             0.4444444444444444,
             "#26828e"
            ],
            [
             0.5555555555555556,
             "#1f9e89"
            ],
            [
             0.6666666666666666,
             "#35b779"
            ],
            [
             0.7777777777777778,
             "#6ece58"
            ],
            [
             0.8888888888888888,
             "#b5de2b"
            ],
            [
             1,
             "#fde725"
            ]
           ]
          },
          "colorway": [
           "#1F77B4",
           "#FF7F0E",
           "#2CA02C",
           "#D62728",
           "#9467BD",
           "#8C564B",
           "#E377C2",
           "#7F7F7F",
           "#BCBD22",
           "#17BECF"
          ],
          "font": {
           "color": "rgb(36,36,36)"
          },
          "geo": {
           "bgcolor": "white",
           "lakecolor": "white",
           "landcolor": "white",
           "showlakes": true,
           "showland": true,
           "subunitcolor": "white"
          },
          "hoverlabel": {
           "align": "left"
          },
          "hovermode": "closest",
          "mapbox": {
           "style": "light"
          },
          "paper_bgcolor": "white",
          "plot_bgcolor": "white",
          "polar": {
           "angularaxis": {
            "gridcolor": "rgb(232,232,232)",
            "linecolor": "rgb(36,36,36)",
            "showgrid": false,
            "showline": true,
            "ticks": "outside"
           },
           "bgcolor": "white",
           "radialaxis": {
            "gridcolor": "rgb(232,232,232)",
            "linecolor": "rgb(36,36,36)",
            "showgrid": false,
            "showline": true,
            "ticks": "outside"
           }
          },
          "scene": {
           "xaxis": {
            "backgroundcolor": "white",
            "gridcolor": "rgb(232,232,232)",
            "gridwidth": 2,
            "linecolor": "rgb(36,36,36)",
            "showbackground": true,
            "showgrid": false,
            "showline": true,
            "ticks": "outside",
            "zeroline": false,
            "zerolinecolor": "rgb(36,36,36)"
           },
           "yaxis": {
            "backgroundcolor": "white",
            "gridcolor": "rgb(232,232,232)",
            "gridwidth": 2,
            "linecolor": "rgb(36,36,36)",
            "showbackground": true,
            "showgrid": false,
            "showline": true,
            "ticks": "outside",
            "zeroline": false,
            "zerolinecolor": "rgb(36,36,36)"
           },
           "zaxis": {
            "backgroundcolor": "white",
            "gridcolor": "rgb(232,232,232)",
            "gridwidth": 2,
            "linecolor": "rgb(36,36,36)",
            "showbackground": true,
            "showgrid": false,
            "showline": true,
            "ticks": "outside",
            "zeroline": false,
            "zerolinecolor": "rgb(36,36,36)"
           }
          },
          "shapedefaults": {
           "fillcolor": "black",
           "line": {
            "width": 0
           },
           "opacity": 0.3
          },
          "ternary": {
           "aaxis": {
            "gridcolor": "rgb(232,232,232)",
            "linecolor": "rgb(36,36,36)",
            "showgrid": false,
            "showline": true,
            "ticks": "outside"
           },
           "baxis": {
            "gridcolor": "rgb(232,232,232)",
            "linecolor": "rgb(36,36,36)",
            "showgrid": false,
            "showline": true,
            "ticks": "outside"
           },
           "bgcolor": "white",
           "caxis": {
            "gridcolor": "rgb(232,232,232)",
            "linecolor": "rgb(36,36,36)",
            "showgrid": false,
            "showline": true,
            "ticks": "outside"
           }
          },
          "title": {
           "x": 0.05
          },
          "xaxis": {
           "automargin": true,
           "gridcolor": "rgb(232,232,232)",
           "linecolor": "rgb(36,36,36)",
           "showgrid": false,
           "showline": true,
           "ticks": "outside",
           "title": {
            "standoff": 15
           },
           "zeroline": false,
           "zerolinecolor": "rgb(36,36,36)"
          },
          "yaxis": {
           "automargin": true,
           "gridcolor": "rgb(232,232,232)",
           "linecolor": "rgb(36,36,36)",
           "showgrid": false,
           "showline": true,
           "ticks": "outside",
           "title": {
            "standoff": 15
           },
           "zeroline": false,
           "zerolinecolor": "rgb(36,36,36)"
          }
         }
        },
        "title": {
         "font": {
          "color": "Black",
          "size": 22
         },
         "text": "<b>Topics over Time</b>",
         "x": 0.4,
         "xanchor": "center",
         "y": 0.95,
         "yanchor": "top"
        },
        "width": 1250,
        "xaxis": {
         "showgrid": true
        },
        "yaxis": {
         "showgrid": true,
         "title": {
          "text": "Frequency"
         }
        }
       }
      }
     },
     "metadata": {},
     "output_type": "display_data"
    }
   ],
   "source": [
    "topic_model.visualize_topics_over_time(topics_over_time)"
   ]
  }
 ],
 "metadata": {
  "kernelspec": {
   "display_name": ".venv",
   "language": "python",
   "name": "python3"
  },
  "language_info": {
   "codemirror_mode": {
    "name": "ipython",
    "version": 3
   },
   "file_extension": ".py",
   "mimetype": "text/x-python",
   "name": "python",
   "nbconvert_exporter": "python",
   "pygments_lexer": "ipython3",
   "version": "3.10.11"
  }
 },
 "nbformat": 4,
 "nbformat_minor": 2
}
